{
 "cells": [
  {
   "cell_type": "code",
   "execution_count": 1,
   "metadata": {
    "ExecuteTime": {
     "end_time": "2018-04-25T12:21:11.956708Z",
     "start_time": "2018-04-25T12:21:11.946701Z"
    }
   },
   "outputs": [],
   "source": [
    "import findspark\n",
    "findspark.init()"
   ]
  },
  {
   "cell_type": "code",
   "execution_count": 2,
   "metadata": {
    "ExecuteTime": {
     "end_time": "2018-04-25T12:21:14.029957Z",
     "start_time": "2018-04-25T12:21:13.658187Z"
    }
   },
   "outputs": [],
   "source": [
    "import time\n",
    "import pyspark\n",
    "from pyspark.sql import SparkSession\n",
    "from pyspark.sql.types import StructField, StructType, StringType, DateType, FloatType, IntegerType\n",
    "import string\n",
    "import html\n",
    "import itertools"
   ]
  },
  {
   "cell_type": "code",
   "execution_count": 3,
   "metadata": {
    "ExecuteTime": {
     "end_time": "2018-04-25T12:21:24.989444Z",
     "start_time": "2018-04-25T12:21:15.566683Z"
    }
   },
   "outputs": [
    {
     "name": "stdout",
     "output_type": "stream",
     "text": [
      "spark init time: 9.41675615310669s\n"
     ]
    }
   ],
   "source": [
    "start_time = time.time()\n",
    "APP_NAME = 'hw3'\n",
    "NAMENODE_ADDR = '127.0.0.1:19000'\n",
    "DIR_PATH = '/hw3'\n",
    "sc = pyspark.SparkContext(appName=APP_NAME)\n",
    "spark = SparkSession.builder.appName(APP_NAME).getOrCreate()\n",
    "print('spark init time: {}s'.format(time.time() - start_time))"
   ]
  },
  {
   "cell_type": "code",
   "execution_count": 29,
   "metadata": {
    "ExecuteTime": {
     "end_time": "2018-04-24T16:57:03.848990Z",
     "start_time": "2018-04-24T16:56:59.307230Z"
    }
   },
   "outputs": [],
   "source": [
    "def reuters21578_parser(row):\n",
    "    text = row[1]\n",
    "    start = False\n",
    "    start_idx = -1\n",
    "    news = []\n",
    "    for i in range(len(text)):\n",
    "        if not start:\n",
    "            if text[i:i + 6] == '<BODY>':\n",
    "                start_idx = i + 6\n",
    "                start = True\n",
    "        else:\n",
    "            if text[i:i + 7] == '</BODY>':\n",
    "                news.append(text[start_idx:i])\n",
    "                start = False\n",
    "    return news\n",
    "\n",
    "text_files = []\n",
    "for i in range(22):\n",
    "    text_file = sc.textFile('hdfs://{}{}/{}'.format(NAMENODE_ADDR, DIR_PATH, 'reut2-{0:0>3}.sgm'.format(i)))\n",
    "    text_file = text_file.map(lambda x: (1, x)).reduceByKey(lambda a, b: a + b).flatMap(reuters21578_parser)\n",
    "    text_files.append(text_file)\n",
    "news_rdd = sc.union(text_files)"
   ]
  },
  {
   "cell_type": "code",
   "execution_count": 65,
   "metadata": {
    "ExecuteTime": {
     "end_time": "2018-04-24T17:49:11.856696Z",
     "start_time": "2018-04-24T17:49:11.829677Z"
    }
   },
   "outputs": [],
   "source": [
    "trantab = str.maketrans(\"'\", \"’\")\n",
    "strip_chars = ' –…' + string.punctuation\n",
    "def tokenizer(sentence):\n",
    "    result = []\n",
    "    for token in html.unescape(str(sentence)).split():\n",
    "        token = token.lower()\n",
    "        token = token.strip(strip_chars)\n",
    "        if not token.isalpha():\n",
    "            continue\n",
    "        length = len(token)\n",
    "        if length < 1 or length > 26:\n",
    "            continue\n",
    "        result.append(token)\n",
    "    return result\n",
    "\n",
    "\n",
    "def k_shingle(text, k):\n",
    "    string = ' '.join(tokenizer(text))\n",
    "    shingles = set([])\n",
    "    for i in range(len(string)-k + 1):\n",
    "        shingles.add(string[i:i+k])\n",
    "    return shingles\n",
    "shingled_news_rdd = news_rdd.map(lambda x: k_shingle(x, 5))"
   ]
  },
  {
   "cell_type": "code",
   "execution_count": 66,
   "metadata": {
    "ExecuteTime": {
     "end_time": "2018-04-24T17:49:17.875362Z",
     "start_time": "2018-04-24T17:49:13.265213Z"
    }
   },
   "outputs": [],
   "source": [
    "shingles = list(shingled_news_rdd.reduce(lambda a, b: a.union(b)))\n",
    "shingles_count = len(shingles)"
   ]
  },
  {
   "cell_type": "code",
   "execution_count": 68,
   "metadata": {
    "ExecuteTime": {
     "end_time": "2018-04-24T17:49:39.756576Z",
     "start_time": "2018-04-24T17:49:39.750571Z"
    }
   },
   "outputs": [],
   "source": [
    "def encode_shingles(row):\n",
    "    vector = [0] * shingles_count \n",
    "    for shingle, idx in zip(shingles, range(shingles_count)):\n",
    "        if shingle in row:\n",
    "            vector[idx] = 1\n",
    "    return vector"
   ]
  },
  {
   "cell_type": "code",
   "execution_count": 80,
   "metadata": {
    "ExecuteTime": {
     "end_time": "2018-04-24T18:31:10.754417Z",
     "start_time": "2018-04-24T18:31:08.154470Z"
    }
   },
   "outputs": [],
   "source": [
    "encoded_news_rdd = shingled_news_rdd.map(encode_shingles)\n",
    "# encoded_news = encoded_news_rdd.toDF(shingles)"
   ]
  },
  {
   "cell_type": "code",
   "execution_count": 70,
   "metadata": {
    "ExecuteTime": {
     "end_time": "2018-04-24T17:50:08.546707Z",
     "start_time": "2018-04-24T17:50:01.188328Z"
    }
   },
   "outputs": [],
   "source": [
    "encoded_news.coalesce(1).write.csv('task1_result_Transpose.csv', header=True)"
   ]
  }
 ],
 "metadata": {
  "kernelspec": {
   "display_name": "Python 3",
   "language": "python",
   "name": "python3"
  },
  "language_info": {
   "codemirror_mode": {
    "name": "ipython",
    "version": 3
   },
   "file_extension": ".py",
   "mimetype": "text/x-python",
   "name": "python",
   "nbconvert_exporter": "python",
   "pygments_lexer": "ipython3",
   "version": "3.6.4"
  },
  "latex_envs": {
   "LaTeX_envs_menu_present": true,
   "autoclose": false,
   "autocomplete": true,
   "bibliofile": "biblio.bib",
   "cite_by": "apalike",
   "current_citInitial": 1,
   "eqLabelWithNumbers": true,
   "eqNumInitial": 1,
   "hotkeys": {
    "equation": "Ctrl-E",
    "itemize": "Ctrl-I"
   },
   "labels_anchors": false,
   "latex_user_defs": false,
   "report_style_numbering": false,
   "user_envs_cfg": false
  },
  "toc": {
   "nav_menu": {},
   "number_sections": true,
   "sideBar": true,
   "skip_h1_title": false,
   "title_cell": "Table of Contents",
   "title_sidebar": "Contents",
   "toc_cell": false,
   "toc_position": {},
   "toc_section_display": true,
   "toc_window_display": false
  },
  "varInspector": {
   "cols": {
    "lenName": 16,
    "lenType": 16,
    "lenVar": 40
   },
   "kernels_config": {
    "python": {
     "delete_cmd_postfix": "",
     "delete_cmd_prefix": "del ",
     "library": "var_list.py",
     "varRefreshCmd": "print(var_dic_list())"
    },
    "r": {
     "delete_cmd_postfix": ") ",
     "delete_cmd_prefix": "rm(",
     "library": "var_list.r",
     "varRefreshCmd": "cat(var_dic_list()) "
    }
   },
   "types_to_exclude": [
    "module",
    "function",
    "builtin_function_or_method",
    "instance",
    "_Feature"
   ],
   "window_display": false
  }
 },
 "nbformat": 4,
 "nbformat_minor": 2
}
