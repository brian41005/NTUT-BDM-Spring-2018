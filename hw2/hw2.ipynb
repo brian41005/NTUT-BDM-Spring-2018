{
 "cells": [
  {
   "cell_type": "markdown",
   "metadata": {},
   "source": [
    "# 103590450 四資四 馬茂源"
   ]
  },
  {
   "cell_type": "code",
   "execution_count": 116,
   "metadata": {
    "ExecuteTime": {
     "end_time": "2018-04-11T08:52:09.843308Z",
     "start_time": "2018-04-11T08:52:09.838760Z"
    }
   },
   "outputs": [],
   "source": [
    "from pyspark import SparkConf, SparkContext, SQLContext\n",
    "from pyspark.sql.utils import AnalysisException\n",
    "from pyspark.ml.feature import RegexTokenizer\n",
    "from pyspark.sql.functions import udf\n",
    "from pyspark.sql.types import StringType\n",
    "import os, math, time"
   ]
  },
  {
   "cell_type": "code",
   "execution_count": 2,
   "metadata": {
    "ExecuteTime": {
     "end_time": "2018-04-11T07:15:35.785479Z",
     "start_time": "2018-04-11T07:15:35.782173Z"
    }
   },
   "outputs": [],
   "source": [
    "conf = (SparkConf()\n",
    "        #.setMaster('spark://10.100.5.182:7077')\n",
    "        .setMaster(\"local\")\n",
    "        .setAppName(\"hw1\"))"
   ]
  },
  {
   "cell_type": "code",
   "execution_count": 3,
   "metadata": {
    "ExecuteTime": {
     "end_time": "2018-04-11T07:15:41.794825Z",
     "start_time": "2018-04-11T07:15:37.383571Z"
    }
   },
   "outputs": [],
   "source": [
    "try:\n",
    "    sc = SparkContext(conf=conf)\n",
    "    sql_sc = SQLContext(sc)\n",
    "except ValueError:\n",
    "    pass"
   ]
  },
  {
   "cell_type": "code",
   "execution_count": 8,
   "metadata": {
    "ExecuteTime": {
     "end_time": "2018-04-11T07:30:05.951661Z",
     "start_time": "2018-04-11T07:30:05.946689Z"
    }
   },
   "outputs": [],
   "source": [
    "files = {'fb':['Facebook_Economy.csv', \n",
    "               'Facebook_Obama.csv', \n",
    "               'Facebook_Palestine.csv', \n",
    "               'Facebook_Microsoft.csv'],\n",
    "        'google':['GooglePlus_Obama.csv', \n",
    "                  'GooglePlus_Palestine.csv', \n",
    "                  'GooglePlus_Economy.csv', \n",
    "                  'GooglePlus_Microsoft.csv'],\n",
    "        'linkedin':['LinkedIn_Microsoft.csv', \n",
    "                    'LinkedIn_Palestine.csv',\n",
    "                    'LinkedIn_Obama.csv', \n",
    "                    'LinkedIn_Economy.csv'],\n",
    "        'news':'News_Final.csv'}"
   ]
  },
  {
   "cell_type": "markdown",
   "metadata": {},
   "source": [
    "### In news data, count the words in two fields: ‘Title’ and ‘Headline’ respectively, and list the most frequent words according to the term frequency in descending order, in total, per day, and per topic, respectively"
   ]
  },
  {
   "cell_type": "markdown",
   "metadata": {},
   "source": [
    "* IDLink (numeric): Unique identifier of news items\n",
    "* Title (string): Title of the news item according to the official media sources\n",
    "* Headline (string): Headline of the news item according to the official media sources\n",
    "* Source (string): Original news outlet that published the news item\n",
    "* Topic (string): Query topic used to obtain the items in the official media sources\n",
    "* PublishDate (timestamp): Date and time of the news items' publication\n",
    "* SentimentTitle (numeric): Sentiment score of the text in the news items' title\n",
    "* SentimentHeadline (numeric): Sentiment score of the text in the news items' headline\n",
    "* Facebook (numeric): Final value of the news items' popularity according to the social media source Facebook\n",
    "* GooglePlus (numeric): Final value of the news items' popularity according to the social media source Google+\n",
    "* LinkedIn (numeric): Final value of the news items' popularity according to the social media source LinkedIn"
   ]
  },
  {
   "cell_type": "code",
   "execution_count": 18,
   "metadata": {
    "ExecuteTime": {
     "end_time": "2018-04-11T07:35:11.754721Z",
     "start_time": "2018-04-11T07:35:11.490783Z"
    }
   },
   "outputs": [],
   "source": [
    "news = sql_sc.read.csv(files['news'], sep=',', header=True)"
   ]
  },
  {
   "cell_type": "code",
   "execution_count": 118,
   "metadata": {
    "ExecuteTime": {
     "end_time": "2018-04-11T08:54:00.969488Z",
     "start_time": "2018-04-11T08:54:00.525040Z"
    },
    "scrolled": false
   },
   "outputs": [
    {
     "name": "stdout",
     "output_type": "stream",
     "text": [
      "+--------------------+--------------------+---------+-------------------+\n",
      "|               title|            headline|    topic|        publishDate|\n",
      "+--------------------+--------------------+---------+-------------------+\n",
      "|Obama Lays Wreath...|Obama Lays Wreath...|    obama|2002-04-02 00:00:00|\n",
      "|A Look at the Hea...|Tim Haywood, inve...|  economy|2008-09-20 00:00:00|\n",
      "|Nouriel Roubini: ...|Nouriel Roubini, ...|  economy|2012-01-28 00:00:00|\n",
      "|Finland GDP Expan...|Finland's economy...|  economy|2015-03-01 00:06:00|\n",
      "|Tourism, govt spe...|Tourism and publi...|  economy|2015-03-01 00:11:00|\n",
      "|Intellitec Soluti...|Over 100 attendee...|microsoft|2015-03-01 00:19:00|\n",
      "| Monday, 29 Feb 2016|RAMALLAH, Februar...|palestine|2016-02-28 14:03:00|\n",
      "|Obama, stars pay ...|First lady Michel...|    obama|2015-03-01 00:45:00|\n",
      "|Fire claims more ...|A Hancock County ...|palestine|2015-03-01 01:20:00|\n",
      "|Microsoft's new W...|New Delhi, Feb.29...|microsoft|2015-03-01 01:32:00|\n",
      "|Microsoft Project...|Microsoft may hav...|microsoft|2015-03-01 02:14:00|\n",
      "|Microsoft sneaks ...|The platform batt...|microsoft|2015-03-01 02:15:00|\n",
      "|Greek economy gro...|Greece's economy ...|  economy|2015-03-01 02:16:00|\n",
      "|Big data and the ...|Big data analytic...|  economy|2015-03-01 02:18:00|\n",
      "|HoloLens dev edit...|Microsoft’s AR he...|microsoft|2015-03-01 02:18:00|\n",
      "|Microsoft Word fo...|What is A + B? We...|microsoft|2015-03-01 02:54:00|\n",
      "|Microsoft Band 2 ...|The Microsoft Ban...|microsoft|2015-03-01 03:10:00|\n",
      "|Microsoft prepare...|It seems that Mic...|microsoft|2015-03-01 03:10:00|\n",
      "|Greek economy shr...|Greece's economy ...|  economy|2015-03-01 03:15:00|\n",
      "|Sweden's economy ...|Sweden's economy ...|  economy|2015-03-01 03:15:00|\n",
      "+--------------------+--------------------+---------+-------------------+\n",
      "only showing top 20 rows\n",
      "\n"
     ]
    }
   ],
   "source": [
    "news_data = news.select(['title', 'headline' , 'topic', 'publishDate'])\n",
    "news_data.show()"
   ]
  },
  {
   "cell_type": "code",
   "execution_count": 119,
   "metadata": {
    "ExecuteTime": {
     "end_time": "2018-04-11T08:54:03.172269Z",
     "start_time": "2018-04-11T08:54:03.167353Z"
    }
   },
   "outputs": [],
   "source": [
    "def wordTokenizer(data, columns):\n",
    "    for c in columns:\n",
    "        new_c = c + '_tokens'\n",
    "        reTokenizer = RegexTokenizer(inputCol=c, \n",
    "                                     outputCol=new_c, \n",
    "                                     pattern='\\\\W', \n",
    "                                     minTokenLength=2)\n",
    "        data = reTokenizer.transform(data)\n",
    "    return data"
   ]
  },
  {
   "cell_type": "code",
   "execution_count": 120,
   "metadata": {
    "ExecuteTime": {
     "end_time": "2018-04-11T08:54:08.484385Z",
     "start_time": "2018-04-11T08:54:08.457334Z"
    }
   },
   "outputs": [],
   "source": [
    "news_data = wordTokenizer(news_data, ['title', 'headline'])\n",
    "# news_data = news_data.drop('title', 'headline')\n",
    "# news_data = news_data.select('title_tokens', 'headline_tokens', \n",
    "#                              'topic',  'publishDate')"
   ]
  },
  {
   "cell_type": "code",
   "execution_count": 122,
   "metadata": {
    "ExecuteTime": {
     "end_time": "2018-04-11T08:54:22.759955Z",
     "start_time": "2018-04-11T08:54:22.732100Z"
    }
   },
   "outputs": [],
   "source": [
    "news_data = news_data.withColumn('publishDate', \n",
    "                                 udf(lambda tmp: tmp[:10] , StringType())\n",
    "                                 (news_data.publishDate))"
   ]
  },
  {
   "cell_type": "code",
   "execution_count": 123,
   "metadata": {
    "ExecuteTime": {
     "end_time": "2018-04-11T08:54:25.354110Z",
     "start_time": "2018-04-11T08:54:24.396078Z"
    }
   },
   "outputs": [
    {
     "name": "stdout",
     "output_type": "stream",
     "text": [
      "+--------------------+--------------------+---------+-----------+--------------------+--------------------+\n",
      "|               title|            headline|    topic|publishDate|        title_tokens|     headline_tokens|\n",
      "+--------------------+--------------------+---------+-----------+--------------------+--------------------+\n",
      "|Obama Lays Wreath...|Obama Lays Wreath...|    obama| 2002-04-02|[obama, lays, wre...|[obama, lays, wre...|\n",
      "|A Look at the Hea...|Tim Haywood, inve...|  economy| 2008-09-20|[look, at, the, h...|[tim, haywood, in...|\n",
      "|Nouriel Roubini: ...|Nouriel Roubini, ...|  economy| 2012-01-28|[nouriel, roubini...|[nouriel, roubini...|\n",
      "|Finland GDP Expan...|Finland's economy...|  economy| 2015-03-01|[finland, gdp, ex...|[finland, economy...|\n",
      "|Tourism, govt spe...|Tourism and publi...|  economy| 2015-03-01|[tourism, govt, s...|[tourism, and, pu...|\n",
      "|Intellitec Soluti...|Over 100 attendee...|microsoft| 2015-03-01|[intellitec, solu...|[over, 100, atten...|\n",
      "| Monday, 29 Feb 2016|RAMALLAH, Februar...|palestine| 2016-02-28|[monday, 29, feb,...|[ramallah, februa...|\n",
      "|Obama, stars pay ...|First lady Michel...|    obama| 2015-03-01|[obama, stars, pa...|[first, lady, mic...|\n",
      "|Fire claims more ...|A Hancock County ...|palestine| 2015-03-01|[fire, claims, mo...|[hancock, county,...|\n",
      "|Microsoft's new W...|New Delhi, Feb.29...|microsoft| 2015-03-01|[microsoft, new, ...|[new, delhi, feb,...|\n",
      "|Microsoft Project...|Microsoft may hav...|microsoft| 2015-03-01|[microsoft, proje...|[microsoft, may, ...|\n",
      "|Microsoft sneaks ...|The platform batt...|microsoft| 2015-03-01|[microsoft, sneak...|[the, platform, b...|\n",
      "|Greek economy gro...|Greece's economy ...|  economy| 2015-03-01|[greek, economy, ...|[greece, economy,...|\n",
      "|Big data and the ...|Big data analytic...|  economy| 2015-03-01|[big, data, and, ...|[big, data, analy...|\n",
      "|HoloLens dev edit...|Microsoft’s AR he...|microsoft| 2015-03-01|[hololens, dev, e...|[microsoft, ar, h...|\n",
      "|Microsoft Word fo...|What is A + B? We...|microsoft| 2015-03-01|[microsoft, word,...|[what, is, welcom...|\n",
      "|Microsoft Band 2 ...|The Microsoft Ban...|microsoft| 2015-03-01|[microsoft, band,...|[the, microsoft, ...|\n",
      "|Microsoft prepare...|It seems that Mic...|microsoft| 2015-03-01|[microsoft, prepa...|[it, seems, that,...|\n",
      "|Greek economy shr...|Greece's economy ...|  economy| 2015-03-01|[greek, economy, ...|[greece, economy,...|\n",
      "|Sweden's economy ...|Sweden's economy ...|  economy| 2015-03-01|[sweden, economy,...|[sweden, economy,...|\n",
      "+--------------------+--------------------+---------+-----------+--------------------+--------------------+\n",
      "only showing top 20 rows\n",
      "\n"
     ]
    }
   ],
   "source": [
    "news_data.show()"
   ]
  },
  {
   "cell_type": "markdown",
   "metadata": {},
   "source": [
    "### In social feedback data, calculate the average popularity of each news by hour, and by day, respectively (for each platform)"
   ]
  },
  {
   "cell_type": "markdown",
   "metadata": {},
   "source": [
    "###  In news data, calculate the sum and average sentiment score of each topic, respectively"
   ]
  },
  {
   "cell_type": "markdown",
   "metadata": {},
   "source": [
    "### From subtask (1), for the top-100 frequent words per topic in titles and headlines, calculate their co-occurrence matrices (100x100), respectively. Each entry in the matrix will contain the co-occurrence frequency in all news titles and headlines, respectively"
   ]
  },
  {
   "cell_type": "code",
   "execution_count": null,
   "metadata": {},
   "outputs": [],
   "source": []
  }
 ],
 "metadata": {
  "kernelspec": {
   "display_name": "Python 3",
   "language": "python",
   "name": "python3"
  },
  "language_info": {
   "codemirror_mode": {
    "name": "ipython",
    "version": 3
   },
   "file_extension": ".py",
   "mimetype": "text/x-python",
   "name": "python",
   "nbconvert_exporter": "python",
   "pygments_lexer": "ipython3",
   "version": "3.6.5"
  },
  "toc": {
   "nav_menu": {},
   "number_sections": true,
   "sideBar": true,
   "skip_h1_title": true,
   "title_cell": "Table of Contents",
   "title_sidebar": "Contents",
   "toc_cell": false,
   "toc_position": {},
   "toc_section_display": true,
   "toc_window_display": false
  },
  "varInspector": {
   "cols": {
    "lenName": 16,
    "lenType": 16,
    "lenVar": 40
   },
   "kernels_config": {
    "python": {
     "delete_cmd_postfix": "",
     "delete_cmd_prefix": "del ",
     "library": "var_list.py",
     "varRefreshCmd": "print(var_dic_list())"
    },
    "r": {
     "delete_cmd_postfix": ") ",
     "delete_cmd_prefix": "rm(",
     "library": "var_list.r",
     "varRefreshCmd": "cat(var_dic_list()) "
    }
   },
   "types_to_exclude": [
    "module",
    "function",
    "builtin_function_or_method",
    "instance",
    "_Feature"
   ],
   "window_display": false
  }
 },
 "nbformat": 4,
 "nbformat_minor": 2
}
