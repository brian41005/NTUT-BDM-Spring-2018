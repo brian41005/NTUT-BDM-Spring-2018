{
 "cells": [
  {
   "cell_type": "markdown",
   "metadata": {},
   "source": [
    "## 103590450 四資四 馬茂源"
   ]
  },
  {
   "cell_type": "code",
   "execution_count": 1,
   "metadata": {
    "ExecuteTime": {
     "end_time": "2018-03-28T14:44:19.187000Z",
     "start_time": "2018-03-28T14:44:19.108292Z"
    }
   },
   "outputs": [],
   "source": [
    "from pyspark import SparkConf, SparkContext, SQLContext\n",
    "from pyspark.sql.utils import AnalysisException\n",
    "import os, math, time"
   ]
  },
  {
   "cell_type": "code",
   "execution_count": 2,
   "metadata": {
    "ExecuteTime": {
     "end_time": "2018-03-28T14:44:19.190009Z",
     "start_time": "2018-03-28T14:44:19.188003Z"
    }
   },
   "outputs": [],
   "source": [
    "conf = (SparkConf()\n",
    "        #.setMaster('spark://10.100.5.182:7077')\n",
    "        #.setMaster(\"local\")\n",
    "        .setAppName(\"hw1\"))"
   ]
  },
  {
   "cell_type": "code",
   "execution_count": 3,
   "metadata": {
    "ExecuteTime": {
     "end_time": "2018-03-28T14:44:21.189829Z",
     "start_time": "2018-03-28T14:44:19.191513Z"
    }
   },
   "outputs": [],
   "source": [
    "try:\n",
    "    sc = SparkContext(conf=conf)\n",
    "    sql_sc = SQLContext(sc)\n",
    "except ValueError:\n",
    "    pass"
   ]
  },
  {
   "cell_type": "code",
   "execution_count": 4,
   "metadata": {
    "ExecuteTime": {
     "end_time": "2018-03-28T14:44:24.180786Z",
     "start_time": "2018-03-28T14:44:21.190832Z"
    }
   },
   "outputs": [],
   "source": [
    "try:\n",
    "    data = sql_sc.read.csv('./household_power_consumption.txt', sep=';', header=True)\n",
    "except AnalysisException:\n",
    "    data = sql_sc.read.csv('hdfs:///bdm/hw1/household_power_consumption.txt', sep=';', header=True)"
   ]
  },
  {
   "cell_type": "code",
   "execution_count": 5,
   "metadata": {
    "ExecuteTime": {
     "end_time": "2018-03-28T14:44:24.196829Z",
     "start_time": "2018-03-28T14:44:24.181789Z"
    }
   },
   "outputs": [],
   "source": [
    "data = data.drop('Date', 'Time', 'Sub_metering_1', \n",
    "        'Sub_metering_2', \n",
    "        'Sub_metering_3')"
   ]
  },
  {
   "cell_type": "code",
   "execution_count": 6,
   "metadata": {
    "ExecuteTime": {
     "end_time": "2018-03-28T14:44:24.312136Z",
     "start_time": "2018-03-28T14:44:24.197832Z"
    }
   },
   "outputs": [],
   "source": [
    "data = (data.withColumn('Global_active_power', data.Global_active_power.cast('float'))\n",
    "        .withColumn('Global_reactive_power', data.Global_reactive_power.cast('float'))\n",
    "        .withColumn('Voltage', data.Voltage.cast('float'))\n",
    "        .withColumn('Global_intensity', data.Global_intensity.cast('float')))"
   ]
  },
  {
   "cell_type": "code",
   "execution_count": 7,
   "metadata": {
    "ExecuteTime": {
     "end_time": "2018-03-28T14:44:24.323165Z",
     "start_time": "2018-03-28T14:44:24.313139Z"
    }
   },
   "outputs": [],
   "source": [
    "data = data.dropna()"
   ]
  },
  {
   "cell_type": "markdown",
   "metadata": {},
   "source": [
    "1. Output the **minimum**, **maximum**, and **count** of the columns:`Global_active_power`, `Global_reactive_power`, `Voltage`, and `Global_intensity`"
   ]
  },
  {
   "cell_type": "code",
   "execution_count": 8,
   "metadata": {
    "ExecuteTime": {
     "end_time": "2018-03-28T14:44:24.326674Z",
     "start_time": "2018-03-28T14:44:24.324168Z"
    }
   },
   "outputs": [],
   "source": [
    "features = ['Global_active_power', 'Global_reactive_power', 'Voltage', 'Global_intensity']"
   ]
  },
  {
   "cell_type": "code",
   "execution_count": 9,
   "metadata": {
    "ExecuteTime": {
     "end_time": "2018-03-28T14:44:24.334195Z",
     "start_time": "2018-03-28T14:44:24.327678Z"
    }
   },
   "outputs": [],
   "source": [
    "summary = {k:{} for k in ['min', 'max', 'mean', 'stddev', 'count']}"
   ]
  },
  {
   "cell_type": "code",
   "execution_count": 10,
   "metadata": {
    "ExecuteTime": {
     "end_time": "2018-03-28T14:44:24.341213Z",
     "start_time": "2018-03-28T14:44:24.335198Z"
    }
   },
   "outputs": [],
   "source": [
    "# count = data.count()\n",
    "# summary['count'] = {f:count for f in features}"
   ]
  },
  {
   "cell_type": "code",
   "execution_count": 11,
   "metadata": {
    "ExecuteTime": {
     "end_time": "2018-03-28T14:44:24.348733Z",
     "start_time": "2018-03-28T14:44:24.342217Z"
    }
   },
   "outputs": [],
   "source": [
    "# max__ = (data.rdd.map(lambda x: (x.Global_active_power, \n",
    "#                         x.Global_reactive_power,\n",
    "#                         x.Voltage,\n",
    "#                         x.Global_intensity))\n",
    "# .reduce(lambda x, y: tuple(max(p) for p in zip(x, y))))\n",
    "# min__ = (data.rdd.map(lambda x: (x.Global_active_power, \n",
    "#                         x.Global_reactive_power,\n",
    "#                         x.Voltage,\n",
    "#                         x.Global_intensity))\n",
    "# .reduce(lambda x, y: tuple(min(p) for p in zip(x, y))))\n",
    "# for i, f in enumerate(features):\n",
    "#     summary['max'][f] = max__[i]\n",
    "#     summary['min'][f] = min__[i]"
   ]
  },
  {
   "cell_type": "markdown",
   "metadata": {},
   "source": [
    "2 . Output the **mean** and **standard deviation** of these columns\n"
   ]
  },
  {
   "cell_type": "code",
   "execution_count": 12,
   "metadata": {
    "ExecuteTime": {
     "end_time": "2018-03-28T14:44:24.356755Z",
     "start_time": "2018-03-28T14:44:24.349736Z"
    }
   },
   "outputs": [],
   "source": [
    "# sum_ = (data.rdd.map(lambda x: (x.Global_active_power, \n",
    "#                         x.Global_reactive_power,\n",
    "#                         x.Voltage,\n",
    "#                         x.Global_intensity))\n",
    "#         .reduce(lambda x,y: tuple(x_n+y_n for x_n, y_n in zip(x, y))))\n",
    "# for i, f in enumerate(features):\n",
    "#     summary['mean'][f] = sum_[i]/summary['count'][f]"
   ]
  },
  {
   "cell_type": "code",
   "execution_count": 13,
   "metadata": {
    "ExecuteTime": {
     "end_time": "2018-03-28T14:44:24.363773Z",
     "start_time": "2018-03-28T14:44:24.358259Z"
    }
   },
   "outputs": [],
   "source": [
    "# temp = (data.rdd.map(lambda x: ((x.Global_active_power-summary['mean']['Global_active_power'])**2, \n",
    "#                         (x.Global_reactive_power-summary['mean']['Global_reactive_power'])**2,\n",
    "#                         (x.Voltage-summary['mean']['Voltage'])**2,\n",
    "#                         (x.Global_intensity-summary['mean']['Global_intensity'])**2))\n",
    "#         .reduce(lambda x, y: tuple(x_n+y_n for x_n, y_n in zip(x, y))))\n",
    "\n",
    "# for i, f in enumerate(features):\n",
    "#     summary['stddev'][f] = math.sqrt(temp[i] / (summary['count'][f]-1)) "
   ]
  },
  {
   "cell_type": "code",
   "execution_count": 14,
   "metadata": {
    "ExecuteTime": {
     "end_time": "2018-03-28T14:44:24.370291Z",
     "start_time": "2018-03-28T14:44:24.364776Z"
    }
   },
   "outputs": [],
   "source": [
    "t0 = time.time()"
   ]
  },
  {
   "cell_type": "code",
   "execution_count": 15,
   "metadata": {
    "ExecuteTime": {
     "end_time": "2018-03-28T14:44:27.270506Z",
     "start_time": "2018-03-28T14:44:24.371293Z"
    }
   },
   "outputs": [],
   "source": [
    "descr = data.select(features).describe()\n",
    "descr = (descr.withColumn('Global_active_power', descr['Global_active_power'].cast('float'))\n",
    "            .withColumn('Global_reactive_power', descr['Global_reactive_power'].cast('float'))\n",
    "            .withColumn('Voltage', descr['Voltage'].cast('float'))\n",
    "            .withColumn('Global_intensity', descr['Global_intensity'].cast('float')))\n",
    "for r in descr.collect():\n",
    "    state_name = r.summary\n",
    "    r = r.asDict()\n",
    "    r.pop('summary')\n",
    "    summary[state_name] = r"
   ]
  },
  {
   "cell_type": "code",
   "execution_count": 16,
   "metadata": {
    "ExecuteTime": {
     "end_time": "2018-03-28T14:44:27.278027Z",
     "start_time": "2018-03-28T14:44:27.271509Z"
    }
   },
   "outputs": [
    {
     "name": "stdout",
     "output_type": "stream",
     "text": [
      "   min: {'Global_active_power': 0.07599999755620956, 'Global_reactive_power': 0.0, 'Voltage': 223.1999969482422, 'Global_intensity': 0.20000000298023224}\n",
      "   max: {'Global_active_power': 11.121999740600586, 'Global_reactive_power': 1.3899999856948853, 'Voltage': 254.14999389648438, 'Global_intensity': 48.400001525878906}\n",
      " count: {'Global_active_power': 2049280.0, 'Global_reactive_power': 2049280.0, 'Voltage': 2049280.0, 'Global_intensity': 2049280.0}\n",
      "  mean: {'Global_active_power': 1.091615080833435, 'Global_reactive_power': 0.12371447682380676, 'Voltage': 240.83985900878906, 'Global_intensity': 4.6277594566345215}\n",
      "stddev: {'Global_active_power': 1.0572941303253174, 'Global_reactive_power': 0.11272197961807251, 'Voltage': 3.2399866580963135, 'Global_intensity': 4.444396495819092}\n",
      "finding 'min', 'max', 'count', 'mean', 'stddev' cost:2.905s\n"
     ]
    }
   ],
   "source": [
    "for i in ['min', 'max', 'count', 'mean', 'stddev']:\n",
    "    print('%6s: %s'%(i, summary[i]))\n",
    "print(\"finding 'min', 'max', 'count', 'mean', 'stddev' cost:%.3fs\"%(time.time()-t0))"
   ]
  },
  {
   "cell_type": "markdown",
   "metadata": {},
   "source": [
    "3 . Perform **min-max normalization** on the columns to generate normalized output"
   ]
  },
  {
   "cell_type": "code",
   "execution_count": 17,
   "metadata": {
    "ExecuteTime": {
     "end_time": "2018-03-28T14:44:27.344704Z",
     "start_time": "2018-03-28T14:44:27.279532Z"
    },
    "scrolled": false
   },
   "outputs": [],
   "source": [
    "for f in features:\n",
    "    min_ = summary['min'][f]\n",
    "    max_ = summary['max'][f] \n",
    "    data = (data.withColumn('norm_' + f, \n",
    "                     (data[f] - min_) / (max_ - min_)))"
   ]
  },
  {
   "cell_type": "code",
   "execution_count": 18,
   "metadata": {
    "ExecuteTime": {
     "end_time": "2018-03-28T14:44:32.084313Z",
     "start_time": "2018-03-28T14:44:27.346209Z"
    },
    "scrolled": false
   },
   "outputs": [],
   "source": [
    "(data.select(['norm_'+f for f in features])\n",
    " .repartition(1)\n",
    " .write.mode('overwrite')\n",
    " .format('com.databricks.spark.csv')\n",
    " .option('header', 'true')\n",
    " .save('./norm.csv'))"
   ]
  },
  {
   "cell_type": "code",
   "execution_count": 19,
   "metadata": {
    "ExecuteTime": {
     "end_time": "2018-03-28T14:44:32.143470Z",
     "start_time": "2018-03-28T14:44:32.085316Z"
    }
   },
   "outputs": [],
   "source": [
    "sc.stop()"
   ]
  },
  {
   "cell_type": "code",
   "execution_count": null,
   "metadata": {},
   "outputs": [],
   "source": []
  }
 ],
 "metadata": {
  "kernelspec": {
   "display_name": "Python 3",
   "language": "python",
   "name": "python3"
  },
  "language_info": {
   "codemirror_mode": {
    "name": "ipython",
    "version": 3
   },
   "file_extension": ".py",
   "mimetype": "text/x-python",
   "name": "python",
   "nbconvert_exporter": "python",
   "pygments_lexer": "ipython3",
   "version": "3.6.4"
  },
  "toc": {
   "nav_menu": {},
   "number_sections": false,
   "sideBar": true,
   "skip_h1_title": false,
   "title_cell": "Table of Contents",
   "title_sidebar": "Contents",
   "toc_cell": false,
   "toc_position": {
    "height": "calc(100% - 180px)",
    "left": "10px",
    "top": "150px",
    "width": "307px"
   },
   "toc_section_display": true,
   "toc_window_display": false
  },
  "varInspector": {
   "cols": {
    "lenName": 16,
    "lenType": 16,
    "lenVar": 40
   },
   "kernels_config": {
    "python": {
     "delete_cmd_postfix": "",
     "delete_cmd_prefix": "del ",
     "library": "var_list.py",
     "varRefreshCmd": "print(var_dic_list())"
    },
    "r": {
     "delete_cmd_postfix": ") ",
     "delete_cmd_prefix": "rm(",
     "library": "var_list.r",
     "varRefreshCmd": "cat(var_dic_list()) "
    }
   },
   "types_to_exclude": [
    "module",
    "function",
    "builtin_function_or_method",
    "instance",
    "_Feature"
   ],
   "window_display": false
  }
 },
 "nbformat": 4,
 "nbformat_minor": 2
}
