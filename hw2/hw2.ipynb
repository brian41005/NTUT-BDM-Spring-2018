{
 "cells": [
  {
   "cell_type": "markdown",
   "metadata": {},
   "source": [
    "# 103590450 四資四 馬茂源"
   ]
  },
  {
   "cell_type": "code",
   "execution_count": 388,
   "metadata": {
    "ExecuteTime": {
     "end_time": "2018-04-11T13:30:08.881650Z",
     "start_time": "2018-04-11T13:30:08.877547Z"
    }
   },
   "outputs": [],
   "source": [
    "from pyspark import SparkConf, SparkContext, SQLContext\n",
    "from pyspark.sql.utils import AnalysisException\n",
    "from pyspark.ml.feature import RegexTokenizer\n",
    "from pyspark.sql.functions import udf\n",
    "from pyspark.sql.types import StringType, StructType, StructField\n",
    "import os, math, time"
   ]
  },
  {
   "cell_type": "code",
   "execution_count": 389,
   "metadata": {
    "ExecuteTime": {
     "end_time": "2018-04-11T13:30:08.887751Z",
     "start_time": "2018-04-11T13:30:08.884603Z"
    }
   },
   "outputs": [],
   "source": [
    "result = {}"
   ]
  },
  {
   "cell_type": "code",
   "execution_count": 390,
   "metadata": {
    "ExecuteTime": {
     "end_time": "2018-04-11T13:30:08.895757Z",
     "start_time": "2018-04-11T13:30:08.890061Z"
    }
   },
   "outputs": [],
   "source": [
    "conf = (SparkConf()\n",
    "        #.setMaster('spark://10.100.5.182:7077')\n",
    "        .setMaster(\"local\")\n",
    "        .setAppName(\"hw1\"))"
   ]
  },
  {
   "cell_type": "code",
   "execution_count": 391,
   "metadata": {
    "ExecuteTime": {
     "end_time": "2018-04-11T13:30:08.903009Z",
     "start_time": "2018-04-11T13:30:08.898540Z"
    }
   },
   "outputs": [],
   "source": [
    "try:\n",
    "    sc = SparkContext(conf=conf)\n",
    "    sql_sc = SQLContext(sc)\n",
    "except ValueError:\n",
    "    pass"
   ]
  },
  {
   "cell_type": "code",
   "execution_count": 392,
   "metadata": {
    "ExecuteTime": {
     "end_time": "2018-04-11T13:30:08.910676Z",
     "start_time": "2018-04-11T13:30:08.905709Z"
    }
   },
   "outputs": [],
   "source": [
    "files = {'fb':['Facebook_Economy.csv', \n",
    "               'Facebook_Obama.csv', \n",
    "               'Facebook_Palestine.csv', \n",
    "               'Facebook_Microsoft.csv'],\n",
    "        'google':['GooglePlus_Obama.csv', \n",
    "                  'GooglePlus_Palestine.csv', \n",
    "                  'GooglePlus_Economy.csv', \n",
    "                  'GooglePlus_Microsoft.csv'],\n",
    "        'linkedin':['LinkedIn_Microsoft.csv', \n",
    "                    'LinkedIn_Palestine.csv',\n",
    "                    'LinkedIn_Obama.csv', \n",
    "                    'LinkedIn_Economy.csv'],\n",
    "        'news':'News_Final.csv'}"
   ]
  },
  {
   "cell_type": "markdown",
   "metadata": {},
   "source": [
    "## Preprocessing"
   ]
  },
  {
   "cell_type": "markdown",
   "metadata": {},
   "source": [
    "* IDLink (numeric): Unique identifier of news items\n",
    "* Title (string): Title of the news item according to the official media sources\n",
    "* Headline (string): Headline of the news item according to the official media sources\n",
    "* Source (string): Original news outlet that published the news item\n",
    "* Topic (string): Query topic used to obtain the items in the official media sources\n",
    "* PublishDate (timestamp): Date and time of the news items' publication\n",
    "* SentimentTitle (numeric): Sentiment score of the text in the news items' title\n",
    "* SentimentHeadline (numeric): Sentiment score of the text in the news items' headline\n",
    "* Facebook (numeric): Final value of the news items' popularity according to the social media source Facebook\n",
    "* GooglePlus (numeric): Final value of the news items' popularity according to the social media source Google+\n",
    "* LinkedIn (numeric): Final value of the news items' popularity according to the social media source LinkedIn"
   ]
  },
  {
   "cell_type": "code",
   "execution_count": 393,
   "metadata": {
    "ExecuteTime": {
     "end_time": "2018-04-11T13:30:09.136961Z",
     "start_time": "2018-04-11T13:30:08.914942Z"
    },
    "scrolled": false
   },
   "outputs": [],
   "source": [
    "news = sql_sc.read.csv(files['news'], sep=',', header=True)\n",
    "# news = (sql_sc.read.load(files['news'], format=\"csv\",\n",
    "#                          schema=StructType([\n",
    "#                         StructField(\"IDLink\", StringType(), False),\n",
    "#                         StructField(\"Title\", StringType(), False),\n",
    "#                         StructField(\"Headline\", StringType(), False),\n",
    "#                         StructField(\"Source\", StringType(), False),\n",
    "#                         StructField(\"Topic\", StringType(), False),\n",
    "#                         StructField(\"PublishDate\", StringType(), False),\n",
    "#                         StructField(\"SentimentTitle\", StringType(), False),\n",
    "#                         StructField(\"SentimentHeadline\", StringType(), False),\n",
    "#                         StructField(\"Facebook\", StringType(), False),\n",
    "#                         StructField(\"GooglePlus\", StringType(), False),\n",
    "#                         StructField(\"LinkedIn\", StringType(), False)]),\n",
    "#                          mode=\"DROPMALFORMED\", header=\"true\")\n",
    "#         .drop('IDLink')\n",
    "#         .drop('Source')\n",
    "#         .drop('SentimentTitle')\n",
    "#         .drop('SentimentHeadline')\n",
    "#         .drop('Facebook')\n",
    "#         .drop('GooglePlus')\n",
    "#         .drop('LinkedIn'))\n",
    "# news.show()"
   ]
  },
  {
   "cell_type": "code",
   "execution_count": 394,
   "metadata": {
    "ExecuteTime": {
     "end_time": "2018-04-11T13:30:09.154847Z",
     "start_time": "2018-04-11T13:30:09.138951Z"
    }
   },
   "outputs": [],
   "source": [
    "news = news.dropna()"
   ]
  },
  {
   "cell_type": "code",
   "execution_count": 395,
   "metadata": {
    "ExecuteTime": {
     "end_time": "2018-04-11T13:30:09.159847Z",
     "start_time": "2018-04-11T13:30:09.157312Z"
    }
   },
   "outputs": [],
   "source": [
    "# news = news.sample(False, 0.1, 40)"
   ]
  },
  {
   "cell_type": "code",
   "execution_count": 396,
   "metadata": {
    "ExecuteTime": {
     "end_time": "2018-04-11T13:30:09.178567Z",
     "start_time": "2018-04-11T13:30:09.162270Z"
    },
    "scrolled": true
   },
   "outputs": [],
   "source": [
    "news_data = news.select(['title', 'headline' , 'topic', 'publishDate'])"
   ]
  },
  {
   "cell_type": "code",
   "execution_count": 397,
   "metadata": {
    "ExecuteTime": {
     "end_time": "2018-04-11T13:30:09.184985Z",
     "start_time": "2018-04-11T13:30:09.181125Z"
    }
   },
   "outputs": [],
   "source": [
    "def wordTokenizer(data, columns):\n",
    "    for c in columns:\n",
    "        new_c = c + '_tokens'\n",
    "        reTokenizer = RegexTokenizer(inputCol=c, \n",
    "                                     outputCol=new_c, \n",
    "                                     pattern='\\\\W', \n",
    "                                     minTokenLength=2)\n",
    "        data = reTokenizer.transform(data)\n",
    "        # data = data.withColumn(new_c, data[new_c].cast())\n",
    "    return data"
   ]
  },
  {
   "cell_type": "code",
   "execution_count": 398,
   "metadata": {
    "ExecuteTime": {
     "end_time": "2018-04-11T13:30:09.225424Z",
     "start_time": "2018-04-11T13:30:09.187243Z"
    },
    "scrolled": false
   },
   "outputs": [],
   "source": [
    "col =  ['title', 'headline']\n",
    "news_data = wordTokenizer(news_data, col)\n",
    "# news_data = news_data.drop(col)\n",
    "news_data = news_data.select('title_tokens', 'headline_tokens', \n",
    "                             'topic',  'publishDate')"
   ]
  },
  {
   "cell_type": "code",
   "execution_count": 399,
   "metadata": {
    "ExecuteTime": {
     "end_time": "2018-04-11T13:30:09.230106Z",
     "start_time": "2018-04-11T13:30:09.227360Z"
    }
   },
   "outputs": [],
   "source": [
    "#news_data = news_data.dropna()"
   ]
  },
  {
   "cell_type": "code",
   "execution_count": 400,
   "metadata": {
    "ExecuteTime": {
     "end_time": "2018-04-11T13:30:09.235589Z",
     "start_time": "2018-04-11T13:30:09.232842Z"
    }
   },
   "outputs": [],
   "source": [
    "# news_data = news_data.withColumn('publishDate', \n",
    "#                                  udf(lambda tmp: tmp[:10] , StringType())\n",
    "#                                  (news_data.publishDate))"
   ]
  },
  {
   "cell_type": "code",
   "execution_count": 401,
   "metadata": {
    "ExecuteTime": {
     "end_time": "2018-04-11T13:30:09.240822Z",
     "start_time": "2018-04-11T13:30:09.238122Z"
    },
    "scrolled": false
   },
   "outputs": [],
   "source": [
    "# news_data.take(2500)[0]"
   ]
  },
  {
   "cell_type": "markdown",
   "metadata": {},
   "source": [
    "### In news data, count the words in two fields: ‘Title’ and ‘Headline’ respectively, and list the most frequent words according to the term frequency in descending order, in total, per day, and per topic, respectively"
   ]
  },
  {
   "cell_type": "code",
   "execution_count": 402,
   "metadata": {
    "ExecuteTime": {
     "end_time": "2018-04-11T13:30:09.252931Z",
     "start_time": "2018-04-11T13:30:09.243203Z"
    },
    "scrolled": false
   },
   "outputs": [],
   "source": [
    "def word_count(data, column, n=10):\n",
    "    return (news_data\n",
    "         .select(column).rdd\n",
    "         .map(lambda tokens: tokens[column])\n",
    "         .flatMap(lambda tokens: tokens)\n",
    "         .map(lambda word: (word, 1))\n",
    "         .reduceByKey(lambda a, b: a + b)\n",
    "         .sortBy(lambda w: w[1], ascending=False)\n",
    "         .take(n))"
   ]
  },
  {
   "cell_type": "markdown",
   "metadata": {},
   "source": [
    "#### In total"
   ]
  },
  {
   "cell_type": "code",
   "execution_count": 403,
   "metadata": {
    "ExecuteTime": {
     "end_time": "2018-04-11T13:30:10.961214Z",
     "start_time": "2018-04-11T13:30:09.255365Z"
    },
    "scrolled": false
   },
   "outputs": [
    {
     "data": {
      "text/plain": [
       "[('obama', 27978),\n",
       " ('to', 27504),\n",
       " ('economy', 26674),\n",
       " ('microsoft', 20682),\n",
       " ('the', 17781),\n",
       " ('in', 15988),\n",
       " ('for', 12505),\n",
       " ('of', 11438),\n",
       " ('on', 10787),\n",
       " ('and', 7832)]"
      ]
     },
     "execution_count": 403,
     "metadata": {},
     "output_type": "execute_result"
    }
   ],
   "source": [
    "word_count(news_data, 'title_tokens')"
   ]
  },
  {
   "cell_type": "code",
   "execution_count": 404,
   "metadata": {
    "ExecuteTime": {
     "end_time": "2018-04-11T13:30:13.807872Z",
     "start_time": "2018-04-11T13:30:10.963499Z"
    },
    "scrolled": false
   },
   "outputs": [
    {
     "data": {
      "text/plain": [
       "[('the', 152151),\n",
       " ('to', 68552),\n",
       " ('of', 60375),\n",
       " ('in', 53698),\n",
       " ('and', 47376),\n",
       " ('obama', 30391),\n",
       " ('on', 29676),\n",
       " ('is', 26438),\n",
       " ('economy', 25986),\n",
       " ('for', 25611)]"
      ]
     },
     "execution_count": 404,
     "metadata": {},
     "output_type": "execute_result"
    }
   ],
   "source": [
    "word_count(news_data, 'headline_tokens')"
   ]
  },
  {
   "cell_type": "code",
   "execution_count": 405,
   "metadata": {
    "ExecuteTime": {
     "end_time": "2018-04-11T13:30:17.103212Z",
     "start_time": "2018-04-11T13:30:13.810107Z"
    },
    "scrolled": true
   },
   "outputs": [
    {
     "data": {
      "text/plain": [
       "Row(title_tokens=['obama', 'lays', 'wreath', 'at', 'arlington', 'national', 'cemetery'], headline_tokens=['obama', 'lays', 'wreath', 'at', 'arlington', 'national', 'cemetery', 'president', 'barack', 'obama', 'has', 'laid', 'wreath', 'at', 'the', 'tomb', 'of', 'the', 'unknowns', 'to', 'honor'], topic='obama', publishDate='2002-04-02 00:00:00')"
      ]
     },
     "execution_count": 405,
     "metadata": {},
     "output_type": "execute_result"
    }
   ],
   "source": [
    "news_data.collect()[0]"
   ]
  },
  {
   "cell_type": "markdown",
   "metadata": {},
   "source": [
    "### In social feedback data, calculate the average popularity of each news by hour, and by day, respectively (for each platform)"
   ]
  },
  {
   "cell_type": "markdown",
   "metadata": {},
   "source": [
    "###  In news data, calculate the sum and average sentiment score of each topic, respectively"
   ]
  },
  {
   "cell_type": "markdown",
   "metadata": {},
   "source": [
    "### From subtask (1), for the top-100 frequent words per topic in titles and headlines, calculate their co-occurrence matrices (100x100), respectively. Each entry in the matrix will contain the co-occurrence frequency in all news titles and headlines, respectively"
   ]
  },
  {
   "cell_type": "code",
   "execution_count": null,
   "metadata": {},
   "outputs": [],
   "source": []
  }
 ],
 "metadata": {
  "kernelspec": {
   "display_name": "Python 3",
   "language": "python",
   "name": "python3"
  },
  "language_info": {
   "codemirror_mode": {
    "name": "ipython",
    "version": 3
   },
   "file_extension": ".py",
   "mimetype": "text/x-python",
   "name": "python",
   "nbconvert_exporter": "python",
   "pygments_lexer": "ipython3",
   "version": "3.6.5"
  },
  "toc": {
   "nav_menu": {},
   "number_sections": true,
   "sideBar": true,
   "skip_h1_title": true,
   "title_cell": "Table of Contents",
   "title_sidebar": "Contents",
   "toc_cell": false,
   "toc_position": {},
   "toc_section_display": true,
   "toc_window_display": false
  },
  "varInspector": {
   "cols": {
    "lenName": 16,
    "lenType": 16,
    "lenVar": 40
   },
   "kernels_config": {
    "python": {
     "delete_cmd_postfix": "",
     "delete_cmd_prefix": "del ",
     "library": "var_list.py",
     "varRefreshCmd": "print(var_dic_list())"
    },
    "r": {
     "delete_cmd_postfix": ") ",
     "delete_cmd_prefix": "rm(",
     "library": "var_list.r",
     "varRefreshCmd": "cat(var_dic_list()) "
    }
   },
   "types_to_exclude": [
    "module",
    "function",
    "builtin_function_or_method",
    "instance",
    "_Feature"
   ],
   "window_display": false
  }
 },
 "nbformat": 4,
 "nbformat_minor": 2
}
