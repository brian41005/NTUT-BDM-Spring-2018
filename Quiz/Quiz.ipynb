{
 "cells": [
  {
   "cell_type": "code",
   "execution_count": 2,
   "metadata": {
    "ExecuteTime": {
     "end_time": "2018-04-21T04:36:03.886827Z",
     "start_time": "2018-04-21T04:36:03.159008Z"
    }
   },
   "outputs": [],
   "source": [
    "from pyspark import SparkConf, SparkContext, SQLContext\n",
    "from pyspark.sql.utils import AnalysisException\n",
    "from pyspark.ml.feature import RegexTokenizer\n",
    "from pyspark.sql.functions import udf, mean\n",
    "from pyspark.sql.types import StringType, StructType, StructField, FloatType\n",
    "import pandas as pd\n",
    "import numpy as np\n",
    "import os, math, time\n",
    "import itertools\n",
    "import csv"
   ]
  },
  {
   "cell_type": "code",
   "execution_count": 3,
   "metadata": {
    "ExecuteTime": {
     "end_time": "2018-04-21T04:36:03.893210Z",
     "start_time": "2018-04-21T04:36:03.889518Z"
    }
   },
   "outputs": [],
   "source": [
    "t0 = time.time()"
   ]
  },
  {
   "cell_type": "code",
   "execution_count": 4,
   "metadata": {
    "ExecuteTime": {
     "end_time": "2018-04-21T04:36:03.899503Z",
     "start_time": "2018-04-21T04:36:03.896248Z"
    }
   },
   "outputs": [],
   "source": [
    "conf = (SparkConf()\n",
    "        #.setMaster('spark://10.100.5.182:7077')\n",
    "        #.setMaster(\"local[4]\")\n",
    "        #.set(\"spark.executor.memory\", \"6g\")\n",
    "        .setAppName(\"quiz\"))"
   ]
  },
  {
   "cell_type": "code",
   "execution_count": 5,
   "metadata": {
    "ExecuteTime": {
     "end_time": "2018-04-21T04:36:07.983937Z",
     "start_time": "2018-04-21T04:36:03.902098Z"
    }
   },
   "outputs": [],
   "source": [
    "try:\n",
    "    sc = SparkContext(conf=conf)\n",
    "    sql_sc = SQLContext(sc)\n",
    "except ValueError:\n",
    "    pass"
   ]
  },
  {
   "cell_type": "code",
   "execution_count": 6,
   "metadata": {
    "ExecuteTime": {
     "end_time": "2018-04-21T04:36:07.994115Z",
     "start_time": "2018-04-21T04:36:07.986776Z"
    }
   },
   "outputs": [],
   "source": [
    "def read_csv(file_name):\n",
    "    try:\n",
    "        data = sql_sc.read.csv(file_name, \n",
    "                       sep=',', \n",
    "                       header=False, \n",
    "                       mode='DROPMALFORMED')\n",
    "    except AnalysisException:\n",
    "        data = sql_sc.read.csv('hdfs:///bdm/quiz/{}'.format(file_name), \n",
    "                       sep=',', \n",
    "                       header=False, \n",
    "                       mode='DROPMALFORMED')\n",
    "    return data"
   ]
  },
  {
   "cell_type": "code",
   "execution_count": 7,
   "metadata": {
    "ExecuteTime": {
     "end_time": "2018-04-21T04:36:13.708953Z",
     "start_time": "2018-04-21T04:36:07.996160Z"
    }
   },
   "outputs": [],
   "source": [
    "data = read_csv('kddcup.data')"
   ]
  },
  {
   "cell_type": "code",
   "execution_count": 8,
   "metadata": {
    "ExecuteTime": {
     "end_time": "2018-04-21T04:36:13.728046Z",
     "start_time": "2018-04-21T04:36:13.710807Z"
    }
   },
   "outputs": [],
   "source": [
    "cloumnnames = [\"duration\",\n",
    "               \"protocol_type\", \n",
    "               \"service\",\n",
    "               \"flag\",\n",
    "               \"src_bytes\",\n",
    "               \"dst_bytes\",\n",
    "               \"land\",\n",
    "               \"wrong_fragment\",\n",
    "               \"urgent\",\n",
    "               \"hot\",\n",
    "               \"num_failed_logins\",\n",
    "               \"logged_in\",\n",
    "               \"num_compromised\",\n",
    "               \"root_shell\",\n",
    "               \"su_attempted\",\n",
    "               \"num_root\",\n",
    "               \"num_file_creations\",\n",
    "               \"num_shells\",\n",
    "               \"num_access_files\",\n",
    "               \"num_outbound_cmds\",\n",
    "               \"is_host_login\",\n",
    "               \"is_guest_login\",\n",
    "               \"count\",\n",
    "               \"srv_count\",\n",
    "               \"serror_rate\",\n",
    "               \"srv_serror_rate\",\n",
    "               \"rerror_rate\",\n",
    "               \"srv_rerror_rate\",\n",
    "               \"same_srv_rate\",\n",
    "               \"diff_srv_rate\",\n",
    "               \"srv_diff_host_rate\",\n",
    "               \"dst_host_count\",\n",
    "               \"dst_host_srv_count\",\n",
    "               \"dst_host_same_srv_rate\",\n",
    "               \"dst_host_diff_srv_rate\",\n",
    "               \"dst_host_same_src_port_rate\",\n",
    "               \"dst_host_srv_diff_host_rate\",\n",
    "               \"dst_host_serror_rate\",\n",
    "               \"dst_host_srv_serror_rate\",\n",
    "               \"dst_host_rerror_rate\",\n",
    "               \"dst_host_srv_rerror_rate\",\n",
    "               \"intrusion_type\"]"
   ]
  },
  {
   "cell_type": "code",
   "execution_count": 9,
   "metadata": {
    "ExecuteTime": {
     "end_time": "2018-04-21T04:36:14.308958Z",
     "start_time": "2018-04-21T04:36:13.730502Z"
    }
   },
   "outputs": [],
   "source": [
    "for old, new in zip(['_c%d'%(i) for i in range(0, 42)], cloumnnames):\n",
    "    data = (data.withColumnRenamed(old, new))\n",
    "data = (data.withColumn('duration', data.duration.cast('float'))\n",
    "       .withColumn('src_bytes', data.src_bytes.cast('float'))\n",
    "       .withColumn('dst_bytes', data.dst_bytes.cast('float'))\n",
    "       .withColumn('num_failed_logins', data.num_failed_logins.cast('float')))"
   ]
  },
  {
   "cell_type": "code",
   "execution_count": 10,
   "metadata": {
    "ExecuteTime": {
     "end_time": "2018-04-21T04:36:14.358801Z",
     "start_time": "2018-04-21T04:36:14.311313Z"
    },
    "scrolled": true
   },
   "outputs": [],
   "source": [
    "data = data.dropna()"
   ]
  },
  {
   "cell_type": "code",
   "execution_count": 11,
   "metadata": {
    "ExecuteTime": {
     "end_time": "2018-04-21T04:36:14.386111Z",
     "start_time": "2018-04-21T04:36:14.361160Z"
    }
   },
   "outputs": [],
   "source": [
    "data = data.sample(False, 0.01, 42)"
   ]
  },
  {
   "cell_type": "markdown",
   "metadata": {},
   "source": [
    "### (1) For continuous attributes ‘duration’, ‘src_bytes’, ‘dst_bytes’, ‘num_failed_logins’, please calculate their mean, median, mode, standard deviation, respectively"
   ]
  },
  {
   "cell_type": "code",
   "execution_count": 62,
   "metadata": {
    "ExecuteTime": {
     "end_time": "2018-04-21T03:57:53.902629Z",
     "start_time": "2018-04-21T03:57:53.898110Z"
    }
   },
   "outputs": [],
   "source": [
    "def find_median(values_list):\n",
    "    try:\n",
    "        median = np.median(values_list) #get the median of values in a list in each row\n",
    "        return round(float(median),2)\n",
    "    except Exception:\n",
    "        return None #if there is anything wrong with the given values\n",
    "\n",
    "median_finder = udf(find_median, FloatType())"
   ]
  },
  {
   "cell_type": "code",
   "execution_count": 63,
   "metadata": {
    "ExecuteTime": {
     "end_time": "2018-04-21T03:57:53.908221Z",
     "start_time": "2018-04-21T03:57:53.905075Z"
    }
   },
   "outputs": [],
   "source": [
    "q1_feature_nemaes = ['duration', 'src_bytes', 'dst_bytes', 'num_failed_logins']"
   ]
  },
  {
   "cell_type": "code",
   "execution_count": 64,
   "metadata": {
    "ExecuteTime": {
     "end_time": "2018-04-21T03:57:53.939575Z",
     "start_time": "2018-04-21T03:57:53.910609Z"
    }
   },
   "outputs": [],
   "source": [
    "q1 = data.select('duration', 'src_bytes', 'dst_bytes', 'num_failed_logins')"
   ]
  },
  {
   "cell_type": "code",
   "execution_count": 68,
   "metadata": {
    "ExecuteTime": {
     "end_time": "2018-04-21T03:58:39.689461Z",
     "start_time": "2018-04-21T03:58:21.888872Z"
    }
   },
   "outputs": [
    {
     "name": "stdout",
     "output_type": "stream",
     "text": [
      "+-------+------------------+-----------------+-----------------+--------------------+\n",
      "|summary|          duration|        src_bytes|        dst_bytes|   num_failed_logins|\n",
      "+-------+------------------+-----------------+-----------------+--------------------+\n",
      "|  count|             49325|            49325|            49325|               49325|\n",
      "|   mean|48.422807906741006|792.3461530663964| 686.317952356817|1.013684744044602...|\n",
      "| stddev| 701.3569789920128|23451.35807800003|14356.54144803163| 0.01191253397088856|\n",
      "|    min|               0.0|              0.0|              0.0|                 0.0|\n",
      "|    max|           42221.0|        5133876.0|        1649990.0|                 2.0|\n",
      "+-------+------------------+-----------------+-----------------+--------------------+\n",
      "\n",
      "None\n"
     ]
    }
   ],
   "source": [
    "print(q1.describe().show())"
   ]
  },
  {
   "cell_type": "code",
   "execution_count": null,
   "metadata": {
    "ExecuteTime": {
     "end_time": "2018-04-21T03:58:06.428474Z",
     "start_time": "2018-04-21T03:57:52.580Z"
    }
   },
   "outputs": [],
   "source": [
    "for f in q1_feature_nemaes:\n",
    "    print('%s median:%f'%(f, q1.approxQuantile(f, [0.5], 0.25)[0]))"
   ]
  },
  {
   "cell_type": "code",
   "execution_count": null,
   "metadata": {
    "ExecuteTime": {
     "end_time": "2018-04-21T03:58:06.429957Z",
     "start_time": "2018-04-21T03:57:52.585Z"
    }
   },
   "outputs": [],
   "source": [
    "for f in q1_feature_nemaes:\n",
    "    print('%s mode is'%(f), q1.select(f).rdd\n",
    "    .map(lambda x: (str(x[0]), 1))\n",
    "    .reduceByKey(lambda a,b:a+b)\n",
    "    .sortBy(lambda w: w[1], ascending=False)\n",
    "    .take(1))"
   ]
  },
  {
   "cell_type": "markdown",
   "metadata": {},
   "source": [
    "### (2) For symbolic attributes ‘protocol_type’, ‘service’, ‘flag’, ‘logged_in’, ‘intrusion_type’, output the list of each value and the corresponding frequency count, sorted in descending order of the count\n"
   ]
  },
  {
   "cell_type": "code",
   "execution_count": 66,
   "metadata": {
    "ExecuteTime": {
     "end_time": "2018-04-21T03:58:14.983825Z",
     "start_time": "2018-04-21T03:58:14.980202Z"
    }
   },
   "outputs": [],
   "source": [
    "q2_feature_names = ['protocol_type', 'service', 'flag', 'logged_in', 'intrusion_type']"
   ]
  },
  {
   "cell_type": "code",
   "execution_count": 69,
   "metadata": {
    "ExecuteTime": {
     "end_time": "2018-04-21T03:59:57.379454Z",
     "start_time": "2018-04-21T03:59:40.048279Z"
    }
   },
   "outputs": [
    {
     "data": {
      "text/plain": [
       "[('icmp', 28422), ('tcp', 18964), ('udp', 1939)]"
      ]
     },
     "execution_count": 69,
     "metadata": {},
     "output_type": "execute_result"
    }
   ],
   "source": [
    "# (data.select('protocol_type').rdd\n",
    "# .map(lambda x: (x[0], 1))\n",
    "# .reduceByKey(lambda a,b:a+b)\n",
    "# .sortBy(lambda w: w[1], ascending=False)\n",
    "# .collect())"
   ]
  },
  {
   "cell_type": "code",
   "execution_count": 72,
   "metadata": {
    "ExecuteTime": {
     "end_time": "2018-04-21T04:03:39.719451Z",
     "start_time": "2018-04-21T04:02:06.964134Z"
    }
   },
   "outputs": [
    {
     "name": "stdout",
     "output_type": "stream",
     "text": [
      "q2 column:protocol_type value and the corresponding frequency count [('icmp', 28422), ('tcp', 18964), ('udp', 1939)]\n",
      "q2 column:service value and the corresponding frequency count [('ecr_i', 28187), ('private', 11022), ('http', 6350), ('smtp', 1027), ('other', 781), ('domain_u', 574), ('ftp_data', 390), ('eco_i', 171), ('finger', 69), ('urp_i', 61), ('ftp', 55), ('telnet', 45), ('auth', 40), ('ntp_u', 35), ('pop_3', 22), ('ssh', 19), ('time', 19), ('vmnet', 17), ('ldap', 16), ('exec', 16), ('domain', 15), ('sql_net', 15), ('Z39_50', 14), ('efs', 14), ('netbios_ssn', 14), ('supdup', 13), ('netbios_dgm', 13), ('shell', 13), ('echo', 13), ('bgp', 12), ('mtp', 12), ('nntp', 12), ('uucp', 12), ('remote_job', 11), ('whois', 11), ('http_443', 11), ('discard', 11), ('login', 10), ('netstat', 10), ('rje', 10), ('hostnames', 10), ('gopher', 10), ('courier', 10), ('netbios_ns', 10), ('pop_2', 10), ('systat', 10), ('csnet_ns', 9), ('printer', 9), ('ctf', 8), ('daytime', 8), ('name', 8), ('sunrpc', 7), ('link', 7), ('imap4', 7), ('uucp_path', 6), ('nnsp', 6), ('klogin', 6), ('iso_tsap', 6), ('kshell', 6), ('IRC', 5), ('urh_i', 3), ('X11', 2)]\n",
      "q2 column:flag value and the corresponding frequency count [('SF', 37704), ('S0', 8805), ('REJ', 2669), ('RSTR', 77), ('RSTO', 50), ('SH', 11), ('S1', 5), ('S2', 2), ('RSTOS0', 1), ('S3', 1)]\n",
      "q2 column:logged_in value and the corresponding frequency count [('0', 42126), ('1', 7199)]\n",
      "q2 column:intrusion_type value and the corresponding frequency count [('smurf.', 28154), ('neptune.', 10787), ('normal.', 9905), ('satan.', 180), ('ipsweep.', 137), ('portsweep.', 95), ('nmap.', 24), ('back.', 15), ('teardrop.', 14), ('warezclient.', 8), ('guess_passwd.', 2), ('pod.', 2), ('loadmodule.', 1), ('multihop.', 1)]\n"
     ]
    }
   ],
   "source": [
    "for f in q2_feature_names:\n",
    "    r = (data.select(f).rdd\n",
    "        .map(lambda x: (x[0], 1))\n",
    "        .reduceByKey(lambda a,b:a+b)\n",
    "        .sortBy(lambda w: w[1], ascending=False)\n",
    "        .collect())\n",
    "    print('[Q2] column:%s value and the corresponding frequency count'%(f), r)"
   ]
  },
  {
   "cell_type": "markdown",
   "metadata": {},
   "source": [
    "### (3) Output the list of the most frequently used ‘service’ for each ‘intrusion_type’, sorted in descending order of the occurrence frequency"
   ]
  },
  {
   "cell_type": "code",
   "execution_count": 83,
   "metadata": {
    "ExecuteTime": {
     "end_time": "2018-04-21T04:22:56.035369Z",
     "start_time": "2018-04-21T04:22:37.624551Z"
    }
   },
   "outputs": [
    {
     "name": "stdout",
     "output_type": "stream",
     "text": [
      "intrusion_type:[   warezclient.],  most frequently used service is:     ('ftp_data', 4)\n",
      "intrusion_type:[      teardrop.],  most frequently used service is:     ('private', 14)\n",
      "intrusion_type:[         satan.],  most frequently used service is:      ('other', 143)\n",
      "intrusion_type:[         smurf.],  most frequently used service is:    ('ecr_i', 28154)\n",
      "intrusion_type:[          back.],  most frequently used service is:        ('http', 15)\n",
      "intrusion_type:[       neptune.],  most frequently used service is:  ('private', 10188)\n",
      "intrusion_type:[    loadmodule.],  most frequently used service is:       ('telnet', 1)\n",
      "intrusion_type:[       ipsweep.],  most frequently used service is:      ('eco_i', 129)\n",
      "intrusion_type:[      multihop.],  most frequently used service is:          ('ftp', 1)\n",
      "intrusion_type:[     portsweep.],  most frequently used service is:     ('private', 58)\n",
      "intrusion_type:[  guess_passwd.],  most frequently used service is:       ('telnet', 2)\n",
      "intrusion_type:[           pod.],  most frequently used service is:        ('ecr_i', 2)\n",
      "intrusion_type:[        normal.],  most frequently used service is:      ('http', 6314)\n",
      "intrusion_type:[          nmap.],  most frequently used service is:       ('eco_i', 11)\n"
     ]
    }
   ],
   "source": [
    "q3_result =  (data.select('service', 'intrusion_type').rdd\n",
    ".map(lambda x: ((x[0], x[1]), 1))\n",
    ".reduceByKey(lambda a,b: a+b)\n",
    ".map(lambda x: (x[0][1], (x[0][0], x[1])))\n",
    ".groupByKey()\n",
    ".map(lambda x: (x[0], sorted(x[1], key=lambda x: x[1], reverse=True)[0]))\n",
    ".collect())\n",
    "for intrusion_type, r in q3_result:\n",
    "    print('[Q3]intrusion_type:[%15s],  most frequently used service is:%20s'%(intrusion_type, str(r)))"
   ]
  },
  {
   "attachments": {},
   "cell_type": "markdown",
   "metadata": {},
   "source": [
    "### (4) If we regard the values of ‘intrusion_type’ except “normal” as abnormal, calculate the correlation coefficient of “number of abnormal instances” and ‘num_failed_logins’ by the following formula:\n"
   ]
  },
  {
   "cell_type": "code",
   "execution_count": 12,
   "metadata": {
    "ExecuteTime": {
     "end_time": "2018-04-21T04:36:17.869100Z",
     "start_time": "2018-04-21T04:36:17.846183Z"
    }
   },
   "outputs": [],
   "source": [
    "q4 = data.select('intrusion_type', 'num_failed_logins')"
   ]
  },
  {
   "cell_type": "code",
   "execution_count": 13,
   "metadata": {
    "ExecuteTime": {
     "end_time": "2018-04-21T04:36:19.186511Z",
     "start_time": "2018-04-21T04:36:19.125032Z"
    }
   },
   "outputs": [],
   "source": [
    "q4 = (q4.withColumn('is_normal', q4.intrusion_type == 'normal.'))\n",
    "q4 = q4.withColumn('is_normal', q4.is_normal.cast('int'))"
   ]
  },
  {
   "cell_type": "code",
   "execution_count": 14,
   "metadata": {
    "ExecuteTime": {
     "end_time": "2018-04-21T04:36:37.969969Z",
     "start_time": "2018-04-21T04:36:19.976447Z"
    }
   },
   "outputs": [],
   "source": [
    "corr_coe = q4.select('is_normal', 'num_failed_logins').collect()"
   ]
  },
  {
   "cell_type": "code",
   "execution_count": 15,
   "metadata": {
    "ExecuteTime": {
     "end_time": "2018-04-21T04:37:04.545017Z",
     "start_time": "2018-04-21T04:37:04.531975Z"
    }
   },
   "outputs": [
    {
     "data": {
      "text/plain": [
       "49325"
      ]
     },
     "execution_count": 15,
     "metadata": {},
     "output_type": "execute_result"
    }
   ],
   "source": [
    "len(corr_coe)"
   ]
  },
  {
   "cell_type": "code",
   "execution_count": null,
   "metadata": {
    "ExecuteTime": {
     "start_time": "2018-04-21T04:37:28.969Z"
    }
   },
   "outputs": [],
   "source": [
    "corr_coe = np.corrcoef(np.array(corr_coe))"
   ]
  },
  {
   "cell_type": "code",
   "execution_count": null,
   "metadata": {
    "ExecuteTime": {
     "end_time": "2018-04-21T03:36:17.880172Z",
     "start_time": "2018-04-21T03:35:37.138Z"
    }
   },
   "outputs": [],
   "source": [
    "sc.stop()"
   ]
  },
  {
   "cell_type": "code",
   "execution_count": null,
   "metadata": {
    "ExecuteTime": {
     "end_time": "2018-04-21T03:36:17.881460Z",
     "start_time": "2018-04-21T03:35:37.140Z"
    }
   },
   "outputs": [],
   "source": [
    "print('cost {:.3f} minutes'.format((time.time()-t0)/60))"
   ]
  }
 ],
 "metadata": {
  "kernelspec": {
   "display_name": "Python 3",
   "language": "python",
   "name": "python3"
  },
  "latex_envs": {
   "LaTeX_envs_menu_present": true,
   "autoclose": false,
   "autocomplete": true,
   "bibliofile": "biblio.bib",
   "cite_by": "apalike",
   "current_citInitial": 1,
   "eqLabelWithNumbers": true,
   "eqNumInitial": 1,
   "hotkeys": {
    "equation": "Ctrl-E",
    "itemize": "Ctrl-I"
   },
   "labels_anchors": false,
   "latex_user_defs": false,
   "report_style_numbering": false,
   "user_envs_cfg": false
  },
  "toc": {
   "nav_menu": {},
   "number_sections": true,
   "sideBar": true,
   "skip_h1_title": false,
   "title_cell": "Table of Contents",
   "title_sidebar": "Contents",
   "toc_cell": false,
   "toc_position": {},
   "toc_section_display": true,
   "toc_window_display": false
  },
  "varInspector": {
   "cols": {
    "lenName": 16,
    "lenType": 16,
    "lenVar": 40
   },
   "kernels_config": {
    "python": {
     "delete_cmd_postfix": "",
     "delete_cmd_prefix": "del ",
     "library": "var_list.py",
     "varRefreshCmd": "print(var_dic_list())"
    },
    "r": {
     "delete_cmd_postfix": ") ",
     "delete_cmd_prefix": "rm(",
     "library": "var_list.r",
     "varRefreshCmd": "cat(var_dic_list()) "
    }
   },
   "types_to_exclude": [
    "module",
    "function",
    "builtin_function_or_method",
    "instance",
    "_Feature"
   ],
   "window_display": false
  }
 },
 "nbformat": 4,
 "nbformat_minor": 2
}
