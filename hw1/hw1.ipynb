{
 "cells": [
  {
   "cell_type": "markdown",
   "metadata": {},
   "source": [
    "## 103590450 四資四 馬茂源"
   ]
  },
  {
   "cell_type": "code",
   "execution_count": 44,
   "metadata": {
    "ExecuteTime": {
     "end_time": "2018-03-28T12:50:14.214091Z",
     "start_time": "2018-03-28T12:50:14.212085Z"
    }
   },
   "outputs": [],
   "source": [
    "from pyspark import SparkConf, SparkContext, SQLContext\n",
    "#from pyspark.sql.functions import mean, max as max_, min as min_, stddev, count\n",
    "import os, math"
   ]
  },
  {
   "cell_type": "code",
   "execution_count": 45,
   "metadata": {
    "ExecuteTime": {
     "end_time": "2018-03-28T12:50:14.222113Z",
     "start_time": "2018-03-28T12:50:14.215093Z"
    }
   },
   "outputs": [],
   "source": [
    "conf = (SparkConf()\n",
    "        #.setMaster('spark://10.100.5.182:7077')\n",
    "        #.setMaster(\"local\")\n",
    "        .setAppName(\"hw1\"))"
   ]
  },
  {
   "cell_type": "code",
   "execution_count": 46,
   "metadata": {
    "ExecuteTime": {
     "end_time": "2018-03-28T12:50:14.228128Z",
     "start_time": "2018-03-28T12:50:14.223114Z"
    }
   },
   "outputs": [],
   "source": [
    "try:\n",
    "    sc = SparkContext(conf=conf)\n",
    "    sql_sc = SQLContext(sc)\n",
    "except ValueError:\n",
    "    pass"
   ]
  },
  {
   "cell_type": "code",
   "execution_count": 47,
   "metadata": {
    "ExecuteTime": {
     "end_time": "2018-03-28T12:50:14.400586Z",
     "start_time": "2018-03-28T12:50:14.229130Z"
    }
   },
   "outputs": [],
   "source": [
    "data = sql_sc.read.csv('./household_power_consumption.csv', sep=';', header=True)"
   ]
  },
  {
   "cell_type": "code",
   "execution_count": 48,
   "metadata": {
    "ExecuteTime": {
     "end_time": "2018-03-28T12:50:14.406603Z",
     "start_time": "2018-03-28T12:50:14.401589Z"
    }
   },
   "outputs": [],
   "source": [
    "data = data.drop('Date', 'Time', 'Sub_metering_1', \n",
    "        'Sub_metering_2', \n",
    "        'Sub_metering_3')"
   ]
  },
  {
   "cell_type": "code",
   "execution_count": 49,
   "metadata": {
    "ExecuteTime": {
     "end_time": "2018-03-28T12:50:14.420640Z",
     "start_time": "2018-03-28T12:50:14.407605Z"
    }
   },
   "outputs": [],
   "source": [
    "data = (data.withColumn('Global_active_power', data.Global_active_power.cast('float'))\n",
    "        .withColumn('Global_reactive_power', data.Global_reactive_power.cast('float'))\n",
    "        .withColumn('Voltage', data.Voltage.cast('float'))\n",
    "        .withColumn('Global_intensity', data.Global_intensity.cast('float')))"
   ]
  },
  {
   "cell_type": "code",
   "execution_count": 50,
   "metadata": {
    "ExecuteTime": {
     "end_time": "2018-03-28T12:50:14.427659Z",
     "start_time": "2018-03-28T12:50:14.421643Z"
    }
   },
   "outputs": [],
   "source": [
    "data = data.dropna()"
   ]
  },
  {
   "cell_type": "markdown",
   "metadata": {},
   "source": [
    "1. Output the **minimum**, **maximum**, and **count** of the columns:`Global_active_power`, `Global_reactive_power`, `Voltage`, and `Global_intensity`\n",
    "2. Output the **mean** and **standard deviation** of these columns\n"
   ]
  },
  {
   "cell_type": "code",
   "execution_count": 51,
   "metadata": {
    "ExecuteTime": {
     "end_time": "2018-03-28T12:50:14.430667Z",
     "start_time": "2018-03-28T12:50:14.428662Z"
    }
   },
   "outputs": [],
   "source": [
    "features = ['Global_active_power', 'Global_reactive_power', 'Voltage', 'Global_intensity']"
   ]
  },
  {
   "cell_type": "code",
   "execution_count": 52,
   "metadata": {
    "ExecuteTime": {
     "end_time": "2018-03-28T12:50:14.437685Z",
     "start_time": "2018-03-28T12:50:14.431669Z"
    }
   },
   "outputs": [],
   "source": [
    "# def get_count(df, feature):\n",
    "#     return df.select(feature).count()\n",
    "# def get_minmax(df, feature):\n",
    "#     return (data.select(feature)\n",
    "#             .rdd\n",
    "#             .sortBy(lambda x: x, ascending=False))"
   ]
  },
  {
   "cell_type": "code",
   "execution_count": 53,
   "metadata": {
    "ExecuteTime": {
     "end_time": "2018-03-28T12:50:15.417605Z",
     "start_time": "2018-03-28T12:50:14.438688Z"
    }
   },
   "outputs": [],
   "source": [
    "count = data.count()"
   ]
  },
  {
   "cell_type": "code",
   "execution_count": 54,
   "metadata": {
    "ExecuteTime": {
     "end_time": "2018-03-28T12:50:15.420613Z",
     "start_time": "2018-03-28T12:50:15.418608Z"
    }
   },
   "outputs": [],
   "source": [
    "summary = {k:{} for k in ['min', 'max', 'mean', 'stddev', 'count']}\n",
    "summary['count'] = {f:count for f in features}"
   ]
  },
  {
   "cell_type": "code",
   "execution_count": 55,
   "metadata": {
    "ExecuteTime": {
     "end_time": "2018-03-28T12:50:30.283216Z",
     "start_time": "2018-03-28T12:50:15.421617Z"
    }
   },
   "outputs": [],
   "source": [
    "max__ = (data.rdd.map(lambda x: (x.Global_active_power, \n",
    "                        x.Global_reactive_power,\n",
    "                        x.Voltage,\n",
    "                        x.Global_intensity))\n",
    ".reduce(lambda x, y: tuple(max(p) for p in zip(x, y))))\n",
    "min__ = (data.rdd.map(lambda x: (x.Global_active_power, \n",
    "                        x.Global_reactive_power,\n",
    "                        x.Voltage,\n",
    "                        x.Global_intensity))\n",
    ".reduce(lambda x, y: tuple(min(p) for p in zip(x, y))))\n",
    "for i, f in enumerate(features):\n",
    "    summary['max'][f] = max__[i]\n",
    "    summary['min'][f] = min__[i]"
   ]
  },
  {
   "cell_type": "code",
   "execution_count": 56,
   "metadata": {
    "ExecuteTime": {
     "end_time": "2018-03-28T12:50:37.383472Z",
     "start_time": "2018-03-28T12:50:30.283216Z"
    }
   },
   "outputs": [],
   "source": [
    "sum_ = (data.rdd.map(lambda x: (x.Global_active_power, \n",
    "                        x.Global_reactive_power,\n",
    "                        x.Voltage,\n",
    "                        x.Global_intensity))\n",
    "        .reduce(lambda x,y: tuple(x_n+y_n for x_n, y_n in zip(x, y))))\n",
    "for i, f in enumerate(features):\n",
    "    summary['mean'][f] = sum_[i]/summary['count'][f]"
   ]
  },
  {
   "cell_type": "code",
   "execution_count": 57,
   "metadata": {
    "ExecuteTime": {
     "end_time": "2018-03-28T12:50:44.875570Z",
     "start_time": "2018-03-28T12:50:37.383472Z"
    }
   },
   "outputs": [],
   "source": [
    "temp = (data.rdd.map(lambda x: ((x.Global_active_power-summary['mean']['Global_active_power'])**2, \n",
    "                        (x.Global_reactive_power-summary['mean']['Global_reactive_power'])**2,\n",
    "                        (x.Voltage-summary['mean']['Voltage'])**2,\n",
    "                        (x.Global_intensity-summary['mean']['Global_intensity'])**2))\n",
    "        .reduce(lambda x, y: tuple(x_n+y_n for x_n, y_n in zip(x, y))))\n",
    "\n",
    "for i, f in enumerate(features):\n",
    "    summary['stddev'][f] = math.sqrt(temp[i] / (summary['count'][f]-1)) "
   ]
  },
  {
   "cell_type": "code",
   "execution_count": 59,
   "metadata": {
    "ExecuteTime": {
     "end_time": "2018-03-28T12:51:05.329377Z",
     "start_time": "2018-03-28T12:51:05.326369Z"
    }
   },
   "outputs": [
    {
     "data": {
      "text/plain": [
       "{'count': {'Global_active_power': 2049280,\n",
       "  'Global_intensity': 2049280,\n",
       "  'Global_reactive_power': 2049280,\n",
       "  'Voltage': 2049280},\n",
       " 'max': {'Global_active_power': 11.121999740600586,\n",
       "  'Global_intensity': 48.400001525878906,\n",
       "  'Global_reactive_power': 1.3899999856948853,\n",
       "  'Voltage': 254.14999389648438},\n",
       " 'mean': {'Global_active_power': 1.0916150366540094,\n",
       "  'Global_intensity': 4.627759313004169,\n",
       "  'Global_reactive_power': 0.1237144765251571,\n",
       "  'Voltage': 240.83985796672414},\n",
       " 'min': {'Global_active_power': 0.07599999755620956,\n",
       "  'Global_intensity': 0.20000000298023224,\n",
       "  'Global_reactive_power': 0.0,\n",
       "  'Voltage': 223.1999969482422},\n",
       " 'stddev': {'Global_active_power': 1.0572941611178606,\n",
       "  'Global_intensity': 4.444396258980827,\n",
       "  'Global_reactive_power': 0.11272197958643036,\n",
       "  'Voltage': 3.2399866612060313}}"
      ]
     },
     "execution_count": 59,
     "metadata": {},
     "output_type": "execute_result"
    }
   ],
   "source": [
    "summary"
   ]
  },
  {
   "cell_type": "code",
   "execution_count": 18,
   "metadata": {
    "ExecuteTime": {
     "end_time": "2018-03-28T09:49:16.646303Z",
     "start_time": "2018-03-28T09:49:16.642900Z"
    }
   },
   "outputs": [],
   "source": [
    "# summary = data.select(features).describe()\n",
    "# summary.show()\n",
    "# +-------+-------------------+---------------------+------------------+-----------------+\n",
    "# |summary|Global_active_power|Global_reactive_power|           Voltage| Global_intensity|\n",
    "# +-------+-------------------+---------------------+------------------+-----------------+\n",
    "# |  count|            2049280|              2049280|           2049280|          2049280|\n",
    "# |   mean| 1.0916150366540094|   0.1237144765251571|240.83985796672414|4.627759313004169|\n",
    "# | stddev| 1.0572941611180013|  0.11272197958641254|  3.23998666120589|4.444396258981289|\n",
    "# |    min|              0.076|                  0.0|             223.2|              0.2|\n",
    "# |    max|             11.122|                 1.39|            254.15|             48.4|\n",
    "# +-------+-------------------+---------------------+------------------+-----------------+"
   ]
  },
  {
   "cell_type": "markdown",
   "metadata": {},
   "source": [
    "3 . Perform **min-max normalization** on the columns to generate normalized output"
   ]
  },
  {
   "cell_type": "code",
   "execution_count": 20,
   "metadata": {
    "ExecuteTime": {
     "end_time": "2018-03-28T12:09:49.512871Z",
     "start_time": "2018-03-28T12:09:49.452711Z"
    },
    "scrolled": false
   },
   "outputs": [],
   "source": [
    "for f in features:\n",
    "    min_ = summary['min'][f]\n",
    "    max_ = summary['max'][f] \n",
    "    data = (data.withColumn('norm_' + f, \n",
    "                     (data[f] - min_) / (max_ - min_)))"
   ]
  },
  {
   "cell_type": "code",
   "execution_count": 21,
   "metadata": {
    "ExecuteTime": {
     "end_time": "2018-03-28T12:09:56.399332Z",
     "start_time": "2018-03-28T12:09:52.819923Z"
    }
   },
   "outputs": [
    {
     "name": "stdout",
     "output_type": "stream",
     "text": [
      "+------------------------+--------------------------+--------------------+---------------------+\n",
      "|norm_Global_active_power|norm_Global_reactive_power|        norm_Voltage|norm_Global_intensity|\n",
      "+------------------------+--------------------------+--------------------+---------------------+\n",
      "|      0.3747963225473887|         2.402298992321791| -0.2222218127001795|  0.37759334108949466|\n",
      "|     0.47836323183743595|         2.505747138249038| 0.07004669779853236|  0.47302903063577767|\n",
      "|     0.47963065346431577|         2.862069024578524| 0.15217511490164715|  0.47302903063577767|\n",
      "|     0.48089807509119564|        2.8850574062969567|0.043476498144250864|  0.47302903063577767|\n",
      "|     0.32500452429198895|         3.034482829494229| -0.4251195087701193|   0.3236514459515824|\n",
      "|       0.311787077990743|          3.00000017127772| -0.2657019965428149|  0.30705393214538884|\n",
      "|      0.3282636238926484|        2.9885057235019237| -0.2826082950327843|   0.3236514459515824|\n",
      "|      0.3280825759940403|        2.9885057235019237|-0.31401044526922184|   0.3236514459515824|\n",
      "|      0.3251855937747528|         2.931034512289262|-0.01690998418835393|   0.3236514459515824|\n",
      "|     0.32464240691061697|         2.931034512289262|0.014492166048083621|   0.3236514459515824|\n",
      "|      0.3957993896768334|         2.862069024578524|  0.2560380953785028|  0.40248962169167185|\n",
      "|     0.48307082254773914|        2.7011494961608955|  0.2753622120087425|  0.47717842392665627|\n",
      "|     0.46605106819754205|         2.747126430875481| 0.22463594514206525|   0.4605808903346891|\n",
      "|     0.47003442414510127|         2.287356398618748| 0.24396006177230492|   0.4647302836255677|\n",
      "|     0.36013036355234324|         2.425287374040224| -0.3188423958513779|   0.3609958470690746|\n",
      "|      0.2994749359350049|        1.6206897319520812| -0.7777781872998205|   0.2904564183391952|\n",
      "|     0.28915445026889064|        0.8735632154377405| -0.6787434717067363|   0.2821576713289852|\n",
      "|     0.30363933978117225|        0.8965517684338931| -0.7584540706695808|  0.29460579184430025|\n",
      "|     0.28879233288751865|                       0.0| -0.7753640548579348|   0.2821576713289852|\n",
      "|         0.3306174192478|                       0.0| -0.4637677420305987|   0.3360995664668974|\n",
      "+------------------------+--------------------------+--------------------+---------------------+\n",
      "only showing top 20 rows\n",
      "\n"
     ]
    }
   ],
   "source": [
    "data.select(['norm_'+f for f in features]).show()"
   ]
  },
  {
   "cell_type": "code",
   "execution_count": 22,
   "metadata": {
    "ExecuteTime": {
     "end_time": "2018-03-28T12:10:27.912576Z",
     "start_time": "2018-03-28T12:10:26.940610Z"
    }
   },
   "outputs": [],
   "source": [
    "sc.stop()"
   ]
  },
  {
   "cell_type": "code",
   "execution_count": null,
   "metadata": {},
   "outputs": [],
   "source": []
  }
 ],
 "metadata": {
  "kernelspec": {
   "display_name": "Python 3",
   "language": "python",
   "name": "python3"
  },
  "language_info": {
   "codemirror_mode": {
    "name": "ipython",
    "version": 3
   },
   "file_extension": ".py",
   "mimetype": "text/x-python",
   "name": "python",
   "nbconvert_exporter": "python",
   "pygments_lexer": "ipython3",
   "version": "3.6.4"
  },
  "toc": {
   "nav_menu": {},
   "number_sections": false,
   "sideBar": true,
   "skip_h1_title": false,
   "title_cell": "Table of Contents",
   "title_sidebar": "Contents",
   "toc_cell": false,
   "toc_position": {
    "height": "calc(100% - 180px)",
    "left": "10px",
    "top": "150px",
    "width": "307px"
   },
   "toc_section_display": true,
   "toc_window_display": false
  },
  "varInspector": {
   "cols": {
    "lenName": 16,
    "lenType": 16,
    "lenVar": 40
   },
   "kernels_config": {
    "python": {
     "delete_cmd_postfix": "",
     "delete_cmd_prefix": "del ",
     "library": "var_list.py",
     "varRefreshCmd": "print(var_dic_list())"
    },
    "r": {
     "delete_cmd_postfix": ") ",
     "delete_cmd_prefix": "rm(",
     "library": "var_list.r",
     "varRefreshCmd": "cat(var_dic_list()) "
    }
   },
   "types_to_exclude": [
    "module",
    "function",
    "builtin_function_or_method",
    "instance",
    "_Feature"
   ],
   "window_display": false
  }
 },
 "nbformat": 4,
 "nbformat_minor": 2
}
