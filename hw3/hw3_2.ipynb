{
 "cells": [
  {
   "cell_type": "markdown",
   "metadata": {},
   "source": [
    "# 103590450 馬茂源 四資四"
   ]
  },
  {
   "cell_type": "code",
   "execution_count": null,
   "metadata": {
    "ExecuteTime": {
     "end_time": "2018-04-27T08:27:39.421558Z",
     "start_time": "2018-04-27T08:27:38.887780Z"
    }
   },
   "outputs": [],
   "source": [
    "import pandas as pd\n",
    "import numpy as np\n",
    "#from nltk.tokenize import word_tokenize, sent_tokenize\n",
    "#from nltk import download\n",
    "import time\n",
    "import os\n",
    "import sys\n",
    "import string\n",
    "import html\n",
    "import hashlib\n",
    "import re\n",
    "from collections import defaultdict\n",
    "import itertools"
   ]
  },
  {
   "cell_type": "code",
   "execution_count": null,
   "metadata": {
    "ExecuteTime": {
     "end_time": "2018-04-27T08:27:39.426960Z",
     "start_time": "2018-04-27T08:27:39.423821Z"
    }
   },
   "outputs": [],
   "source": [
    "#download('punkt')"
   ]
  },
  {
   "cell_type": "code",
   "execution_count": null,
   "metadata": {
    "ExecuteTime": {
     "end_time": "2018-04-27T08:27:39.431912Z",
     "start_time": "2018-04-27T08:27:39.429426Z"
    }
   },
   "outputs": [],
   "source": [
    "t0 = time.time()"
   ]
  },
  {
   "cell_type": "code",
   "execution_count": null,
   "metadata": {
    "ExecuteTime": {
     "end_time": "2018-04-27T08:27:39.442397Z",
     "start_time": "2018-04-27T08:27:39.435923Z"
    }
   },
   "outputs": [],
   "source": [
    "if not os.path.exists('result'):\n",
    "    os.mkdir('result')\n",
    "for i in range(1, 5):\n",
    "    dir_ = 'result/task{}'.format(i)\n",
    "    if not os.path.exists(dir_):\n",
    "        os.mkdir(dir_)"
   ]
  },
  {
   "cell_type": "code",
   "execution_count": null,
   "metadata": {
    "ExecuteTime": {
     "end_time": "2018-04-27T08:27:39.448505Z",
     "start_time": "2018-04-27T08:27:39.445333Z"
    }
   },
   "outputs": [],
   "source": [
    "file_names = ['./data/reut2-{0:0>3}.sgm'.format(i) for i in range(22)]\n",
    "file_names = [file_names[0]]"
   ]
  },
  {
   "cell_type": "markdown",
   "metadata": {},
   "source": [
    "## (1) Given the Reuters-21578 dataset, please calculate all kshingles and output the set representation of the text dataset as a matrix. "
   ]
  },
  {
   "cell_type": "code",
   "execution_count": null,
   "metadata": {
    "ExecuteTime": {
     "end_time": "2018-04-27T08:27:39.456334Z",
     "start_time": "2018-04-27T08:27:39.450557Z"
    }
   },
   "outputs": [],
   "source": [
    "def parser(file_name):\n",
    "    with open(file_name, 'r', encoding='ISO-8859-1') as f:\n",
    "        file = f.read()\n",
    "    news = []\n",
    "    start = 0\n",
    "    for i in range(len(file)):\n",
    "        if file[i:i+6] == '<BODY>':\n",
    "            start = i+6\n",
    "        elif file[i:i+7] == '</BODY>':\n",
    "            n = file[start:i].replace('\\n', ' ')\n",
    "            n = n.replace('REUTER &#3;', '')\n",
    "            news.append(n)\n",
    "    return news"
   ]
  },
  {
   "cell_type": "code",
   "execution_count": null,
   "metadata": {
    "ExecuteTime": {
     "end_time": "2018-04-27T08:27:50.457881Z",
     "start_time": "2018-04-27T08:27:39.458385Z"
    }
   },
   "outputs": [],
   "source": [
    "news = []\n",
    "for i in file_names:\n",
    "    each_news = parser(i) \n",
    "    news.extend(each_news)"
   ]
  },
  {
   "cell_type": "code",
   "execution_count": null,
   "metadata": {
    "ExecuteTime": {
     "end_time": "2018-04-27T08:27:50.472440Z",
     "start_time": "2018-04-27T08:27:50.460125Z"
    }
   },
   "outputs": [],
   "source": [
    "len(news)"
   ]
  },
  {
   "cell_type": "code",
   "execution_count": null,
   "metadata": {
    "ExecuteTime": {
     "end_time": "2018-04-27T08:27:50.479098Z",
     "start_time": "2018-04-27T08:27:50.474647Z"
    }
   },
   "outputs": [],
   "source": [
    "news_data = pd.DataFrame(data=news, columns=['news'])"
   ]
  },
  {
   "cell_type": "code",
   "execution_count": null,
   "metadata": {
    "ExecuteTime": {
     "end_time": "2018-04-27T08:27:50.501620Z",
     "start_time": "2018-04-27T08:27:50.481242Z"
    },
    "scrolled": true
   },
   "outputs": [],
   "source": [
    "news_data.head()"
   ]
  },
  {
   "cell_type": "code",
   "execution_count": null,
   "metadata": {
    "ExecuteTime": {
     "end_time": "2018-04-27T08:27:50.507541Z",
     "start_time": "2018-04-27T08:27:50.503726Z"
    }
   },
   "outputs": [],
   "source": [
    "def tokenizer(text):\n",
    "    strip_chars = '.' + ' –…' + string.punctuation\n",
    "    text = html.unescape(text)\n",
    "    text = text.lower()\n",
    "    text = text.strip(strip_chars)\n",
    "    text = text.replace('reuter', '')\n",
    "    text = re.sub(re.compile('<.*?>'), '', text)\n",
    "    return re.findall(r'\\w+', text)\n",
    "    return text"
   ]
  },
  {
   "cell_type": "code",
   "execution_count": null,
   "metadata": {
    "ExecuteTime": {
     "end_time": "2018-04-27T08:27:50.513112Z",
     "start_time": "2018-04-27T08:27:50.509383Z"
    }
   },
   "outputs": [],
   "source": [
    "test_news = news_data['news'][1]"
   ]
  },
  {
   "cell_type": "code",
   "execution_count": null,
   "metadata": {
    "ExecuteTime": {
     "end_time": "2018-04-27T08:27:50.518597Z",
     "start_time": "2018-04-27T08:27:50.515527Z"
    }
   },
   "outputs": [],
   "source": [
    "#tokenizer(test_news)"
   ]
  },
  {
   "cell_type": "code",
   "execution_count": null,
   "metadata": {
    "ExecuteTime": {
     "end_time": "2018-04-27T08:27:52.235037Z",
     "start_time": "2018-04-27T08:27:50.520675Z"
    }
   },
   "outputs": [],
   "source": [
    "news_data['news_token'] = news_data.apply(lambda x: tokenizer(x['news']), axis=1)"
   ]
  },
  {
   "cell_type": "code",
   "execution_count": null,
   "metadata": {
    "ExecuteTime": {
     "start_time": "2018-04-27T08:28:01.979Z"
    }
   },
   "outputs": [],
   "source": [
    "#news_data"
   ]
  },
  {
   "cell_type": "code",
   "execution_count": null,
   "metadata": {
    "ExecuteTime": {
     "end_time": "2018-04-27T08:27:52.331428Z",
     "start_time": "2018-04-27T08:27:52.327461Z"
    }
   },
   "outputs": [],
   "source": [
    "def k_shingle(text, k):\n",
    "    string = ' '.join(text)\n",
    "    shingles = set([])\n",
    "    for i in range(len(string)-k + 1):\n",
    "        shingles.add(string[i:i+k])\n",
    "    return shingles"
   ]
  },
  {
   "cell_type": "code",
   "execution_count": null,
   "metadata": {
    "ExecuteTime": {
     "end_time": "2018-04-27T08:27:58.057691Z",
     "start_time": "2018-04-27T08:27:52.334388Z"
    }
   },
   "outputs": [],
   "source": [
    "news_data['news_token'] = news_data['news_token'].apply(lambda x: k_shingle(x, 5))"
   ]
  },
  {
   "cell_type": "code",
   "execution_count": null,
   "metadata": {
    "ExecuteTime": {
     "end_time": "2018-04-27T08:27:58.986902Z",
     "start_time": "2018-04-27T08:27:58.060296Z"
    },
    "scrolled": true
   },
   "outputs": [],
   "source": [
    "shingles = set([])\n",
    "for s in news_data['news_token'].values:\n",
    "    shingles |= s"
   ]
  },
  {
   "cell_type": "code",
   "execution_count": null,
   "metadata": {
    "ExecuteTime": {
     "end_time": "2018-04-27T08:27:58.993893Z",
     "start_time": "2018-04-27T08:27:58.989110Z"
    }
   },
   "outputs": [],
   "source": [
    "N = len(shingles)\n",
    "N"
   ]
  },
  {
   "cell_type": "code",
   "execution_count": null,
   "metadata": {
    "ExecuteTime": {
     "end_time": "2018-04-27T08:27:59.022957Z",
     "start_time": "2018-04-27T08:27:58.996489Z"
    }
   },
   "outputs": [],
   "source": [
    "shingles = list(shingles)"
   ]
  },
  {
   "cell_type": "code",
   "execution_count": null,
   "metadata": {
    "ExecuteTime": {
     "end_time": "2018-04-27T08:27:59.034985Z",
     "start_time": "2018-04-27T08:27:59.031641Z"
    }
   },
   "outputs": [],
   "source": [
    "def encode_shingles(row, shingles):\n",
    "    return np.array([shingle in row for shingle in (shingles)], dtype='int') "
   ]
  },
  {
   "cell_type": "code",
   "execution_count": null,
   "metadata": {
    "ExecuteTime": {
     "end_time": "2018-04-27T08:45:11.184134Z",
     "start_time": "2018-04-27T08:27:59.037098Z"
    }
   },
   "outputs": [],
   "source": [
    "news_data['shingles'] = news_data['news_token'].apply(encode_shingles, args=(shingles,))"
   ]
  },
  {
   "cell_type": "code",
   "execution_count": null,
   "metadata": {
    "ExecuteTime": {
     "start_time": "2018-04-27T08:27:39.021Z"
    }
   },
   "outputs": [],
   "source": [
    "output_shingles = np.array(news_data['shingles'].tolist()).T#.astype('int')"
   ]
  },
  {
   "cell_type": "code",
   "execution_count": null,
   "metadata": {
    "ExecuteTime": {
     "start_time": "2018-04-27T08:27:39.027Z"
    }
   },
   "outputs": [],
   "source": [
    "#np.savetxt(\"task_1.csv\", output_shingles, delimiter=\",\",  fmt='%d')"
   ]
  },
  {
   "cell_type": "markdown",
   "metadata": {},
   "source": [
    "## (2) Given the set representation, compute the minhash signatures of all documents using MapReduce."
   ]
  },
  {
   "cell_type": "code",
   "execution_count": null,
   "metadata": {
    "ExecuteTime": {
     "start_time": "2018-04-27T08:27:39.093Z"
    }
   },
   "outputs": [],
   "source": [
    "news_shingles = output_shingles"
   ]
  },
  {
   "cell_type": "code",
   "execution_count": null,
   "metadata": {
    "ExecuteTime": {
     "start_time": "2018-04-27T08:27:39.095Z"
    }
   },
   "outputs": [],
   "source": [
    "def get_prime(greater_than):\n",
    "    \n",
    "    def is_prime(n):\n",
    "        if n % 2 == 0 and n > 2: \n",
    "            return False\n",
    "        return all(n % i for i in range(3, int(np.sqrt(n)) + 1, 2))\n",
    "    is_p = False\n",
    "    \n",
    "    \n",
    "    \n",
    "    while not is_p:\n",
    "        greater_than += 1\n",
    "        is_p = is_prime(greater_than)\n",
    "        \n",
    "    return greater_than"
   ]
  },
  {
   "cell_type": "code",
   "execution_count": null,
   "metadata": {
    "ExecuteTime": {
     "start_time": "2018-04-27T08:27:39.097Z"
    }
   },
   "outputs": [],
   "source": [
    "def get_hash_func_list(n, k=100):\n",
    "    p = get_prime(n)\n",
    "    func_list = []\n",
    "    for a, b in zip(np.random.randint(0, n, size=k),\n",
    "                   np.random.randint(0, n, size=k)):\n",
    "        func_list.append(lambda x, a=a,b=b,p=p,n=n: ((a*x+b)%p)%n)\n",
    "    return np.array(func_list)"
   ]
  },
  {
   "cell_type": "code",
   "execution_count": null,
   "metadata": {
    "ExecuteTime": {
     "start_time": "2018-04-27T08:27:39.100Z"
    }
   },
   "outputs": [],
   "source": [
    "def one_pass_minhashing(shingles, k=100):\n",
    "    n = shingles.shape[0]\n",
    "    hash_list = get_hash_func_list(n, k=k)\n",
    "    singnature = np.full((k, shingles.shape[1]), fill_value=np.inf)\n",
    "    \n",
    "    for i in range(n):\n",
    "        hash_value = np.array([h(i) for h in hash_list])\n",
    "\n",
    "        for j, c in enumerate(shingles[i, :] == 1):\n",
    "            if c:\n",
    "                mask = singnature[:, j] > hash_value\n",
    "                singnature[:, j][mask] = hash_value[mask]\n",
    "            \n",
    "    return singnature"
   ]
  },
  {
   "cell_type": "code",
   "execution_count": null,
   "metadata": {
    "ExecuteTime": {
     "start_time": "2018-04-27T08:27:39.101Z"
    }
   },
   "outputs": [],
   "source": [
    "test_input = np.array([[1,0,1,0],\n",
    "                       [1,0,0,1],\n",
    "                       [0,1,0,1],\n",
    "                       [0,1,0,1],\n",
    "                       [0,1,0,1],\n",
    "                       [1,0,1,0],\n",
    "                       [1,0,1,0]])\n",
    "test_singnature = one_pass_minhashing(test_input, k=6)\n",
    "test_singnature.astype('int')"
   ]
  },
  {
   "cell_type": "code",
   "execution_count": null,
   "metadata": {
    "ExecuteTime": {
     "start_time": "2018-04-27T08:27:39.105Z"
    }
   },
   "outputs": [],
   "source": [
    "singnature = one_pass_minhashing(news_shingles, k=100)"
   ]
  },
  {
   "cell_type": "code",
   "execution_count": null,
   "metadata": {
    "ExecuteTime": {
     "start_time": "2018-04-27T08:27:39.106Z"
    }
   },
   "outputs": [],
   "source": [
    "singnature.shape"
   ]
  },
  {
   "cell_type": "code",
   "execution_count": null,
   "metadata": {
    "ExecuteTime": {
     "start_time": "2018-04-27T08:27:39.109Z"
    }
   },
   "outputs": [],
   "source": [
    "#np.savetxt(\"task_2.csv\", singnature, delimiter=\",\",  fmt='%d')"
   ]
  },
  {
   "cell_type": "markdown",
   "metadata": {},
   "source": [
    "## (3) Implement the LSH algorithm by MapReduce and output the resulting candidate pairs of similar documents."
   ]
  },
  {
   "cell_type": "code",
   "execution_count": null,
   "metadata": {
    "ExecuteTime": {
     "start_time": "2018-04-27T08:27:39.177Z"
    }
   },
   "outputs": [],
   "source": [
    "hashlib.sha512().block_size"
   ]
  },
  {
   "cell_type": "code",
   "execution_count": null,
   "metadata": {
    "ExecuteTime": {
     "start_time": "2018-04-27T08:27:39.181Z"
    }
   },
   "outputs": [],
   "source": [
    "def LSH(singnature, b=2):\n",
    "    buckets = [defaultdict(set) for i in range(b)]\n",
    "    k = singnature.shape[0]\n",
    "    r = k // b\n",
    "    for i, doc in enumerate(singnature.T):\n",
    "        x = np.array2string(doc.astype('int'), separator='', precision=0)\n",
    "        for j, start_idx in enumerate(range(0, k, r)):\n",
    "            #print(j, j+r)\n",
    "            key = hashlib.sha512(x[start_idx:start_idx+r].encode()).hexdigest()\n",
    "            buckets[j][key].add(i)\n",
    "    return buckets"
   ]
  },
  {
   "cell_type": "code",
   "execution_count": null,
   "metadata": {
    "ExecuteTime": {
     "start_time": "2018-04-27T08:27:39.185Z"
    }
   },
   "outputs": [],
   "source": [
    "def get_candidate(buckets):\n",
    "    candidates = set([])\n",
    "    for bucket in buckets:\n",
    "        for k, item in bucket.items():\n",
    "            if len(item) > 1:\n",
    "                pairs = itertools.combinations(item, 2)\n",
    "                for p in pairs:\n",
    "                    candidates.add(p)\n",
    "\n",
    "    return candidates"
   ]
  },
  {
   "cell_type": "code",
   "execution_count": null,
   "metadata": {
    "ExecuteTime": {
     "start_time": "2018-04-27T08:27:39.188Z"
    }
   },
   "outputs": [],
   "source": [
    "# bucket = LSH(test_singnature, b=2)\n",
    "# bucket"
   ]
  },
  {
   "cell_type": "code",
   "execution_count": null,
   "metadata": {
    "ExecuteTime": {
     "start_time": "2018-04-27T08:27:39.191Z"
    },
    "scrolled": true
   },
   "outputs": [],
   "source": [
    "buckets = LSH(singnature, b=20)\n",
    "candidates = get_candidate(bucket)\n",
    "candidates = list(candidates)"
   ]
  },
  {
   "cell_type": "code",
   "execution_count": null,
   "metadata": {
    "ExecuteTime": {
     "start_time": "2018-04-27T08:27:39.194Z"
    }
   },
   "outputs": [],
   "source": [
    "len(candidates)"
   ]
  },
  {
   "cell_type": "code",
   "execution_count": null,
   "metadata": {
    "ExecuteTime": {
     "start_time": "2018-04-27T08:27:39.197Z"
    }
   },
   "outputs": [],
   "source": [
    "new_candidates = []\n",
    "for d_id_1, d_id_2 in candidates:\n",
    "    intersection = np.logical_and(singnature[:, d_id_1],\n",
    "                                  singnature[:, d_id_2])\n",
    "    union = np.logical_or(singnature[:, d_id_1],\n",
    "                          singnature[:, d_id_2])\n",
    "    s = intersection.sum() / float(union.sum())\n",
    "    if s >= 0.8:\n",
    "        new_candidates.append((d_id_1, d_id_2))"
   ]
  },
  {
   "cell_type": "code",
   "execution_count": null,
   "metadata": {
    "ExecuteTime": {
     "start_time": "2018-04-27T08:27:39.199Z"
    }
   },
   "outputs": [],
   "source": [
    "len(new_candidates)"
   ]
  },
  {
   "cell_type": "code",
   "execution_count": null,
   "metadata": {
    "ExecuteTime": {
     "start_time": "2018-04-27T08:27:39.201Z"
    }
   },
   "outputs": [],
   "source": [
    "new_candidates[:10]"
   ]
  },
  {
   "cell_type": "code",
   "execution_count": null,
   "metadata": {
    "ExecuteTime": {
     "start_time": "2018-04-27T08:27:39.204Z"
    },
    "scrolled": false
   },
   "outputs": [],
   "source": [
    "news_data.loc[228]['news']"
   ]
  },
  {
   "cell_type": "code",
   "execution_count": null,
   "metadata": {
    "ExecuteTime": {
     "start_time": "2018-04-27T08:27:39.206Z"
    }
   },
   "outputs": [],
   "source": [
    "news_data.loc[274]['news']"
   ]
  },
  {
   "cell_type": "markdown",
   "metadata": {},
   "source": [
    "## (4) Implement K-nearest neighbor (KNN) search using LSH and compare its performance with linear search."
   ]
  },
  {
   "cell_type": "code",
   "execution_count": null,
   "metadata": {
    "ExecuteTime": {
     "start_time": "2018-04-27T08:27:39.268Z"
    }
   },
   "outputs": [],
   "source": [
    "print('cost:{:.3f} min'.format((time.time()-t0)/60))"
   ]
  },
  {
   "cell_type": "code",
   "execution_count": null,
   "metadata": {},
   "outputs": [],
   "source": []
  }
 ],
 "metadata": {
  "kernelspec": {
   "display_name": "Python 3",
   "language": "python",
   "name": "python3"
  },
  "language_info": {
   "codemirror_mode": {
    "name": "ipython",
    "version": 3
   },
   "file_extension": ".py",
   "mimetype": "text/x-python",
   "name": "python",
   "nbconvert_exporter": "python",
   "pygments_lexer": "ipython3",
   "version": "3.6.5"
  },
  "latex_envs": {
   "LaTeX_envs_menu_present": true,
   "autoclose": false,
   "autocomplete": true,
   "bibliofile": "biblio.bib",
   "cite_by": "apalike",
   "current_citInitial": 1,
   "eqLabelWithNumbers": true,
   "eqNumInitial": 1,
   "hotkeys": {
    "equation": "Ctrl-E",
    "itemize": "Ctrl-I"
   },
   "labels_anchors": false,
   "latex_user_defs": false,
   "report_style_numbering": false,
   "user_envs_cfg": false
  },
  "toc": {
   "nav_menu": {},
   "number_sections": false,
   "sideBar": true,
   "skip_h1_title": false,
   "title_cell": "Table of Contents",
   "title_sidebar": "Contents",
   "toc_cell": false,
   "toc_position": {},
   "toc_section_display": true,
   "toc_window_display": false
  },
  "varInspector": {
   "cols": {
    "lenName": 16,
    "lenType": 16,
    "lenVar": 40
   },
   "kernels_config": {
    "python": {
     "delete_cmd_postfix": "",
     "delete_cmd_prefix": "del ",
     "library": "var_list.py",
     "varRefreshCmd": "print(var_dic_list())"
    },
    "r": {
     "delete_cmd_postfix": ") ",
     "delete_cmd_prefix": "rm(",
     "library": "var_list.r",
     "varRefreshCmd": "cat(var_dic_list()) "
    }
   },
   "types_to_exclude": [
    "module",
    "function",
    "builtin_function_or_method",
    "instance",
    "_Feature"
   ],
   "window_display": false
  }
 },
 "nbformat": 4,
 "nbformat_minor": 2
}
