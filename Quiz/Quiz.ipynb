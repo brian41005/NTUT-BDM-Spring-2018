{
 "cells": [
  {
   "cell_type": "code",
   "execution_count": 1,
   "metadata": {
    "ExecuteTime": {
     "end_time": "2018-04-21T07:39:41.958363Z",
     "start_time": "2018-04-21T07:39:41.525249Z"
    }
   },
   "outputs": [],
   "source": [
    "from pyspark import SparkConf, SparkContext, SQLContext\n",
    "from pyspark.sql.utils import AnalysisException\n",
    "from pyspark.ml.feature import RegexTokenizer\n",
    "from pyspark.sql.functions import udf, mean, col\n",
    "from pyspark.sql.types import StringType, StructType, StructField, FloatType\n",
    "import pandas as pd\n",
    "import numpy as np\n",
    "import os, math, time\n",
    "import itertools\n",
    "import csv, sys"
   ]
  },
  {
   "cell_type": "code",
   "execution_count": 2,
   "metadata": {
    "ExecuteTime": {
     "end_time": "2018-04-21T07:39:41.962501Z",
     "start_time": "2018-04-21T07:39:41.960060Z"
    }
   },
   "outputs": [],
   "source": [
    "result = []"
   ]
  },
  {
   "cell_type": "code",
   "execution_count": 3,
   "metadata": {
    "ExecuteTime": {
     "end_time": "2018-04-21T07:39:41.970204Z",
     "start_time": "2018-04-21T07:39:41.965242Z"
    }
   },
   "outputs": [],
   "source": [
    "SAVE = True\n",
    "file  = open('result.txt', 'w', encoding='utf-8', newline='\\n') if SAVE  else sys.stdout"
   ]
  },
  {
   "cell_type": "code",
   "execution_count": 4,
   "metadata": {
    "ExecuteTime": {
     "end_time": "2018-04-21T07:39:41.975055Z",
     "start_time": "2018-04-21T07:39:41.972545Z"
    }
   },
   "outputs": [],
   "source": [
    "t0 = time.time()"
   ]
  },
  {
   "cell_type": "code",
   "execution_count": 5,
   "metadata": {
    "ExecuteTime": {
     "end_time": "2018-04-21T07:39:41.980763Z",
     "start_time": "2018-04-21T07:39:41.977596Z"
    }
   },
   "outputs": [],
   "source": [
    "conf = (SparkConf()\n",
    "        #.setMaster('spark://10.100.5.182:7077')\n",
    "        .setMaster(\"local[4]\")\n",
    "        .set(\"spark.executor.memory\", \"8g\")\n",
    "        .setAppName(\"quiz\"))"
   ]
  },
  {
   "cell_type": "code",
   "execution_count": 6,
   "metadata": {
    "ExecuteTime": {
     "end_time": "2018-04-21T07:39:44.255716Z",
     "start_time": "2018-04-21T07:39:41.983179Z"
    }
   },
   "outputs": [],
   "source": [
    "try:\n",
    "    sc = SparkContext(conf=conf)\n",
    "    sql_sc = SQLContext(sc)\n",
    "except ValueError:\n",
    "    pass"
   ]
  },
  {
   "cell_type": "code",
   "execution_count": 7,
   "metadata": {
    "ExecuteTime": {
     "end_time": "2018-04-21T07:39:44.269276Z",
     "start_time": "2018-04-21T07:39:44.258375Z"
    }
   },
   "outputs": [],
   "source": [
    "def read_csv(file_name):\n",
    "    try:\n",
    "        data = sql_sc.read.csv(file_name, \n",
    "                       sep=',', \n",
    "                       header=False, \n",
    "                       mode='DROPMALFORMED')\n",
    "    except AnalysisException:\n",
    "        data = sql_sc.read.csv('hdfs:///bdm/quiz/{}'.format(file_name), \n",
    "                       sep=',', \n",
    "                       header=False, \n",
    "                       mode='DROPMALFORMED')\n",
    "    return data"
   ]
  },
  {
   "cell_type": "code",
   "execution_count": 8,
   "metadata": {
    "ExecuteTime": {
     "end_time": "2018-04-21T07:39:48.304916Z",
     "start_time": "2018-04-21T07:39:44.271381Z"
    }
   },
   "outputs": [],
   "source": [
    "data = read_csv('kddcup.data_10_percent')"
   ]
  },
  {
   "cell_type": "code",
   "execution_count": 9,
   "metadata": {
    "ExecuteTime": {
     "end_time": "2018-04-21T07:39:48.327804Z",
     "start_time": "2018-04-21T07:39:48.306834Z"
    },
    "code_folding": [
     0
    ]
   },
   "outputs": [],
   "source": [
    "cloumnnames = [\"duration\",\n",
    "               \"protocol_type\", \n",
    "               \"service\",\n",
    "               \"flag\",\n",
    "               \"src_bytes\",\n",
    "               \"dst_bytes\",\n",
    "               \"land\",\n",
    "               \"wrong_fragment\",\n",
    "               \"urgent\",\n",
    "               \"hot\",\n",
    "               \"num_failed_logins\",\n",
    "               \"logged_in\",\n",
    "               \"num_compromised\",\n",
    "               \"root_shell\",\n",
    "               \"su_attempted\",\n",
    "               \"num_root\",\n",
    "               \"num_file_creations\",\n",
    "               \"num_shells\",\n",
    "               \"num_access_files\",\n",
    "               \"num_outbound_cmds\",\n",
    "               \"is_host_login\",\n",
    "               \"is_guest_login\",\n",
    "               \"count\",\n",
    "               \"srv_count\",\n",
    "               \"serror_rate\",\n",
    "               \"srv_serror_rate\",\n",
    "               \"rerror_rate\",\n",
    "               \"srv_rerror_rate\",\n",
    "               \"same_srv_rate\",\n",
    "               \"diff_srv_rate\",\n",
    "               \"srv_diff_host_rate\",\n",
    "               \"dst_host_count\",\n",
    "               \"dst_host_srv_count\",\n",
    "               \"dst_host_same_srv_rate\",\n",
    "               \"dst_host_diff_srv_rate\",\n",
    "               \"dst_host_same_src_port_rate\",\n",
    "               \"dst_host_srv_diff_host_rate\",\n",
    "               \"dst_host_serror_rate\",\n",
    "               \"dst_host_srv_serror_rate\",\n",
    "               \"dst_host_rerror_rate\",\n",
    "               \"dst_host_srv_rerror_rate\",\n",
    "               \"intrusion_type\"]"
   ]
  },
  {
   "cell_type": "code",
   "execution_count": 10,
   "metadata": {
    "ExecuteTime": {
     "end_time": "2018-04-21T07:39:48.918897Z",
     "start_time": "2018-04-21T07:39:48.330116Z"
    }
   },
   "outputs": [],
   "source": [
    "for old, new in zip(['_c%d'%(i) for i in range(0, 42)], cloumnnames):\n",
    "    data = (data.withColumnRenamed(old, new))\n",
    "data = (data.withColumn('duration', data.duration.cast('float'))\n",
    "       .withColumn('src_bytes', data.src_bytes.cast('float'))\n",
    "       .withColumn('dst_bytes', data.dst_bytes.cast('float'))\n",
    "       .withColumn('num_failed_logins', data.num_failed_logins.cast('float'))\n",
    "       .withColumn('same_srv_rate', data.same_srv_rate.cast('float'))\n",
    "       .withColumn('diff_srv_rate', data.diff_srv_rate.cast('float'))\n",
    "       .withColumn('srv_diff_host_rate', data.srv_diff_host_rate.cast('float'))\n",
    "       .withColumn('dst_host_count', data.dst_host_count.cast('float'))\n",
    "       .withColumn('dst_host_srv_count', data.dst_host_srv_count.cast('float'))\n",
    "       .withColumn('dst_host_same_srv_rate', data.dst_host_same_srv_rate.cast('float'))\n",
    "       .withColumn('dst_host_diff_srv_rate', data.dst_host_diff_srv_rate.cast('float')))"
   ]
  },
  {
   "cell_type": "code",
   "execution_count": 11,
   "metadata": {
    "ExecuteTime": {
     "end_time": "2018-04-21T07:39:48.975392Z",
     "start_time": "2018-04-21T07:39:48.921187Z"
    },
    "scrolled": true
   },
   "outputs": [],
   "source": [
    "data = data.dropna()"
   ]
  },
  {
   "cell_type": "code",
   "execution_count": 12,
   "metadata": {
    "ExecuteTime": {
     "end_time": "2018-04-21T07:39:48.980724Z",
     "start_time": "2018-04-21T07:39:48.978069Z"
    }
   },
   "outputs": [],
   "source": [
    "#data = data.sample(False, 0.001, 42)"
   ]
  },
  {
   "cell_type": "markdown",
   "metadata": {},
   "source": [
    "### (1) For continuous attributes ‘duration’, ‘src_bytes’, ‘dst_bytes’, ‘num_failed_logins’, please calculate their mean, median, mode, standard deviation, respectively"
   ]
  },
  {
   "cell_type": "code",
   "execution_count": 13,
   "metadata": {
    "ExecuteTime": {
     "end_time": "2018-04-21T07:39:48.986684Z",
     "start_time": "2018-04-21T07:39:48.983118Z"
    }
   },
   "outputs": [],
   "source": [
    "# def find_median(values_list):\n",
    "#     try:\n",
    "#         median = np.median(values_list) #get the median of values in a list in each row\n",
    "#         return round(float(median),2)\n",
    "#     except Exception:\n",
    "#         return None #if there is anything wrong with the given values\n",
    "\n",
    "# median_finder = udf(find_median, FloatType())"
   ]
  },
  {
   "cell_type": "code",
   "execution_count": 14,
   "metadata": {
    "ExecuteTime": {
     "end_time": "2018-04-21T07:39:48.992364Z",
     "start_time": "2018-04-21T07:39:48.989118Z"
    }
   },
   "outputs": [],
   "source": [
    "q1_feature_nemaes = ['duration', 'src_bytes', 'dst_bytes', 'num_failed_logins']"
   ]
  },
  {
   "cell_type": "code",
   "execution_count": 15,
   "metadata": {
    "ExecuteTime": {
     "end_time": "2018-04-21T07:39:49.033439Z",
     "start_time": "2018-04-21T07:39:48.994751Z"
    }
   },
   "outputs": [],
   "source": [
    "q1 = data.select('duration', 'src_bytes', 'dst_bytes', 'num_failed_logins')"
   ]
  },
  {
   "cell_type": "code",
   "execution_count": 16,
   "metadata": {
    "ExecuteTime": {
     "end_time": "2018-04-21T07:39:49.038688Z",
     "start_time": "2018-04-21T07:39:49.035732Z"
    }
   },
   "outputs": [],
   "source": [
    "#print(\"%s\"%(q1.describe().show()), file=file)"
   ]
  },
  {
   "cell_type": "code",
   "execution_count": 17,
   "metadata": {
    "ExecuteTime": {
     "end_time": "2018-04-21T07:39:53.690542Z",
     "start_time": "2018-04-21T07:39:49.044791Z"
    },
    "scrolled": false
   },
   "outputs": [],
   "source": [
    "temp = q1.describe().collect()"
   ]
  },
  {
   "cell_type": "code",
   "execution_count": 18,
   "metadata": {
    "ExecuteTime": {
     "end_time": "2018-04-21T07:39:53.697103Z",
     "start_time": "2018-04-21T07:39:53.692673Z"
    }
   },
   "outputs": [],
   "source": [
    "result.append('|summary|         duration|         src_bytes|         dst_bytes|   num_failed_logins|')\n",
    "for r in temp[1:3]:\n",
    "    temp = ', '.join(r)\n",
    "    result.append(temp)"
   ]
  },
  {
   "cell_type": "code",
   "execution_count": 19,
   "metadata": {
    "ExecuteTime": {
     "end_time": "2018-04-21T07:40:23.567647Z",
     "start_time": "2018-04-21T07:39:53.699791Z"
    }
   },
   "outputs": [],
   "source": [
    "for f in q1_feature_nemaes:\n",
    "    temp = ('[Q1] %s median:%f'%(f, np.median(data.select(f).rdd.collect())))\n",
    "    result.append(temp)"
   ]
  },
  {
   "cell_type": "code",
   "execution_count": 20,
   "metadata": {
    "ExecuteTime": {
     "end_time": "2018-04-21T07:40:40.711232Z",
     "start_time": "2018-04-21T07:40:23.570374Z"
    }
   },
   "outputs": [],
   "source": [
    "for f in q1_feature_nemaes:\n",
    "    temp = ('[Q1] %s mode is'%(f), q1.select(f).rdd\n",
    "    .map(lambda x: (str(x[0]), 1))\n",
    "    .reduceByKey(lambda a,b:a+b)\n",
    "    .sortBy(lambda w: w[1], ascending=False)\n",
    "    .take(1))\n",
    "    result.append(temp)"
   ]
  },
  {
   "cell_type": "markdown",
   "metadata": {},
   "source": [
    "### (2) For symbolic attributes ‘protocol_type’, ‘service’, ‘flag’, ‘logged_in’, ‘intrusion_type’, output the list of each value and the corresponding frequency count, sorted in descending order of the count\n"
   ]
  },
  {
   "cell_type": "code",
   "execution_count": 21,
   "metadata": {
    "ExecuteTime": {
     "end_time": "2018-04-21T07:40:40.717948Z",
     "start_time": "2018-04-21T07:40:40.714063Z"
    }
   },
   "outputs": [],
   "source": [
    "q2_feature_names = ['protocol_type', 'service', 'flag', 'logged_in', 'intrusion_type']"
   ]
  },
  {
   "cell_type": "code",
   "execution_count": 22,
   "metadata": {
    "ExecuteTime": {
     "end_time": "2018-04-21T07:40:40.730852Z",
     "start_time": "2018-04-21T07:40:40.724767Z"
    }
   },
   "outputs": [],
   "source": [
    "# (data.select('protocol_type').rdd\n",
    "# .map(lambda x: (x[0], 1))\n",
    "# .reduceByKey(lambda a,b:a+b)\n",
    "# .sortBy(lambda w: w[1], ascending=False)\n",
    "# .collect())"
   ]
  },
  {
   "cell_type": "code",
   "execution_count": 23,
   "metadata": {
    "ExecuteTime": {
     "end_time": "2018-04-21T07:41:01.202568Z",
     "start_time": "2018-04-21T07:40:40.733444Z"
    }
   },
   "outputs": [],
   "source": [
    "for f in q2_feature_names:\n",
    "    r = (data.select(f).rdd\n",
    "        .map(lambda x: (x[0], 1))\n",
    "        .reduceByKey(lambda a,b:a+b)\n",
    "        .sortBy(lambda w: w[1], ascending=False)\n",
    "        .collect())\n",
    "    temp = ('[Q2] column:%s value and the corresponding frequency count'%(f), r)\n",
    "    result.append(temp)"
   ]
  },
  {
   "cell_type": "markdown",
   "metadata": {},
   "source": [
    "### (3) Output the list of the most frequently used ‘service’ for each ‘intrusion_type’, sorted in descending order of the occurrence frequency"
   ]
  },
  {
   "cell_type": "code",
   "execution_count": 24,
   "metadata": {
    "ExecuteTime": {
     "end_time": "2018-04-21T07:41:05.930162Z",
     "start_time": "2018-04-21T07:41:01.204655Z"
    }
   },
   "outputs": [],
   "source": [
    "q3_result =  (data.select('service', 'intrusion_type').rdd\n",
    ".map(lambda x: ((x[0], x[1]), 1))\n",
    ".reduceByKey(lambda a,b: a+b)\n",
    ".map(lambda x: (x[0][1], (x[0][0], x[1])))\n",
    ".groupByKey()\n",
    ".map(lambda x: (x[0], sorted(x[1], key=lambda x: x[1], reverse=True)[0]))\n",
    ".collect())\n",
    "for intrusion_type, r in q3_result:\n",
    "    temp = ('[Q3]intrusion_type:[%15s],  most frequently used service is:%20s'%(intrusion_type, str(r)))\n",
    "    result.append(temp)"
   ]
  },
  {
   "cell_type": "markdown",
   "metadata": {},
   "source": [
    "### (4) If we regard the values of ‘src_bytes’ , calculate the correlation coefficient of src_bytes and ‘num_failed_logins’ by the following formula:\n"
   ]
  },
  {
   "cell_type": "code",
   "execution_count": 25,
   "metadata": {
    "ExecuteTime": {
     "end_time": "2018-04-21T07:41:05.946009Z",
     "start_time": "2018-04-21T07:41:05.932763Z"
    }
   },
   "outputs": [],
   "source": [
    "q4 = data.select('src_bytes', 'num_failed_logins')"
   ]
  },
  {
   "cell_type": "code",
   "execution_count": 26,
   "metadata": {
    "ExecuteTime": {
     "end_time": "2018-04-21T07:41:13.925841Z",
     "start_time": "2018-04-21T07:41:05.948552Z"
    }
   },
   "outputs": [],
   "source": [
    "corr_coe = np.array(q4.collect())"
   ]
  },
  {
   "cell_type": "code",
   "execution_count": 27,
   "metadata": {
    "ExecuteTime": {
     "end_time": "2018-04-21T07:41:13.931196Z",
     "start_time": "2018-04-21T07:41:13.928079Z"
    }
   },
   "outputs": [],
   "source": [
    "#q4_r = np.corrcoef(corr_coe[:,0], corr_coe[:, 1])"
   ]
  },
  {
   "cell_type": "code",
   "execution_count": 28,
   "metadata": {
    "ExecuteTime": {
     "end_time": "2018-04-21T07:41:13.938599Z",
     "start_time": "2018-04-21T07:41:13.934118Z"
    }
   },
   "outputs": [],
   "source": [
    "n = 4898431\n",
    "A_ = 1834.6211678800823\n",
    "B_ = 3.205107921291532e-5\n",
    "stddev_A = 941431.0703655402\n",
    "stddev_B = 0.007299407575927214"
   ]
  },
  {
   "cell_type": "code",
   "execution_count": 29,
   "metadata": {
    "ExecuteTime": {
     "end_time": "2018-04-21T07:41:13.946292Z",
     "start_time": "2018-04-21T07:41:13.941023Z"
    }
   },
   "outputs": [],
   "source": [
    "q4_r = (np.sum(corr_coe[:,0]*corr_coe[:, 1])-(n*A_*B_))/((n-1)*stddev_B*stddev_A)"
   ]
  },
  {
   "cell_type": "code",
   "execution_count": 30,
   "metadata": {
    "ExecuteTime": {
     "end_time": "2018-04-21T07:41:13.952803Z",
     "start_time": "2018-04-21T07:41:13.948398Z"
    }
   },
   "outputs": [],
   "source": [
    "temp = ('[Q4] correlation coefficient is %f'%(q4_r)) \n",
    "result.append(temp)"
   ]
  },
  {
   "cell_type": "markdown",
   "metadata": {},
   "source": [
    "### (5) bonus\n",
    "(5) Which ‘intrusion type’ has the highest value for each of the following fields: \n",
    "\n",
    "same_srv_rate\n",
    "\n",
    "diff_srv_rate\n",
    "\n",
    "srv_diff_host_rate\n",
    "\n",
    "dst_host_count\n",
    "\n",
    "dst_host_srv_count\n",
    "\n",
    "dst_host_same_srv_rate\n",
    "\n",
    "dst_host_diff_srv_rate\n"
   ]
  },
  {
   "cell_type": "code",
   "execution_count": 31,
   "metadata": {
    "ExecuteTime": {
     "end_time": "2018-04-21T07:43:18.720719Z",
     "start_time": "2018-04-21T07:41:13.955292Z"
    },
    "scrolled": false
   },
   "outputs": [],
   "source": [
    "for f in ['same_srv_rate', 'diff_srv_rate', 'srv_diff_host_rate', \n",
    "                 'dst_host_count', 'dst_host_srv_count', \n",
    "                 'dst_host_same_srv_rate' ,'dst_host_diff_srv_rate']:\n",
    "    r = data.sort(col(f) , ascending=False).collect()[0]\n",
    "    temp = ('[Bonus] %s\\'s %s has the highest value'%(f, r['intrusion_type']))\n",
    "    result.append(temp)"
   ]
  },
  {
   "cell_type": "code",
   "execution_count": 37,
   "metadata": {
    "ExecuteTime": {
     "end_time": "2018-04-21T07:47:01.724313Z",
     "start_time": "2018-04-21T07:47:01.721006Z"
    }
   },
   "outputs": [],
   "source": [
    "for r in result:\n",
    "    file.write(str(r)+'\\n')"
   ]
  },
  {
   "cell_type": "code",
   "execution_count": 38,
   "metadata": {
    "ExecuteTime": {
     "end_time": "2018-04-21T07:47:04.870819Z",
     "start_time": "2018-04-21T07:47:04.866358Z"
    }
   },
   "outputs": [],
   "source": [
    "file.close()"
   ]
  },
  {
   "cell_type": "code",
   "execution_count": 39,
   "metadata": {
    "ExecuteTime": {
     "end_time": "2018-04-21T07:47:38.480742Z",
     "start_time": "2018-04-21T07:47:37.763414Z"
    }
   },
   "outputs": [],
   "source": [
    "sc.stop()"
   ]
  },
  {
   "cell_type": "code",
   "execution_count": 40,
   "metadata": {
    "ExecuteTime": {
     "end_time": "2018-04-21T07:47:40.513144Z",
     "start_time": "2018-04-21T07:47:40.509128Z"
    }
   },
   "outputs": [
    {
     "name": "stdout",
     "output_type": "stream",
     "text": [
      "cost 7.976 minutes\n"
     ]
    }
   ],
   "source": [
    "print('cost {:.3f} minutes'.format((time.time()-t0)/60))"
   ]
  }
 ],
 "metadata": {
  "kernelspec": {
   "display_name": "Python 3",
   "language": "python",
   "name": "python3"
  },
  "language_info": {
   "codemirror_mode": {
    "name": "ipython",
    "version": 3
   },
   "file_extension": ".py",
   "mimetype": "text/x-python",
   "name": "python",
   "nbconvert_exporter": "python",
   "pygments_lexer": "ipython3",
   "version": "3.6.5"
  },
  "latex_envs": {
   "LaTeX_envs_menu_present": true,
   "autoclose": false,
   "autocomplete": true,
   "bibliofile": "biblio.bib",
   "cite_by": "apalike",
   "current_citInitial": 1,
   "eqLabelWithNumbers": true,
   "eqNumInitial": 1,
   "hotkeys": {
    "equation": "Ctrl-E",
    "itemize": "Ctrl-I"
   },
   "labels_anchors": false,
   "latex_user_defs": false,
   "report_style_numbering": false,
   "user_envs_cfg": false
  },
  "toc": {
   "nav_menu": {},
   "number_sections": true,
   "sideBar": true,
   "skip_h1_title": false,
   "title_cell": "Table of Contents",
   "title_sidebar": "Contents",
   "toc_cell": false,
   "toc_position": {},
   "toc_section_display": true,
   "toc_window_display": false
  },
  "varInspector": {
   "cols": {
    "lenName": 16,
    "lenType": 16,
    "lenVar": 40
   },
   "kernels_config": {
    "python": {
     "delete_cmd_postfix": "",
     "delete_cmd_prefix": "del ",
     "library": "var_list.py",
     "varRefreshCmd": "print(var_dic_list())"
    },
    "r": {
     "delete_cmd_postfix": ") ",
     "delete_cmd_prefix": "rm(",
     "library": "var_list.r",
     "varRefreshCmd": "cat(var_dic_list()) "
    }
   },
   "types_to_exclude": [
    "module",
    "function",
    "builtin_function_or_method",
    "instance",
    "_Feature"
   ],
   "window_display": false
  }
 },
 "nbformat": 4,
 "nbformat_minor": 2
}
