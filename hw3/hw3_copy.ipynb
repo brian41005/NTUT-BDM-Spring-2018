{
 "cells": [
  {
   "cell_type": "code",
   "execution_count": 1,
   "metadata": {
    "ExecuteTime": {
     "end_time": "2018-04-25T15:08:27.504225Z",
     "start_time": "2018-04-25T15:08:27.498722Z"
    }
   },
   "outputs": [],
   "source": [
    "import findspark\n",
    "findspark.init()"
   ]
  },
  {
   "cell_type": "code",
   "execution_count": 2,
   "metadata": {
    "ExecuteTime": {
     "end_time": "2018-04-25T15:08:29.766650Z",
     "start_time": "2018-04-25T15:08:29.603543Z"
    }
   },
   "outputs": [],
   "source": [
    "import time\n",
    "import pyspark\n",
    "from pyspark.sql import SparkSession\n",
    "from pyspark.sql.types import StructField, StructType, StringType, DateType, FloatType, IntegerType\n",
    "import string\n",
    "import html\n",
    "import itertools\n",
    "import numpy as np\n",
    "import random"
   ]
  },
  {
   "cell_type": "code",
   "execution_count": 3,
   "metadata": {
    "ExecuteTime": {
     "end_time": "2018-04-25T15:08:35.028601Z",
     "start_time": "2018-04-25T15:08:31.422020Z"
    }
   },
   "outputs": [
    {
     "name": "stdout",
     "output_type": "stream",
     "text": [
      "spark init time: 3.6000771522521973s\n"
     ]
    }
   ],
   "source": [
    "start_time = time.time()\n",
    "APP_NAME = 'hw3'\n",
    "NAMENODE_ADDR = '127.0.0.1:19000'\n",
    "DIR_PATH = '/hw3'\n",
    "sc = pyspark.SparkContext(appName=APP_NAME)\n",
    "spark = SparkSession.builder.appName(APP_NAME).getOrCreate()\n",
    "print('spark init time: {}s'.format(time.time() - start_time))"
   ]
  },
  {
   "cell_type": "code",
   "execution_count": 4,
   "metadata": {
    "ExecuteTime": {
     "end_time": "2018-04-25T15:08:38.427756Z",
     "start_time": "2018-04-25T15:08:37.246593Z"
    }
   },
   "outputs": [],
   "source": [
    "def reuters21578_parser(row, file_id):\n",
    "    text = row[1]\n",
    "    start = False\n",
    "    start_idx = -1\n",
    "    news = []\n",
    "    body_count = 0\n",
    "    for i in range(len(text)):\n",
    "        if not start:\n",
    "            if text[i:i + 6] == '<BODY>':\n",
    "                start_idx = i + 6\n",
    "                start = True\n",
    "        else:\n",
    "            if text[i:i + 7] == '</BODY>':\n",
    "                news.append((file_id * 10000 + body_count, text[start_idx:i]))\n",
    "                body_count += 1\n",
    "                start = False\n",
    "    return news\n",
    "\n",
    "\n",
    "text_files = []\n",
    "for i in range(1):\n",
    "    text_file = sc.textFile('hdfs://{}{}/{}'.format(\n",
    "        NAMENODE_ADDR, DIR_PATH, 'reut2-{0:0>3}.sgm'.format(i)))\n",
    "    \n",
    "    text_file = text_file.map(lambda x: (1, x)).reduceByKey(\n",
    "        lambda a, b: a + b).flatMap(lambda x: reuters21578_parser(x, i))\n",
    "    \n",
    "    #text_files.append(sc.parallelize(text_file.take(20)))\n",
    "    text_files.append(text_file)\n",
    "news_rdd = sc.union(text_files)"
   ]
  },
  {
   "cell_type": "code",
   "execution_count": 5,
   "metadata": {
    "ExecuteTime": {
     "end_time": "2018-04-25T15:08:40.615946Z",
     "start_time": "2018-04-25T15:08:40.587427Z"
    }
   },
   "outputs": [],
   "source": [
    "trantab = str.maketrans(\"'\", \"’\")\n",
    "strip_chars = ' –…' + string.punctuation\n",
    "def tokenizer(sentence):\n",
    "    result = []\n",
    "    for token in html.unescape(str(sentence)).split():\n",
    "        token = token.lower()\n",
    "        token = token.strip(strip_chars)\n",
    "        if not token.isalpha():\n",
    "            continue\n",
    "        length = len(token)\n",
    "        if length < 1 or length > 26:\n",
    "            continue\n",
    "        result.append(token)\n",
    "    return result\n",
    "\n",
    "\n",
    "def k_shingle(text, k):\n",
    "    string = ' '.join(tokenizer(text))\n",
    "    shingles = set([])\n",
    "    for i in range(len(string)-k + 1):\n",
    "        shingles.add(string[i:i+k])\n",
    "    return shingles\n",
    "shingled_news_rdd = news_rdd.map(lambda x: (x[0], k_shingle(x[1], 5)))"
   ]
  },
  {
   "cell_type": "code",
   "execution_count": 6,
   "metadata": {
    "ExecuteTime": {
     "end_time": "2018-04-25T15:08:51.469017Z",
     "start_time": "2018-04-25T15:08:44.125319Z"
    }
   },
   "outputs": [],
   "source": [
    "shingles = list(shingled_news_rdd.map(lambda x: x[1]).reduce(lambda a, b: a.union(b)))\n",
    "shingles_count = len(shingles)"
   ]
  },
  {
   "cell_type": "code",
   "execution_count": 7,
   "metadata": {
    "ExecuteTime": {
     "end_time": "2018-04-25T15:08:52.860857Z",
     "start_time": "2018-04-25T15:08:52.855854Z"
    }
   },
   "outputs": [],
   "source": [
    "def encode_shingles(row, shingles_count):\n",
    "    array = np.zeros(shingles_count, dtype=np.int)\n",
    "    for shingle, idx in zip(shingles, range(shingles_count)):\n",
    "        if shingle in row:\n",
    "            array[idx] = 1    \n",
    "    return array"
   ]
  },
  {
   "cell_type": "code",
   "execution_count": 8,
   "metadata": {
    "ExecuteTime": {
     "end_time": "2018-04-25T15:08:54.796104Z",
     "start_time": "2018-04-25T15:08:54.792601Z"
    }
   },
   "outputs": [],
   "source": [
    "encoded_news_rdd = shingled_news_rdd.map(\n",
    "    lambda x: (x[0], encode_shingles(x[1], shingles_count)))"
   ]
  },
  {
   "cell_type": "code",
   "execution_count": 9,
   "metadata": {
    "ExecuteTime": {
     "end_time": "2018-04-25T15:09:44.353571Z",
     "start_time": "2018-04-25T15:08:57.318852Z"
    }
   },
   "outputs": [],
   "source": [
    "def numpy_array_to_csv_line(x):\n",
    "    line = ''\n",
    "    for v in x[:-1]:\n",
    "        line += '{},'.format(v)\n",
    "    line += '{}'.format(x[-1])\n",
    "    return line\n",
    "encoded_news_rdd.map(lambda x: numpy_array_to_csv_line(x[1])).saveAsTextFile('task1_result_Transpose.csv')"
   ]
  },
  {
   "cell_type": "code",
   "execution_count": 10,
   "metadata": {
    "ExecuteTime": {
     "end_time": "2018-04-25T15:11:27.251874Z",
     "start_time": "2018-04-25T15:11:27.220853Z"
    }
   },
   "outputs": [],
   "source": [
    "def is_prime(n):\n",
    "    if n % 2 == 0 and n > 2:\n",
    "        return False\n",
    "    return all(n % i for i in range(3, int(n**0.5) + 1, 2))\n",
    "\n",
    "\n",
    "def get_prime_above(m):\n",
    "    while not is_prime(m):\n",
    "        m += 1\n",
    "    return m\n",
    "\n",
    "\n",
    "def one_pass_min_hash(a_arr, b_arr, p, k, n):\n",
    "    def _one_pass_min_hash(x):\n",
    "        result = np.zeros(k, dtype=np.uint)\n",
    "        for i in range(k):\n",
    "            idxs = np.argwhere(x == 1)\n",
    "            hash_func = lambda x: ((a_arr[i] * x + b_arr[i]) % p) % n\n",
    "            hashed = np.vectorize(hash_func)(idxs)\n",
    "            result[i] = np.min(hashed)\n",
    "        return result\n",
    "\n",
    "    return _one_pass_min_hash"
   ]
  },
  {
   "cell_type": "code",
   "execution_count": 11,
   "metadata": {
    "ExecuteTime": {
     "end_time": "2018-04-25T15:13:20.555691Z",
     "start_time": "2018-04-25T15:11:30.010088Z"
    }
   },
   "outputs": [],
   "source": [
    "HASH_FUNC_NUM = 100\n",
    "a_arr = np.random.randint(shingles_count, size = HASH_FUNC_NUM)\n",
    "b_arr = np.random.randint(shingles_count, size = HASH_FUNC_NUM)\n",
    "p = get_prime_above(shingles_count)\n",
    "signature_matrix = encoded_news_rdd.map(lambda x: (x[0], one_pass_min_hash(a_arr, b_arr, p, HASH_FUNC_NUM, shingles_count)(x[1])))\n",
    "signature_matrix.map(lambda x: numpy_array_to_csv_line(x[1])).saveAsTextFile('task2_result_Transpose.csv')"
   ]
  },
  {
   "cell_type": "code",
   "execution_count": null,
   "metadata": {},
   "outputs": [],
   "source": [
    "similarity_threshold = 0.8\n",
    "band = 20\n",
    "r = 5"
   ]
  },
  {
   "cell_type": "code",
   "execution_count": null,
   "metadata": {
    "ExecuteTime": {
     "end_time": "2018-04-25T14:08:02.612439Z",
     "start_time": "2018-04-25T14:07:56.937362Z"
    }
   },
   "outputs": [],
   "source": []
  }
 ],
 "metadata": {
  "kernelspec": {
   "display_name": "Python 3",
   "language": "python",
   "name": "python3"
  },
  "language_info": {
   "codemirror_mode": {
    "name": "ipython",
    "version": 3
   },
   "file_extension": ".py",
   "mimetype": "text/x-python",
   "name": "python",
   "nbconvert_exporter": "python",
   "pygments_lexer": "ipython3",
   "version": "3.6.4"
  },
  "varInspector": {
   "cols": {
    "lenName": 16,
    "lenType": 16,
    "lenVar": 40
   },
   "kernels_config": {
    "python": {
     "delete_cmd_postfix": "",
     "delete_cmd_prefix": "del ",
     "library": "var_list.py",
     "varRefreshCmd": "print(var_dic_list())"
    },
    "r": {
     "delete_cmd_postfix": ") ",
     "delete_cmd_prefix": "rm(",
     "library": "var_list.r",
     "varRefreshCmd": "cat(var_dic_list()) "
    }
   },
   "types_to_exclude": [
    "module",
    "function",
    "builtin_function_or_method",
    "instance",
    "_Feature"
   ],
   "window_display": false
  }
 },
 "nbformat": 4,
 "nbformat_minor": 2
}
