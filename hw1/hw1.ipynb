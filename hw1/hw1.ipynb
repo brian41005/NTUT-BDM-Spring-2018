{
 "cells": [
  {
   "cell_type": "markdown",
   "metadata": {},
   "source": [
    "## 103590450 四資四 馬茂源"
   ]
  },
  {
   "cell_type": "code",
   "execution_count": 1,
   "metadata": {
    "ExecuteTime": {
     "end_time": "2018-03-28T07:08:33.458866Z",
     "start_time": "2018-03-28T07:08:33.375646Z"
    }
   },
   "outputs": [],
   "source": [
    "from pyspark import SparkConf, SparkContext, SQLContext\n",
    "#from pyspark.sql.functions import mean, max as max_, min as min_, stddev, count\n",
    "import os"
   ]
  },
  {
   "cell_type": "code",
   "execution_count": 2,
   "metadata": {
    "ExecuteTime": {
     "end_time": "2018-03-28T07:08:33.460873Z",
     "start_time": "2018-03-28T07:08:33.458866Z"
    }
   },
   "outputs": [],
   "source": [
    "conf = (SparkConf()\n",
    "        #.setMaster('spark://10.100.5.182:7077')\n",
    "        #.setMaster(\"local\")\n",
    "        .setAppName(\"hw1\"))"
   ]
  },
  {
   "cell_type": "code",
   "execution_count": 3,
   "metadata": {
    "ExecuteTime": {
     "end_time": "2018-03-28T07:08:35.266937Z",
     "start_time": "2018-03-28T07:08:33.461875Z"
    }
   },
   "outputs": [],
   "source": [
    "sc = SparkContext(conf=conf)\n",
    "sql_sc = SQLContext(sc)"
   ]
  },
  {
   "cell_type": "code",
   "execution_count": 4,
   "metadata": {
    "ExecuteTime": {
     "end_time": "2018-03-28T07:08:35.269946Z",
     "start_time": "2018-03-28T07:08:35.267940Z"
    },
    "scrolled": false
   },
   "outputs": [],
   "source": [
    "# rdd = (sc.textFile('./household_power_consumption.csv')\n",
    "#        .map(lambda line: line.split(';')))\n",
    "# header = rdd.first()\n",
    "# data = sql_sc.createDataFrame(rdd.filter(lambda line: line != header), header)\n",
    "# data.show()"
   ]
  },
  {
   "cell_type": "code",
   "execution_count": 5,
   "metadata": {
    "ExecuteTime": {
     "end_time": "2018-03-28T07:08:35.279971Z",
     "start_time": "2018-03-28T07:08:35.270950Z"
    }
   },
   "outputs": [],
   "source": [
    "# data = pd.read_csv('./household_power_consumption.csv', \n",
    "#                    delimiter=';', \n",
    "#                    dtype={'Date':str,\n",
    "#                           'Time':str,\n",
    "#                           'Global_active_power':str,\n",
    "#                           'Global_reactive_power':str,\n",
    "#                           'Voltage':str,\n",
    "#                           'Global_intensity':str,\n",
    "#                           'Sub_metering_1':str,\n",
    "#                           'Sub_metering_2':str,\n",
    "#                           'sub_metering_3':str,})\n",
    "# data = sql_sc.createDataFrame(data)"
   ]
  },
  {
   "cell_type": "code",
   "execution_count": 6,
   "metadata": {
    "ExecuteTime": {
     "end_time": "2018-03-28T07:08:37.843691Z",
     "start_time": "2018-03-28T07:08:35.280975Z"
    }
   },
   "outputs": [],
   "source": [
    "data = sql_sc.read.csv('./household_power_consumption.csv', sep=';', header=True)"
   ]
  },
  {
   "cell_type": "code",
   "execution_count": 7,
   "metadata": {
    "ExecuteTime": {
     "end_time": "2018-03-28T07:08:37.858419Z",
     "start_time": "2018-03-28T07:08:37.843691Z"
    }
   },
   "outputs": [],
   "source": [
    "data = data.drop('Date', 'Time', 'Sub_metering_1', \n",
    "        'Sub_metering_2', \n",
    "        'Sub_metering_3')"
   ]
  },
  {
   "cell_type": "code",
   "execution_count": 8,
   "metadata": {
    "ExecuteTime": {
     "end_time": "2018-03-28T07:08:37.883485Z",
     "start_time": "2018-03-28T07:08:37.859422Z"
    }
   },
   "outputs": [
    {
     "data": {
      "text/plain": [
       "[('Global_active_power', 'string'),\n",
       " ('Global_reactive_power', 'string'),\n",
       " ('Voltage', 'string'),\n",
       " ('Global_intensity', 'string')]"
      ]
     },
     "execution_count": 8,
     "metadata": {},
     "output_type": "execute_result"
    }
   ],
   "source": [
    "data.dtypes"
   ]
  },
  {
   "cell_type": "code",
   "execution_count": 9,
   "metadata": {
    "ExecuteTime": {
     "end_time": "2018-03-28T07:08:37.976734Z",
     "start_time": "2018-03-28T07:08:37.884489Z"
    }
   },
   "outputs": [
    {
     "data": {
      "text/plain": [
       "[('Global_active_power', 'float'),\n",
       " ('Global_reactive_power', 'float'),\n",
       " ('Voltage', 'float'),\n",
       " ('Global_intensity', 'float')]"
      ]
     },
     "execution_count": 9,
     "metadata": {},
     "output_type": "execute_result"
    }
   ],
   "source": [
    "data = (data.withColumn('Global_active_power', data.Global_active_power.cast('float'))\n",
    "        .withColumn('Global_reactive_power', data.Global_reactive_power.cast('float'))\n",
    "        .withColumn('Voltage', data.Voltage.cast('float'))\n",
    "        .withColumn('Global_intensity', data.Global_intensity.cast('float')))\n",
    "data.dtypes"
   ]
  },
  {
   "cell_type": "code",
   "execution_count": 10,
   "metadata": {
    "ExecuteTime": {
     "end_time": "2018-03-28T07:08:37.986761Z",
     "start_time": "2018-03-28T07:08:37.977737Z"
    }
   },
   "outputs": [],
   "source": [
    "data = data.na.drop()"
   ]
  },
  {
   "cell_type": "markdown",
   "metadata": {},
   "source": [
    "1. Output the **minimum**, **maximum**, and **count** of the columns:`Global_active_power`, `Global_reactive_power`, `Voltage`, and `Global_intensity`\n",
    "2. Output the **mean** and **standard deviation** of these columns\n"
   ]
  },
  {
   "cell_type": "code",
   "execution_count": 11,
   "metadata": {
    "ExecuteTime": {
     "end_time": "2018-03-28T07:08:37.988766Z",
     "start_time": "2018-03-28T07:08:37.986761Z"
    }
   },
   "outputs": [],
   "source": [
    "features = ['Global_active_power', 'Global_reactive_power', 'Voltage', 'Global_intensity']"
   ]
  },
  {
   "cell_type": "code",
   "execution_count": 12,
   "metadata": {
    "ExecuteTime": {
     "end_time": "2018-03-28T07:08:37.996787Z",
     "start_time": "2018-03-28T07:08:37.989769Z"
    }
   },
   "outputs": [],
   "source": [
    "# def get_count(df, feature):\n",
    "#     return df.select(feature).count()\n",
    "# def get_minmax(df, feature):\n",
    "#     return (data.select(feature)\n",
    "#             .rdd\n",
    "#             .sortBy(lambda x: x, ascending=False))"
   ]
  },
  {
   "cell_type": "code",
   "execution_count": 14,
   "metadata": {
    "ExecuteTime": {
     "end_time": "2018-03-28T07:08:54.566578Z",
     "start_time": "2018-03-28T07:08:49.655301Z"
    }
   },
   "outputs": [
    {
     "data": {
      "text/plain": [
       "11.121999740600586"
      ]
     },
     "execution_count": 14,
     "metadata": {},
     "output_type": "execute_result"
    }
   ],
   "source": [
    "data.select('Global_active_power').rdd.map(lambda x: x['Global_active_power']).max()"
   ]
  },
  {
   "cell_type": "code",
   "execution_count": 15,
   "metadata": {
    "ExecuteTime": {
     "end_time": "2018-03-28T07:08:56.152699Z",
     "start_time": "2018-03-28T07:08:55.986585Z"
    }
   },
   "outputs": [],
   "source": [
    "summary = {f:{} for f in features}"
   ]
  },
  {
   "cell_type": "code",
   "execution_count": 19,
   "metadata": {
    "ExecuteTime": {
     "end_time": "2018-03-28T07:10:47.920604Z",
     "start_time": "2018-03-28T07:10:43.140465Z"
    }
   },
   "outputs": [
    {
     "data": {
      "text/plain": [
       "48.400001525878906"
      ]
     },
     "execution_count": 19,
     "metadata": {},
     "output_type": "execute_result"
    }
   ],
   "source": [
    "summary['Global_intensity']['rdd'].max()"
   ]
  },
  {
   "cell_type": "code",
   "execution_count": 31,
   "metadata": {
    "ExecuteTime": {
     "end_time": "2018-03-28T07:16:53.878554Z",
     "start_time": "2018-03-28T07:15:27.703868Z"
    }
   },
   "outputs": [],
   "source": [
    "count = data.count()\n",
    "for f in features:\n",
    "    rdd = data.select(f).rdd.map(lambda x: x[f])\n",
    "    summary[f]['count'] = count\n",
    "    summary[f]['max'] = rdd.max()\n",
    "    summary[f]['min'] = rdd.min()\n",
    "    summary[f]['mean'] = rdd.mean()\n",
    "    summary[f]['stddev'] = rdd.stdev()"
   ]
  },
  {
   "cell_type": "code",
   "execution_count": 32,
   "metadata": {
    "ExecuteTime": {
     "end_time": "2018-03-28T07:16:56.716050Z",
     "start_time": "2018-03-28T07:16:56.712040Z"
    }
   },
   "outputs": [
    {
     "data": {
      "text/plain": [
       "{'Global_active_power': {'count': 2049280,\n",
       "  'max': 11.121999740600586,\n",
       "  'mean': 1.0916150366540185,\n",
       "  'min': 0.07599999755620956,\n",
       "  'rdd': PythonRDD[30] at RDD at PythonRDD.scala:48,\n",
       "  'stddev': 1.057293903150742},\n",
       " 'Global_intensity': {'count': 2049280,\n",
       "  'max': 48.400001525878906,\n",
       "  'mean': 4.627759313004143,\n",
       "  'min': 0.20000000298023224,\n",
       "  'rdd': PythonRDD[31] at RDD at PythonRDD.scala:48,\n",
       "  'stddev': 4.444395174601214},\n",
       " 'Global_reactive_power': {'count': 2049280,\n",
       "  'max': 1.3899999856948853,\n",
       "  'mean': 0.12371447652515713,\n",
       "  'min': 0.0,\n",
       "  'rdd': PythonRDD[32] at RDD at PythonRDD.scala:48,\n",
       "  'stddev': 0.11272195208358389},\n",
       " 'Voltage': {'count': 2049280,\n",
       "  'max': 254.14999389648438,\n",
       "  'mean': 240.83985796672332,\n",
       "  'min': 223.1999969482422,\n",
       "  'rdd': PythonRDD[33] at RDD at PythonRDD.scala:48,\n",
       "  'stddev': 3.2399858706875015}}"
      ]
     },
     "execution_count": 32,
     "metadata": {},
     "output_type": "execute_result"
    }
   ],
   "source": [
    "summary"
   ]
  },
  {
   "cell_type": "code",
   "execution_count": null,
   "metadata": {
    "ExecuteTime": {
     "end_time": "2018-03-28T06:15:54.793946Z",
     "start_time": "2018-03-28T06:15:53.250877Z"
    }
   },
   "outputs": [],
   "source": [
    "#summary = data.select(features).describe()\n",
    "#summary.show()\n",
    "# +-------+-------------------+---------------------+------------------+-----------------+\n",
    "# |summary|Global_active_power|Global_reactive_power|           Voltage| Global_intensity|\n",
    "# +-------+-------------------+---------------------+------------------+-----------------+\n",
    "# |  count|            2049280|              2049280|           2049280|          2049280|\n",
    "# |   mean| 1.0916150366540094|   0.1237144765251571|240.83985796672414|4.627759313004169|\n",
    "# | stddev| 1.0572941611180013|  0.11272197958641254|  3.23998666120589|4.444396258981289|\n",
    "# |    min|              0.076|                  0.0|             223.2|              0.2|\n",
    "# |    max|             11.122|                 1.39|            254.15|             48.4|\n",
    "# +-------+-------------------+---------------------+------------------+-----------------+"
   ]
  },
  {
   "cell_type": "markdown",
   "metadata": {},
   "source": [
    "3 . Perform **min-max normalization** on the columns to generate normalized output"
   ]
  },
  {
   "cell_type": "code",
   "execution_count": 33,
   "metadata": {
    "ExecuteTime": {
     "end_time": "2018-03-28T07:17:15.703689Z",
     "start_time": "2018-03-28T07:17:13.410149Z"
    },
    "scrolled": false
   },
   "outputs": [
    {
     "name": "stdout",
     "output_type": "stream",
     "text": [
      "+-------------------+------------------------+\n",
      "|Global_active_power|norm_Global_active_power|\n",
      "+-------------------+------------------------+\n",
      "|              4.216|      0.3747963225473887|\n",
      "|               5.36|     0.47836323183743595|\n",
      "|              5.374|     0.47963065346431577|\n",
      "|              5.388|     0.48089807509119564|\n",
      "|              3.666|     0.32500452429198895|\n",
      "|               3.52|       0.311787077990743|\n",
      "|              3.702|      0.3282636238926484|\n",
      "|                3.7|      0.3280825759940403|\n",
      "|              3.668|      0.3251855937747528|\n",
      "|              3.662|     0.32464240691061697|\n",
      "|              4.448|      0.3957993896768334|\n",
      "|              5.412|     0.48307082254773914|\n",
      "|              5.224|     0.46605106819754205|\n",
      "|              5.268|     0.47003442414510127|\n",
      "|              4.054|     0.36013036355234324|\n",
      "|              3.384|      0.2994749359350049|\n",
      "|               3.27|     0.28915445026889064|\n",
      "|               3.43|     0.30363933978117225|\n",
      "|              3.266|     0.28879233288751865|\n",
      "|              3.728|         0.3306174192478|\n",
      "+-------------------+------------------------+\n",
      "only showing top 20 rows\n",
      "\n",
      "+---------------------+--------------------------+\n",
      "|Global_reactive_power|norm_Global_reactive_power|\n",
      "+---------------------+--------------------------+\n",
      "|                0.418|        0.3007194366460509|\n",
      "|                0.436|        0.3136690604292478|\n",
      "|                0.498|       0.35827338206620574|\n",
      "|                0.502|        0.3611510643288495|\n",
      "|                0.528|        0.3798561169588938|\n",
      "|                0.522|       0.37553958284466815|\n",
      "|                 0.52|       0.37410070955256636|\n",
      "|                 0.52|       0.37410070955256636|\n",
      "|                 0.51|         0.366906471735177|\n",
      "|                 0.51|         0.366906471735177|\n",
      "|                0.498|       0.35827338206620574|\n",
      "|                 0.47|       0.33812949902509953|\n",
      "|                0.478|        0.3438848849909071|\n",
      "|                0.398|       0.28633093957075223|\n",
      "|                0.422|        0.3035971189086947|\n",
      "|                0.282|       0.20287770370316371|\n",
      "|                0.152|       0.10935251559476217|\n",
      "|                0.156|       0.11223021929792588|\n",
      "|                  0.0|                       0.0|\n",
      "|                  0.0|                       0.0|\n",
      "+---------------------+--------------------------+\n",
      "only showing top 20 rows\n",
      "\n",
      "+-------+-------------------+\n",
      "|Voltage|       norm_Voltage|\n",
      "+-------+-------------------+\n",
      "| 234.84|0.37609048586059823|\n",
      "| 233.63|0.33699544306942775|\n",
      "| 233.29|0.32600960687537933|\n",
      "| 233.74| 0.3405495826881009|\n",
      "| 235.68| 0.4032309194863383|\n",
      "| 235.02|0.38190657478853385|\n",
      "| 235.09|0.38416803108356146|\n",
      "| 235.22| 0.3883685123640575|\n",
      "| 233.99|0.34862712791106415|\n",
      "| 233.86|0.34442664663056816|\n",
      "| 232.86|0.31211646573871527|\n",
      "| 232.78| 0.3095315921056589|\n",
      "| 232.99|0.31631694701921126|\n",
      "| 232.91| 0.3137320733861549|\n",
      "| 235.24|0.38901485402588026|\n",
      "| 237.14|0.45040400051470686|\n",
      "| 236.73|0.43715670802563084|\n",
      "| 237.06|0.44781912688165043|\n",
      "| 237.13|0.45008107619091287|\n",
      "| 235.84| 0.4084006667524511|\n",
      "+-------+-------------------+\n",
      "only showing top 20 rows\n",
      "\n",
      "+----------------+---------------------+\n",
      "|Global_intensity|norm_Global_intensity|\n",
      "+----------------+---------------------+\n",
      "|            18.4|  0.37759334108949466|\n",
      "|            23.0|  0.47302903063577767|\n",
      "|            23.0|  0.47302903063577767|\n",
      "|            23.0|  0.47302903063577767|\n",
      "|            15.8|   0.3236514459515824|\n",
      "|            15.0|  0.30705393214538884|\n",
      "|            15.8|   0.3236514459515824|\n",
      "|            15.8|   0.3236514459515824|\n",
      "|            15.8|   0.3236514459515824|\n",
      "|            15.8|   0.3236514459515824|\n",
      "|            19.6|  0.40248962169167185|\n",
      "|            23.2|  0.47717842392665627|\n",
      "|            22.4|   0.4605808903346891|\n",
      "|            22.6|   0.4647302836255677|\n",
      "|            17.6|   0.3609958470690746|\n",
      "|            14.2|   0.2904564183391952|\n",
      "|            13.8|   0.2821576713289852|\n",
      "|            14.4|  0.29460579184430025|\n",
      "|            13.8|   0.2821576713289852|\n",
      "|            16.4|   0.3360995664668974|\n",
      "+----------------+---------------------+\n",
      "only showing top 20 rows\n",
      "\n"
     ]
    }
   ],
   "source": [
    "for feature in features:\n",
    "    min = summary[feature]['min']\n",
    "    max = summary[feature]['max'] \n",
    "    (data.withColumn('norm_' + feature, (data[feature]-min)/(max-min))\n",
    "         .select(feature, 'norm_' + feature)\n",
    "         .show())"
   ]
  },
  {
   "cell_type": "code",
   "execution_count": 34,
   "metadata": {
    "ExecuteTime": {
     "end_time": "2018-03-28T07:17:26.969952Z",
     "start_time": "2018-03-28T07:17:26.532054Z"
    }
   },
   "outputs": [],
   "source": [
    "sc.stop()"
   ]
  },
  {
   "cell_type": "code",
   "execution_count": null,
   "metadata": {},
   "outputs": [],
   "source": []
  }
 ],
 "metadata": {
  "kernelspec": {
   "display_name": "Python 3",
   "language": "python",
   "name": "python3"
  },
  "toc": {
   "nav_menu": {},
   "number_sections": false,
   "sideBar": true,
   "skip_h1_title": false,
   "title_cell": "Table of Contents",
   "title_sidebar": "Contents",
   "toc_cell": false,
   "toc_position": {
    "height": "calc(100% - 180px)",
    "left": "10px",
    "top": "150px",
    "width": "307px"
   },
   "toc_section_display": true,
   "toc_window_display": false
  },
  "varInspector": {
   "cols": {
    "lenName": 16,
    "lenType": 16,
    "lenVar": 40
   },
   "kernels_config": {
    "python": {
     "delete_cmd_postfix": "",
     "delete_cmd_prefix": "del ",
     "library": "var_list.py",
     "varRefreshCmd": "print(var_dic_list())"
    },
    "r": {
     "delete_cmd_postfix": ") ",
     "delete_cmd_prefix": "rm(",
     "library": "var_list.r",
     "varRefreshCmd": "cat(var_dic_list()) "
    }
   },
   "types_to_exclude": [
    "module",
    "function",
    "builtin_function_or_method",
    "instance",
    "_Feature"
   ],
   "window_display": false
  }
 },
 "nbformat": 4,
 "nbformat_minor": 2
}
