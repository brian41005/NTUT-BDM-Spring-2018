{
 "cells": [
  {
   "cell_type": "markdown",
   "metadata": {},
   "source": [
    "# 103590450 馬茂源 四資四"
   ]
  },
  {
   "cell_type": "code",
   "execution_count": 295,
   "metadata": {
    "ExecuteTime": {
     "end_time": "2018-05-02T09:45:48.364289Z",
     "start_time": "2018-05-02T09:45:48.360725Z"
    }
   },
   "outputs": [],
   "source": [
    "import pandas as pd\n",
    "import numpy as np\n",
    "import time\n",
    "import os\n",
    "import sys\n",
    "import string\n",
    "import html\n",
    "import hashlib\n",
    "import re\n",
    "from collections import defaultdict\n",
    "import itertools\n",
    "from sklearn.feature_extraction.text import CountVectorizer"
   ]
  },
  {
   "cell_type": "code",
   "execution_count": 2,
   "metadata": {
    "ExecuteTime": {
     "end_time": "2018-05-02T07:30:08.785035Z",
     "start_time": "2018-05-02T07:30:08.781273Z"
    }
   },
   "outputs": [],
   "source": [
    "t0 = time.time()"
   ]
  },
  {
   "cell_type": "code",
   "execution_count": 3,
   "metadata": {
    "ExecuteTime": {
     "end_time": "2018-05-02T07:30:08.793756Z",
     "start_time": "2018-05-02T07:30:08.787848Z"
    }
   },
   "outputs": [],
   "source": [
    "if not os.path.exists('result'):\n",
    "    os.mkdir('result')"
   ]
  },
  {
   "cell_type": "code",
   "execution_count": 4,
   "metadata": {
    "ExecuteTime": {
     "end_time": "2018-05-02T07:30:08.800870Z",
     "start_time": "2018-05-02T07:30:08.796125Z"
    }
   },
   "outputs": [],
   "source": [
    "file_names = ['./data/reut2-{0:0>3}.sgm'.format(i) for i in range(22)]\n",
    "file_names = [file_names[0]]"
   ]
  },
  {
   "cell_type": "markdown",
   "metadata": {},
   "source": [
    "## (1) Given the Reuters-21578 dataset, please calculate all kshingles and output the set representation of the text dataset as a matrix. "
   ]
  },
  {
   "cell_type": "code",
   "execution_count": 5,
   "metadata": {
    "ExecuteTime": {
     "end_time": "2018-05-02T07:30:08.808507Z",
     "start_time": "2018-05-02T07:30:08.803074Z"
    }
   },
   "outputs": [],
   "source": [
    "def parser(file_name):\n",
    "    with open(file_name, 'r', encoding='ISO-8859-1') as f:\n",
    "        file = f.read()\n",
    "    news = []\n",
    "    start = 0\n",
    "    for i in range(len(file)):\n",
    "        if file[i:i+6] == '<BODY>':\n",
    "            start = i+6\n",
    "        elif file[i:i+7] == '</BODY>':\n",
    "            n = file[start:i].replace('\\n', ' ')\n",
    "            n = n.replace('REUTER &#3;', '')\n",
    "            news.append(n)\n",
    "    return news"
   ]
  },
  {
   "cell_type": "code",
   "execution_count": 6,
   "metadata": {
    "ExecuteTime": {
     "end_time": "2018-05-02T07:30:09.300761Z",
     "start_time": "2018-05-02T07:30:08.810866Z"
    }
   },
   "outputs": [],
   "source": [
    "news = []\n",
    "for i in file_names:\n",
    "    each_news = parser(i) \n",
    "    news.extend(each_news)"
   ]
  },
  {
   "cell_type": "code",
   "execution_count": 7,
   "metadata": {
    "ExecuteTime": {
     "end_time": "2018-05-02T07:30:09.312803Z",
     "start_time": "2018-05-02T07:30:09.303182Z"
    }
   },
   "outputs": [
    {
     "data": {
      "text/plain": [
       "925"
      ]
     },
     "execution_count": 7,
     "metadata": {},
     "output_type": "execute_result"
    }
   ],
   "source": [
    "len(news)"
   ]
  },
  {
   "cell_type": "code",
   "execution_count": 8,
   "metadata": {
    "ExecuteTime": {
     "end_time": "2018-05-02T07:30:09.320774Z",
     "start_time": "2018-05-02T07:30:09.314841Z"
    }
   },
   "outputs": [],
   "source": [
    "news_data = pd.DataFrame(data=news, columns=['news'])"
   ]
  },
  {
   "cell_type": "code",
   "execution_count": 9,
   "metadata": {
    "ExecuteTime": {
     "end_time": "2018-05-02T07:30:09.338597Z",
     "start_time": "2018-05-02T07:30:09.323137Z"
    },
    "scrolled": true
   },
   "outputs": [
    {
     "data": {
      "text/html": [
       "<div>\n",
       "<style scoped>\n",
       "    .dataframe tbody tr th:only-of-type {\n",
       "        vertical-align: middle;\n",
       "    }\n",
       "\n",
       "    .dataframe tbody tr th {\n",
       "        vertical-align: top;\n",
       "    }\n",
       "\n",
       "    .dataframe thead th {\n",
       "        text-align: right;\n",
       "    }\n",
       "</style>\n",
       "<table border=\"1\" class=\"dataframe\">\n",
       "  <thead>\n",
       "    <tr style=\"text-align: right;\">\n",
       "      <th></th>\n",
       "      <th>news</th>\n",
       "    </tr>\n",
       "  </thead>\n",
       "  <tbody>\n",
       "    <tr>\n",
       "      <th>0</th>\n",
       "      <td>Showers continued throughout the week in the B...</td>\n",
       "    </tr>\n",
       "    <tr>\n",
       "      <th>1</th>\n",
       "      <td>Standard Oil Co and BP North America Inc said ...</td>\n",
       "    </tr>\n",
       "    <tr>\n",
       "      <th>2</th>\n",
       "      <td>Texas Commerce Bancshares Inc's Texas Commerce...</td>\n",
       "    </tr>\n",
       "    <tr>\n",
       "      <th>3</th>\n",
       "      <td>BankAmerica Corp is not under pressure to act ...</td>\n",
       "    </tr>\n",
       "    <tr>\n",
       "      <th>4</th>\n",
       "      <td>The U.S. Agriculture Department reported the f...</td>\n",
       "    </tr>\n",
       "  </tbody>\n",
       "</table>\n",
       "</div>"
      ],
      "text/plain": [
       "                                                news\n",
       "0  Showers continued throughout the week in the B...\n",
       "1  Standard Oil Co and BP North America Inc said ...\n",
       "2  Texas Commerce Bancshares Inc's Texas Commerce...\n",
       "3  BankAmerica Corp is not under pressure to act ...\n",
       "4  The U.S. Agriculture Department reported the f..."
      ]
     },
     "execution_count": 9,
     "metadata": {},
     "output_type": "execute_result"
    }
   ],
   "source": [
    "news_data.head()"
   ]
  },
  {
   "cell_type": "code",
   "execution_count": 10,
   "metadata": {
    "ExecuteTime": {
     "end_time": "2018-05-02T07:30:09.344144Z",
     "start_time": "2018-05-02T07:30:09.340331Z"
    }
   },
   "outputs": [],
   "source": [
    "def tokenizer(text):\n",
    "    strip_chars = '.' + ' –…' + string.punctuation\n",
    "    text = html.unescape(text)\n",
    "    text = text.lower()\n",
    "    text = text.strip(strip_chars)\n",
    "    text = text.replace('reuter', '')\n",
    "    text = re.sub(re.compile('<.*?>'), '', text)\n",
    "    return re.findall(r'\\w+', text)"
   ]
  },
  {
   "cell_type": "code",
   "execution_count": 11,
   "metadata": {
    "ExecuteTime": {
     "end_time": "2018-05-02T07:30:09.349502Z",
     "start_time": "2018-05-02T07:30:09.346322Z"
    }
   },
   "outputs": [],
   "source": [
    "test_news = news_data['news'][1]"
   ]
  },
  {
   "cell_type": "code",
   "execution_count": 12,
   "metadata": {
    "ExecuteTime": {
     "end_time": "2018-05-02T07:30:09.354278Z",
     "start_time": "2018-05-02T07:30:09.351649Z"
    }
   },
   "outputs": [],
   "source": [
    "#tokenizer(test_news)"
   ]
  },
  {
   "cell_type": "code",
   "execution_count": 13,
   "metadata": {
    "ExecuteTime": {
     "end_time": "2018-05-02T07:30:09.457428Z",
     "start_time": "2018-05-02T07:30:09.356655Z"
    }
   },
   "outputs": [],
   "source": [
    "news_data['news_token'] = news_data.apply(lambda x: tokenizer(x['news']), axis=1)"
   ]
  },
  {
   "cell_type": "code",
   "execution_count": 14,
   "metadata": {
    "ExecuteTime": {
     "end_time": "2018-05-02T07:30:09.467204Z",
     "start_time": "2018-05-02T07:30:09.460982Z"
    }
   },
   "outputs": [],
   "source": [
    "#news_data"
   ]
  },
  {
   "cell_type": "code",
   "execution_count": 15,
   "metadata": {
    "ExecuteTime": {
     "end_time": "2018-05-02T07:30:09.475427Z",
     "start_time": "2018-05-02T07:30:09.469804Z"
    }
   },
   "outputs": [],
   "source": [
    "def k_shingle(text, k):\n",
    "    string = ' '.join(text)\n",
    "    shingles = set([])\n",
    "    for i in range(len(string)-k + 1):\n",
    "        shingles.add(string[i:i+k])\n",
    "    return (shingles)"
   ]
  },
  {
   "cell_type": "code",
   "execution_count": 16,
   "metadata": {
    "ExecuteTime": {
     "end_time": "2018-05-02T07:30:09.733454Z",
     "start_time": "2018-05-02T07:30:09.478536Z"
    }
   },
   "outputs": [],
   "source": [
    "news_data['news_token'] = news_data['news_token'].apply(lambda x: k_shingle(x, 5))"
   ]
  },
  {
   "cell_type": "code",
   "execution_count": 17,
   "metadata": {
    "ExecuteTime": {
     "end_time": "2018-05-02T07:30:09.782854Z",
     "start_time": "2018-05-02T07:30:09.735775Z"
    },
    "scrolled": true
   },
   "outputs": [
    {
     "data": {
      "text/plain": [
       "78082"
      ]
     },
     "execution_count": 17,
     "metadata": {},
     "output_type": "execute_result"
    }
   ],
   "source": [
    "shingles = set([])\n",
    "for s in news_data['news_token'].values:\n",
    "    shingles |= s\n",
    "shingles = list(shingles)\n",
    "len(shingles)"
   ]
  },
  {
   "cell_type": "code",
   "execution_count": 18,
   "metadata": {
    "ExecuteTime": {
     "end_time": "2018-05-02T07:30:09.803824Z",
     "start_time": "2018-05-02T07:30:09.784941Z"
    }
   },
   "outputs": [],
   "source": [
    "shingles_dict_ = {s:i for i, s in enumerate(shingles)}"
   ]
  },
  {
   "cell_type": "code",
   "execution_count": 37,
   "metadata": {
    "ExecuteTime": {
     "end_time": "2018-05-02T07:40:00.779503Z",
     "start_time": "2018-05-02T07:40:00.775296Z"
    }
   },
   "outputs": [],
   "source": [
    "def encode_shingles(row, shingles_dict_):\n",
    "    v = np.zeros(len(shingles_dict_), dtype='int')\n",
    "    idx_list = [shingles_dict_[r] for r in row] \n",
    "    v[idx_list] = 1\n",
    "    return v"
   ]
  },
  {
   "cell_type": "code",
   "execution_count": 38,
   "metadata": {
    "ExecuteTime": {
     "end_time": "2018-05-02T07:40:01.255401Z",
     "start_time": "2018-05-02T07:40:00.782245Z"
    }
   },
   "outputs": [],
   "source": [
    "news_data['shingles'] = news_data['news_token'].apply(encode_shingles, args=(shingles_dict_,))"
   ]
  },
  {
   "cell_type": "code",
   "execution_count": 39,
   "metadata": {
    "ExecuteTime": {
     "end_time": "2018-05-02T07:40:01.633985Z",
     "start_time": "2018-05-02T07:40:01.257629Z"
    }
   },
   "outputs": [
    {
     "data": {
      "text/plain": [
       "(78082, 925)"
      ]
     },
     "execution_count": 39,
     "metadata": {},
     "output_type": "execute_result"
    }
   ],
   "source": [
    "output_shingles = np.array(news_data['shingles'].tolist()).T\n",
    "output_shingles.shape"
   ]
  },
  {
   "cell_type": "code",
   "execution_count": 40,
   "metadata": {
    "ExecuteTime": {
     "end_time": "2018-05-02T07:40:01.638948Z",
     "start_time": "2018-05-02T07:40:01.636107Z"
    }
   },
   "outputs": [],
   "source": [
    "# np.savetxt(\"result/task_1.csv\", output_shingles, delimiter=\",\",  fmt='%d')"
   ]
  },
  {
   "cell_type": "markdown",
   "metadata": {},
   "source": [
    "## (2) Given the set representation, compute the minhash signatures of all documents using MapReduce."
   ]
  },
  {
   "cell_type": "code",
   "execution_count": 41,
   "metadata": {
    "ExecuteTime": {
     "end_time": "2018-05-02T07:40:01.645147Z",
     "start_time": "2018-05-02T07:40:01.642127Z"
    }
   },
   "outputs": [],
   "source": [
    "news_shingles = output_shingles"
   ]
  },
  {
   "cell_type": "code",
   "execution_count": 42,
   "metadata": {
    "ExecuteTime": {
     "end_time": "2018-05-02T07:40:01.652135Z",
     "start_time": "2018-05-02T07:40:01.647492Z"
    }
   },
   "outputs": [],
   "source": [
    "def get_prime(greater_than):\n",
    "    \n",
    "    def is_prime(n):\n",
    "        if n % 2 == 0 and n > 2: \n",
    "            return False\n",
    "        return all(n % i for i in range(3, int(np.sqrt(n)) + 1, 2))\n",
    "    is_p = False\n",
    "    \n",
    "    \n",
    "    \n",
    "    while not is_p:\n",
    "        greater_than += 1\n",
    "        is_p = is_prime(greater_than)\n",
    "        \n",
    "    return greater_than"
   ]
  },
  {
   "cell_type": "code",
   "execution_count": 43,
   "metadata": {
    "ExecuteTime": {
     "end_time": "2018-05-02T07:40:01.660001Z",
     "start_time": "2018-05-02T07:40:01.654875Z"
    }
   },
   "outputs": [],
   "source": [
    "def get_hash_func_list(n, k=100):\n",
    "    p = get_prime(n)\n",
    "    func_list = []\n",
    "    for a, b in zip(np.random.randint(0, n, size=k),\n",
    "                   np.random.randint(0, n, size=k)):\n",
    "        func_list.append(lambda x, a=a,b=b,p=p,n=n: ((a*x+b)%p)%n)\n",
    "    return np.array(func_list)"
   ]
  },
  {
   "cell_type": "code",
   "execution_count": 44,
   "metadata": {
    "ExecuteTime": {
     "end_time": "2018-05-02T07:40:01.666657Z",
     "start_time": "2018-05-02T07:40:01.662120Z"
    }
   },
   "outputs": [],
   "source": [
    "def one_pass_minhashing(shingles, k=100):\n",
    "    n = shingles.shape[0]\n",
    "    hash_list = get_hash_func_list(n, k=k)\n",
    "    singnature = np.full((k, shingles.shape[1]), fill_value=np.inf)\n",
    "    \n",
    "    for i in range(n):\n",
    "        hash_value = np.array([h(i) for h in hash_list])\n",
    "\n",
    "        for j, c in enumerate(shingles[i, :] == 1):\n",
    "            if c:\n",
    "                mask = singnature[:, j] > hash_value\n",
    "                singnature[:, j][mask] = hash_value[mask]\n",
    "    \n",
    "    return singnature.astype('int')"
   ]
  },
  {
   "cell_type": "code",
   "execution_count": 45,
   "metadata": {
    "ExecuteTime": {
     "end_time": "2018-05-02T07:40:01.676371Z",
     "start_time": "2018-05-02T07:40:01.668775Z"
    }
   },
   "outputs": [
    {
     "data": {
      "text/plain": [
       "array([[0, 0, 0, 0],\n",
       "       [1, 0, 1, 0],\n",
       "       [0, 2, 0, 2],\n",
       "       [0, 0, 0, 0],\n",
       "       [1, 0, 1, 0],\n",
       "       [2, 0, 2, 0]])"
      ]
     },
     "execution_count": 45,
     "metadata": {},
     "output_type": "execute_result"
    }
   ],
   "source": [
    "test_input = np.array([[1,0,1,0],\n",
    "                       [1,0,0,1],\n",
    "                       [0,1,0,1],\n",
    "                       [0,1,0,1],\n",
    "                       [0,1,0,1],\n",
    "                       [1,0,1,0],\n",
    "                       [1,0,1,0]])\n",
    "test_singnature = one_pass_minhashing(test_input, k=6)\n",
    "test_singnature.astype('int')"
   ]
  },
  {
   "cell_type": "code",
   "execution_count": 46,
   "metadata": {
    "ExecuteTime": {
     "end_time": "2018-05-02T07:40:13.801664Z",
     "start_time": "2018-05-02T07:40:01.678481Z"
    }
   },
   "outputs": [],
   "source": [
    "singnature = one_pass_minhashing(news_shingles, k=100)"
   ]
  },
  {
   "cell_type": "code",
   "execution_count": 47,
   "metadata": {
    "ExecuteTime": {
     "end_time": "2018-05-02T07:40:13.809095Z",
     "start_time": "2018-05-02T07:40:13.803926Z"
    }
   },
   "outputs": [
    {
     "data": {
      "text/plain": [
       "(100, 925)"
      ]
     },
     "execution_count": 47,
     "metadata": {},
     "output_type": "execute_result"
    }
   ],
   "source": [
    "singnature.shape"
   ]
  },
  {
   "cell_type": "code",
   "execution_count": 48,
   "metadata": {
    "ExecuteTime": {
     "end_time": "2018-05-02T07:40:13.818410Z",
     "start_time": "2018-05-02T07:40:13.811594Z"
    }
   },
   "outputs": [
    {
     "data": {
      "text/plain": [
       "dtype('int64')"
      ]
     },
     "execution_count": 48,
     "metadata": {},
     "output_type": "execute_result"
    }
   ],
   "source": [
    "singnature.dtype"
   ]
  },
  {
   "cell_type": "code",
   "execution_count": 49,
   "metadata": {
    "ExecuteTime": {
     "end_time": "2018-05-02T07:40:13.824517Z",
     "start_time": "2018-05-02T07:40:13.820968Z"
    }
   },
   "outputs": [],
   "source": [
    "#np.savetxt(\"result/task_2.csv\", singnature, delimiter=\",\",  fmt='%d')"
   ]
  },
  {
   "cell_type": "markdown",
   "metadata": {},
   "source": [
    "## (3) Implement the LSH algorithm by MapReduce and output the resulting candidate pairs of similar documents."
   ]
  },
  {
   "cell_type": "code",
   "execution_count": 50,
   "metadata": {
    "ExecuteTime": {
     "end_time": "2018-05-02T07:40:13.832080Z",
     "start_time": "2018-05-02T07:40:13.827264Z"
    }
   },
   "outputs": [
    {
     "data": {
      "text/plain": [
       "128"
      ]
     },
     "execution_count": 50,
     "metadata": {},
     "output_type": "execute_result"
    }
   ],
   "source": [
    "hashlib.sha512().block_size"
   ]
  },
  {
   "cell_type": "code",
   "execution_count": 51,
   "metadata": {
    "ExecuteTime": {
     "end_time": "2018-05-02T07:40:13.840659Z",
     "start_time": "2018-05-02T07:40:13.834500Z"
    }
   },
   "outputs": [],
   "source": [
    "def LSH(singnature, b=20):\n",
    "    buckets = [defaultdict(set) for i in range(b)]\n",
    "    k = singnature.shape[0]\n",
    "    r = k // b\n",
    "    for i, doc in enumerate(singnature.T):\n",
    "        x = np.array2string(doc.astype('int'), separator='', precision=0)\n",
    "        for j, start_idx in enumerate(range(0, k, r)):\n",
    "            #print(j, j+r)\n",
    "            key = hashlib.sha512(x[start_idx:start_idx+r].encode()).hexdigest()\n",
    "            buckets[j][key].add(i)\n",
    "    return buckets"
   ]
  },
  {
   "cell_type": "code",
   "execution_count": 52,
   "metadata": {
    "ExecuteTime": {
     "end_time": "2018-05-02T07:40:13.847347Z",
     "start_time": "2018-05-02T07:40:13.843123Z"
    }
   },
   "outputs": [],
   "source": [
    "def get_candidate(buckets):\n",
    "    candidates = set([])\n",
    "    for bucket in buckets:\n",
    "        for k, item in bucket.items():\n",
    "            if len(item) > 1:\n",
    "                pairs = itertools.combinations(item, 2)\n",
    "                for p in pairs:\n",
    "                    candidates.add(p)\n",
    "\n",
    "    return candidates"
   ]
  },
  {
   "cell_type": "code",
   "execution_count": 53,
   "metadata": {
    "ExecuteTime": {
     "end_time": "2018-05-02T07:40:13.852996Z",
     "start_time": "2018-05-02T07:40:13.849891Z"
    }
   },
   "outputs": [],
   "source": [
    "# bucket = LSH(test_singnature, b=2)\n",
    "# bucket"
   ]
  },
  {
   "cell_type": "code",
   "execution_count": 54,
   "metadata": {
    "ExecuteTime": {
     "end_time": "2018-05-02T07:40:14.244277Z",
     "start_time": "2018-05-02T07:40:13.855641Z"
    },
    "scrolled": true
   },
   "outputs": [],
   "source": [
    "buckets = LSH(singnature, b=20)\n",
    "candidates = get_candidate(buckets)\n",
    "candidates = list(candidates)"
   ]
  },
  {
   "cell_type": "code",
   "execution_count": 55,
   "metadata": {
    "ExecuteTime": {
     "end_time": "2018-05-02T07:40:14.254350Z",
     "start_time": "2018-05-02T07:40:14.246983Z"
    }
   },
   "outputs": [
    {
     "data": {
      "text/plain": [
       "25904"
      ]
     },
     "execution_count": 55,
     "metadata": {},
     "output_type": "execute_result"
    }
   ],
   "source": [
    "len(candidates)"
   ]
  },
  {
   "cell_type": "code",
   "execution_count": 56,
   "metadata": {
    "ExecuteTime": {
     "end_time": "2018-05-02T07:40:14.259861Z",
     "start_time": "2018-05-02T07:40:14.256905Z"
    }
   },
   "outputs": [],
   "source": [
    "def get_distance(s1, s2):\n",
    "    intersection = np.logical_and(s1, s2)\n",
    "    union = np.logical_or(s1, s2)\n",
    "    return intersection.sum() / float(union.sum())"
   ]
  },
  {
   "cell_type": "code",
   "execution_count": 308,
   "metadata": {
    "ExecuteTime": {
     "end_time": "2018-05-02T09:50:54.666635Z",
     "start_time": "2018-05-02T09:50:54.309173Z"
    }
   },
   "outputs": [
    {
     "data": {
      "text/plain": [
       "25904"
      ]
     },
     "execution_count": 308,
     "metadata": {},
     "output_type": "execute_result"
    }
   ],
   "source": [
    "new_candidates = []\n",
    "for d_id_1, d_id_2 in candidates:\n",
    "    if get_distance(singnature[:, d_id_1], \n",
    "                   singnature[:, d_id_2]) >= 0.8:\n",
    "        new_candidates.append((d_id_1, d_id_2))\n",
    "len(new_candidates)"
   ]
  },
  {
   "cell_type": "code",
   "execution_count": 309,
   "metadata": {
    "ExecuteTime": {
     "end_time": "2018-05-02T09:50:56.202393Z",
     "start_time": "2018-05-02T09:50:56.183004Z"
    },
    "scrolled": true
   },
   "outputs": [],
   "source": [
    "new_candidates.sort()"
   ]
  },
  {
   "cell_type": "code",
   "execution_count": 323,
   "metadata": {
    "ExecuteTime": {
     "end_time": "2018-05-02T09:54:04.730272Z",
     "start_time": "2018-05-02T09:54:04.710714Z"
    }
   },
   "outputs": [],
   "source": [
    "with open('result/task3.csv', 'w') as f:\n",
    "    for i, g in itertools.groupby(new_candidates, key=lambda x: x[0]):\n",
    "        f.write('%5d, %s\\n'%(i, str(list(i[1] for i in g))))"
   ]
  },
  {
   "cell_type": "code",
   "execution_count": 290,
   "metadata": {
    "ExecuteTime": {
     "end_time": "2018-05-02T09:42:47.299071Z",
     "start_time": "2018-05-02T09:42:47.296236Z"
    },
    "scrolled": false
   },
   "outputs": [],
   "source": [
    "#news_data.loc[new_candidates[0][0]]['news']"
   ]
  },
  {
   "cell_type": "code",
   "execution_count": 291,
   "metadata": {
    "ExecuteTime": {
     "end_time": "2018-05-02T09:42:49.129696Z",
     "start_time": "2018-05-02T09:42:49.126140Z"
    }
   },
   "outputs": [],
   "source": [
    "#news_data.loc[new_candidates[0][1]]['news']"
   ]
  },
  {
   "cell_type": "markdown",
   "metadata": {},
   "source": [
    "## (4) Implement K-nearest neighbor (KNN) search using LSH and compare its performance with linear search."
   ]
  },
  {
   "cell_type": "code",
   "execution_count": 327,
   "metadata": {
    "ExecuteTime": {
     "end_time": "2018-05-02T09:59:30.870528Z",
     "start_time": "2018-05-02T09:59:30.866697Z"
    }
   },
   "outputs": [
    {
     "data": {
      "text/plain": [
       "(100, 925)"
      ]
     },
     "execution_count": 327,
     "metadata": {},
     "output_type": "execute_result"
    }
   ],
   "source": [
    "singnature.shape"
   ]
  },
  {
   "cell_type": "code",
   "execution_count": 328,
   "metadata": {
    "ExecuteTime": {
     "end_time": "2018-05-02T09:59:30.885045Z",
     "start_time": "2018-05-02T09:59:30.876806Z"
    }
   },
   "outputs": [],
   "source": [
    "class LSH_Knn:\n",
    "    def __init__(self, singnature, n_hyper=10, k=3):\n",
    "        # self._candidates = candidates\n",
    "        self._singnature = singnature.T\n",
    "        self.n_hyper = n_hyper\n",
    "        self.hyper_planes = np.random.randn(self.n_hyper, \n",
    "                                            self._singnature.shape[1])\n",
    "        self.regions = self.get_regions(self._singnature)\n",
    "        self.k = k\n",
    "        \n",
    "    def get_regions(self, singnature):\n",
    "        return (singnature.dot(self.hyper_planes.T) > 0).astype('int')\n",
    "    \n",
    "    def get_distance(self, s1, s2):\n",
    "        intersection = np.logical_and(s1, s2)\n",
    "        union = np.logical_or(s1, s2)\n",
    "        return intersection.sum() / float(union.sum())\n",
    "    \n",
    "    def _get_nn(self, singnature, candidates_idx):\n",
    "        s2 = singnature\n",
    "        temp_candidates_sing = self._singnature[candidates_idx, :]\n",
    "        #print(temp_candidates_sing.shape)\n",
    "        dis = np.apply_along_axis(lambda s1, s2: self.get_distance(s1, s2), \n",
    "                            1, \n",
    "                            temp_candidates_sing,\n",
    "                            s2=s2)\n",
    "        #print(dis)\n",
    "        idx_of_idx = np.argsort(dis)[:self.k]\n",
    "        # print(candidates_idx[idx_of_idx])\n",
    "        return candidates_idx[idx_of_idx]\n",
    "    \n",
    "    def _predict(self, singnature):\n",
    "        r = self.get_regions(singnature)\n",
    "        nn = np.all(r == self.regions, axis=1).astype('int')\n",
    "        candidates_idx = np.argwhere(nn==1).reshape(-1,)\n",
    "        return self._get_nn(singnature, candidates_idx)"
   ]
  },
  {
   "cell_type": "code",
   "execution_count": 329,
   "metadata": {
    "ExecuteTime": {
     "end_time": "2018-05-02T09:59:30.891342Z",
     "start_time": "2018-05-02T09:59:30.887355Z"
    }
   },
   "outputs": [],
   "source": [
    "model = LSH_Knn(singnature)"
   ]
  },
  {
   "cell_type": "code",
   "execution_count": 330,
   "metadata": {
    "ExecuteTime": {
     "end_time": "2018-05-02T09:59:30.897318Z",
     "start_time": "2018-05-02T09:59:30.893615Z"
    }
   },
   "outputs": [],
   "source": [
    "N = singnature.T.shape[0]//10"
   ]
  },
  {
   "cell_type": "code",
   "execution_count": 331,
   "metadata": {
    "ExecuteTime": {
     "end_time": "2018-05-02T09:59:30.945210Z",
     "start_time": "2018-05-02T09:59:30.899720Z"
    }
   },
   "outputs": [
    {
     "data": {
      "text/plain": [
       "'[LSH Knn] cost 0.041 second in 92 test data.'"
      ]
     },
     "execution_count": 331,
     "metadata": {},
     "output_type": "execute_result"
    }
   ],
   "source": [
    "task4_output = ''\n",
    "t1 = time.time()\n",
    "for i in range(N):\n",
    "    idx = model._predict(singnature.T[i])\n",
    "task4_output += ('[LSH Knn] cost {:.3f} second in {} test data.'\n",
    "                 .format(time.time()-t1, N))\n",
    "task4_output"
   ]
  },
  {
   "cell_type": "code",
   "execution_count": 332,
   "metadata": {
    "ExecuteTime": {
     "end_time": "2018-05-02T09:59:30.953437Z",
     "start_time": "2018-05-02T09:59:30.947262Z"
    }
   },
   "outputs": [],
   "source": [
    "class MyKNeighborsClassifier:\n",
    "    \n",
    "    def __init__(self, n_neighbors=3, **kwargs):\n",
    "        self._k = n_neighbors\n",
    "        self._X = self._y = None\n",
    "        self.set_params(**kwargs)\n",
    "            \n",
    "    def get_params(self, deep=True):\n",
    "        # suppose this estimator has parameters \"alpha\" and \"recursive\"\n",
    "        return self.__dict__\n",
    "\n",
    "    def set_params(self, **parameters):\n",
    "        for parameter, value in parameters.items():\n",
    "            setattr(self, parameter, value)\n",
    "        return self\n",
    "    \n",
    "    def fit(self, X):\n",
    "        self._X = X.copy()\n",
    "        # self._y = y.copy()\n",
    "        \n",
    "    def get_distance(self, s1, s2):\n",
    "        intersection = np.logical_and(s1, s2)\n",
    "        union = np.logical_or(s1, s2)\n",
    "        return intersection.sum() / float(union.sum())\n",
    "    \n",
    "    def _predict(self, x):\n",
    "        distances = np.apply_along_axis(lambda x1: get_distance(x, x1), \n",
    "                                        1, self._X)\n",
    "        X_candidates = np.argsort(distances)[:self._k]\n",
    "        # y_candidates = self._y[X_candidates]\n",
    "        return X_candidates\n",
    "    \n",
    "    def predict(self, X):\n",
    "        return np.apply_along_axis(lambda x: self._predict(x), 1, X)"
   ]
  },
  {
   "cell_type": "code",
   "execution_count": 333,
   "metadata": {
    "ExecuteTime": {
     "end_time": "2018-05-02T09:59:30.959696Z",
     "start_time": "2018-05-02T09:59:30.956075Z"
    }
   },
   "outputs": [],
   "source": [
    "model = MyKNeighborsClassifier()\n",
    "model.fit(singnature.T)"
   ]
  },
  {
   "cell_type": "code",
   "execution_count": 334,
   "metadata": {
    "ExecuteTime": {
     "end_time": "2018-05-02T09:59:32.358452Z",
     "start_time": "2018-05-02T09:59:30.962245Z"
    }
   },
   "outputs": [
    {
     "name": "stdout",
     "output_type": "stream",
     "text": [
      "[LSH Knn] cost 0.041 second in 92 test data.\n",
      "[Linear search Knn] cost 1.392 second in 92 test data.\n"
     ]
    }
   ],
   "source": [
    "t2 = time.time()\n",
    "for i in range(N):\n",
    "    idx = model._predict(singnature.T[i])\n",
    "task4_output += ('\\n[Linear search Knn] cost {:.3f} second in {} test data.'\n",
    "                 .format(time.time()-t2, N))\n",
    "\n",
    "print(task4_output)"
   ]
  },
  {
   "cell_type": "code",
   "execution_count": 335,
   "metadata": {
    "ExecuteTime": {
     "end_time": "2018-05-02T09:59:32.364155Z",
     "start_time": "2018-05-02T09:59:32.360428Z"
    }
   },
   "outputs": [],
   "source": [
    "with open('result/task4.txt', 'w') as f:\n",
    "    f.write(task4_output)"
   ]
  },
  {
   "cell_type": "code",
   "execution_count": 336,
   "metadata": {
    "ExecuteTime": {
     "end_time": "2018-05-02T09:59:32.370929Z",
     "start_time": "2018-05-02T09:59:32.366611Z"
    }
   },
   "outputs": [
    {
     "name": "stdout",
     "output_type": "stream",
     "text": [
      "cost:149.393 min\n"
     ]
    }
   ],
   "source": [
    "print('cost:{:.3f} min'.format((time.time()-t0)/60))"
   ]
  }
 ],
 "metadata": {
  "kernelspec": {
   "display_name": "Python 3",
   "language": "python",
   "name": "python3"
  },
  "language_info": {
   "codemirror_mode": {
    "name": "ipython",
    "version": 3
   },
   "file_extension": ".py",
   "mimetype": "text/x-python",
   "name": "python",
   "nbconvert_exporter": "python",
   "pygments_lexer": "ipython3",
   "version": "3.6.5"
  },
  "latex_envs": {
   "LaTeX_envs_menu_present": true,
   "autoclose": false,
   "autocomplete": true,
   "bibliofile": "biblio.bib",
   "cite_by": "apalike",
   "current_citInitial": 1,
   "eqLabelWithNumbers": true,
   "eqNumInitial": 1,
   "hotkeys": {
    "equation": "Ctrl-E",
    "itemize": "Ctrl-I"
   },
   "labels_anchors": false,
   "latex_user_defs": false,
   "report_style_numbering": false,
   "user_envs_cfg": false
  },
  "toc": {
   "nav_menu": {},
   "number_sections": false,
   "sideBar": true,
   "skip_h1_title": false,
   "title_cell": "Table of Contents",
   "title_sidebar": "Contents",
   "toc_cell": false,
   "toc_position": {},
   "toc_section_display": true,
   "toc_window_display": false
  },
  "varInspector": {
   "cols": {
    "lenName": 16,
    "lenType": 16,
    "lenVar": 40
   },
   "kernels_config": {
    "python": {
     "delete_cmd_postfix": "",
     "delete_cmd_prefix": "del ",
     "library": "var_list.py",
     "varRefreshCmd": "print(var_dic_list())"
    },
    "r": {
     "delete_cmd_postfix": ") ",
     "delete_cmd_prefix": "rm(",
     "library": "var_list.r",
     "varRefreshCmd": "cat(var_dic_list()) "
    }
   },
   "types_to_exclude": [
    "module",
    "function",
    "builtin_function_or_method",
    "instance",
    "_Feature"
   ],
   "window_display": false
  }
 },
 "nbformat": 4,
 "nbformat_minor": 2
}
