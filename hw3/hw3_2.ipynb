{
 "cells": [
  {
   "cell_type": "markdown",
   "metadata": {},
   "source": [
    "# 103590450 馬茂源 四資四"
   ]
  },
  {
   "cell_type": "code",
   "execution_count": 206,
   "metadata": {
    "ExecuteTime": {
     "end_time": "2018-04-26T05:20:13.290674Z",
     "start_time": "2018-04-26T05:20:13.285660Z"
    }
   },
   "outputs": [],
   "source": [
    "import pandas as pd\n",
    "import numpy as np\n",
    "import time\n",
    "import os\n",
    "import sys\n",
    "import string\n",
    "import html\n",
    "import hashlib\n",
    "from collections import defaultdict"
   ]
  },
  {
   "cell_type": "code",
   "execution_count": 207,
   "metadata": {
    "ExecuteTime": {
     "end_time": "2018-04-26T05:20:13.297692Z",
     "start_time": "2018-04-26T05:20:13.291676Z"
    }
   },
   "outputs": [],
   "source": [
    "t0 = time.time()"
   ]
  },
  {
   "cell_type": "code",
   "execution_count": 208,
   "metadata": {
    "ExecuteTime": {
     "end_time": "2018-04-26T05:20:13.303709Z",
     "start_time": "2018-04-26T05:20:13.298695Z"
    }
   },
   "outputs": [],
   "source": [
    "if not os.path.exists('result'):\n",
    "    os.mkdir('result')\n",
    "for i in range(1, 5):\n",
    "    dir_ = 'result/task{}'.format(i)\n",
    "    if not os.path.exists(dir_):\n",
    "        os.mkdir(dir_)"
   ]
  },
  {
   "cell_type": "code",
   "execution_count": 209,
   "metadata": {
    "ExecuteTime": {
     "end_time": "2018-04-26T05:20:13.309724Z",
     "start_time": "2018-04-26T05:20:13.304712Z"
    }
   },
   "outputs": [],
   "source": [
    "file_names = ['./data/reut2-{0:0>3}.sgm'.format(i) for i in range(22)]\n",
    "file_names = [file_names[0]]"
   ]
  },
  {
   "cell_type": "markdown",
   "metadata": {},
   "source": [
    "## (1) Given the Reuters-21578 dataset, please calculate all kshingles and output the set representation of the text dataset as a matrix. "
   ]
  },
  {
   "cell_type": "code",
   "execution_count": 210,
   "metadata": {
    "ExecuteTime": {
     "end_time": "2018-04-26T05:20:13.331784Z",
     "start_time": "2018-04-26T05:20:13.324765Z"
    }
   },
   "outputs": [],
   "source": [
    "def parser(file_name):\n",
    "    with open(file_name, 'r', encoding='ISO-8859-1') as f:\n",
    "        file = f.read()\n",
    "    news = []\n",
    "    start = 0\n",
    "    for i in range(len(file)):\n",
    "        if file[i:i+6] == '<BODY>':\n",
    "            start = i+6\n",
    "        elif file[i:i+7] == '</BODY>':\n",
    "            n = file[start:i].replace('\\n', ' ')\n",
    "            n = n.replace('REUTER &#3;', '')\n",
    "            news.append(n)\n",
    "    return news"
   ]
  },
  {
   "cell_type": "code",
   "execution_count": 211,
   "metadata": {
    "ExecuteTime": {
     "end_time": "2018-04-26T05:20:13.584455Z",
     "start_time": "2018-04-26T05:20:13.332786Z"
    }
   },
   "outputs": [],
   "source": [
    "news = []\n",
    "for i in file_names:\n",
    "    each_news = parser(i) \n",
    "    news.extend(each_news)"
   ]
  },
  {
   "cell_type": "code",
   "execution_count": 212,
   "metadata": {
    "ExecuteTime": {
     "end_time": "2018-04-26T05:20:13.588467Z",
     "start_time": "2018-04-26T05:20:13.585458Z"
    }
   },
   "outputs": [
    {
     "data": {
      "text/plain": [
       "925"
      ]
     },
     "execution_count": 212,
     "metadata": {},
     "output_type": "execute_result"
    }
   ],
   "source": [
    "len(news)"
   ]
  },
  {
   "cell_type": "code",
   "execution_count": 213,
   "metadata": {
    "ExecuteTime": {
     "end_time": "2018-04-26T05:20:13.595485Z",
     "start_time": "2018-04-26T05:20:13.589469Z"
    }
   },
   "outputs": [],
   "source": [
    "news_data = pd.DataFrame(data=news, columns=['news'])"
   ]
  },
  {
   "cell_type": "code",
   "execution_count": 214,
   "metadata": {
    "ExecuteTime": {
     "end_time": "2018-04-26T05:20:13.603506Z",
     "start_time": "2018-04-26T05:20:13.596488Z"
    }
   },
   "outputs": [
    {
     "data": {
      "text/html": [
       "<div>\n",
       "<style scoped>\n",
       "    .dataframe tbody tr th:only-of-type {\n",
       "        vertical-align: middle;\n",
       "    }\n",
       "\n",
       "    .dataframe tbody tr th {\n",
       "        vertical-align: top;\n",
       "    }\n",
       "\n",
       "    .dataframe thead th {\n",
       "        text-align: right;\n",
       "    }\n",
       "</style>\n",
       "<table border=\"1\" class=\"dataframe\">\n",
       "  <thead>\n",
       "    <tr style=\"text-align: right;\">\n",
       "      <th></th>\n",
       "      <th>news</th>\n",
       "    </tr>\n",
       "  </thead>\n",
       "  <tbody>\n",
       "    <tr>\n",
       "      <th>0</th>\n",
       "      <td>Showers continued throughout the week in the B...</td>\n",
       "    </tr>\n",
       "    <tr>\n",
       "      <th>1</th>\n",
       "      <td>Standard Oil Co and BP North America Inc said ...</td>\n",
       "    </tr>\n",
       "    <tr>\n",
       "      <th>2</th>\n",
       "      <td>Texas Commerce Bancshares Inc's Texas Commerce...</td>\n",
       "    </tr>\n",
       "    <tr>\n",
       "      <th>3</th>\n",
       "      <td>BankAmerica Corp is not under pressure to act ...</td>\n",
       "    </tr>\n",
       "    <tr>\n",
       "      <th>4</th>\n",
       "      <td>The U.S. Agriculture Department reported the f...</td>\n",
       "    </tr>\n",
       "  </tbody>\n",
       "</table>\n",
       "</div>"
      ],
      "text/plain": [
       "                                                news\n",
       "0  Showers continued throughout the week in the B...\n",
       "1  Standard Oil Co and BP North America Inc said ...\n",
       "2  Texas Commerce Bancshares Inc's Texas Commerce...\n",
       "3  BankAmerica Corp is not under pressure to act ...\n",
       "4  The U.S. Agriculture Department reported the f..."
      ]
     },
     "execution_count": 214,
     "metadata": {},
     "output_type": "execute_result"
    }
   ],
   "source": [
    "news_data.head()"
   ]
  },
  {
   "cell_type": "code",
   "execution_count": 215,
   "metadata": {
    "ExecuteTime": {
     "end_time": "2018-04-26T05:20:13.612531Z",
     "start_time": "2018-04-26T05:20:13.604509Z"
    }
   },
   "outputs": [],
   "source": [
    "def tokenizer(text):\n",
    "    strip_chars = ' –…' + string.punctuation\n",
    "    result = []\n",
    "    for token in html.unescape(str(text)).split():\n",
    "        token = token.lower()\n",
    "        token = token.strip(strip_chars)\n",
    "        if not token.isalpha():\n",
    "            continue\n",
    "        length = len(token)\n",
    "        if length < 1 or length > 26:\n",
    "            continue\n",
    "        result.append(token)\n",
    "    return result"
   ]
  },
  {
   "cell_type": "code",
   "execution_count": 216,
   "metadata": {
    "ExecuteTime": {
     "end_time": "2018-04-26T05:20:13.684722Z",
     "start_time": "2018-04-26T05:20:13.613534Z"
    }
   },
   "outputs": [],
   "source": [
    "news_data['news_token'] = news_data.apply(lambda x: tokenizer(x['news']), axis=1)"
   ]
  },
  {
   "cell_type": "code",
   "execution_count": 217,
   "metadata": {
    "ExecuteTime": {
     "end_time": "2018-04-26T05:20:13.689736Z",
     "start_time": "2018-04-26T05:20:13.685725Z"
    }
   },
   "outputs": [],
   "source": [
    "def k_shingle(text, k):\n",
    "    string = ' '.join(tokenizer(text))\n",
    "    shingles = set([])\n",
    "    for i in range(len(string)-k + 1):\n",
    "        shingles.add(string[i:i+k])\n",
    "    return shingles"
   ]
  },
  {
   "cell_type": "code",
   "execution_count": 218,
   "metadata": {
    "ExecuteTime": {
     "end_time": "2018-04-26T05:20:13.890269Z",
     "start_time": "2018-04-26T05:20:13.690739Z"
    }
   },
   "outputs": [],
   "source": [
    "news_data['news_token'] = news_data.apply(lambda x: k_shingle(x['news_token'], 5), axis=1)"
   ]
  },
  {
   "cell_type": "code",
   "execution_count": 219,
   "metadata": {
    "ExecuteTime": {
     "end_time": "2018-04-26T05:20:13.918344Z",
     "start_time": "2018-04-26T05:20:13.890269Z"
    },
    "scrolled": true
   },
   "outputs": [],
   "source": [
    "shingles = set([])\n",
    "for s in news_data['news_token'].values:\n",
    "    shingles |= s"
   ]
  },
  {
   "cell_type": "code",
   "execution_count": 220,
   "metadata": {
    "ExecuteTime": {
     "end_time": "2018-04-26T05:20:13.924360Z",
     "start_time": "2018-04-26T05:20:13.919347Z"
    }
   },
   "outputs": [
    {
     "data": {
      "text/plain": [
       "60332"
      ]
     },
     "execution_count": 220,
     "metadata": {},
     "output_type": "execute_result"
    }
   ],
   "source": [
    "N = len(shingles)\n",
    "N"
   ]
  },
  {
   "cell_type": "code",
   "execution_count": 221,
   "metadata": {
    "ExecuteTime": {
     "end_time": "2018-04-26T05:20:13.929374Z",
     "start_time": "2018-04-26T05:20:13.925364Z"
    }
   },
   "outputs": [],
   "source": [
    "def encode_shingles(row, shingles):\n",
    "    vector = np.zeros(len(shingles), dtype='int')\n",
    "    for shingle, idx in zip(shingles, range(len(shingles))):\n",
    "        if shingle in row:\n",
    "            vector[idx] = 1\n",
    "    return vector"
   ]
  },
  {
   "cell_type": "code",
   "execution_count": 222,
   "metadata": {
    "ExecuteTime": {
     "end_time": "2018-04-26T05:20:18.445569Z",
     "start_time": "2018-04-26T05:20:13.930377Z"
    }
   },
   "outputs": [],
   "source": [
    "news_data['shingles'] = news_data['news_token'].apply(encode_shingles, args=(shingles,))"
   ]
  },
  {
   "cell_type": "code",
   "execution_count": 223,
   "metadata": {
    "ExecuteTime": {
     "end_time": "2018-04-26T05:20:18.596019Z",
     "start_time": "2018-04-26T05:20:18.445569Z"
    }
   },
   "outputs": [],
   "source": [
    "output_shingles = np.array(news_data['shingles'].tolist()).T.astype('int')"
   ]
  },
  {
   "cell_type": "code",
   "execution_count": 224,
   "metadata": {
    "ExecuteTime": {
     "end_time": "2018-04-26T05:20:18.598025Z",
     "start_time": "2018-04-26T05:20:18.596019Z"
    }
   },
   "outputs": [],
   "source": [
    "#np.savetxt(\"task_1.csv\", output_shingles, delimiter=\",\",  fmt='%d')"
   ]
  },
  {
   "cell_type": "markdown",
   "metadata": {},
   "source": [
    "## (2) Given the set representation, compute the minhash signatures of all documents using MapReduce."
   ]
  },
  {
   "cell_type": "code",
   "execution_count": 225,
   "metadata": {
    "ExecuteTime": {
     "end_time": "2018-04-26T05:20:18.626099Z",
     "start_time": "2018-04-26T05:20:18.599029Z"
    }
   },
   "outputs": [],
   "source": [
    "news_shingles = output_shingles"
   ]
  },
  {
   "cell_type": "code",
   "execution_count": 226,
   "metadata": {
    "ExecuteTime": {
     "end_time": "2018-04-26T05:20:18.634121Z",
     "start_time": "2018-04-26T05:20:18.627102Z"
    }
   },
   "outputs": [],
   "source": [
    "def get_prime(greater_than):\n",
    "    \n",
    "    def is_prime(n):\n",
    "        if n % 2 == 0 and n > 2: \n",
    "            return False\n",
    "        return all(n % i for i in range(3, int(np.sqrt(n)) + 1, 2))\n",
    "    is_p = False\n",
    "    \n",
    "    \n",
    "    \n",
    "    while not is_p:\n",
    "        greater_than += 1\n",
    "        is_p = is_prime(greater_than)\n",
    "        \n",
    "    return greater_than"
   ]
  },
  {
   "cell_type": "code",
   "execution_count": 227,
   "metadata": {
    "ExecuteTime": {
     "end_time": "2018-04-26T05:20:18.640137Z",
     "start_time": "2018-04-26T05:20:18.635124Z"
    }
   },
   "outputs": [],
   "source": [
    "def get_hash_func_list(n, k=100):\n",
    "    p = get_prime(n)\n",
    "    func_list = []\n",
    "    for a, b in zip(np.random.randint(0, n, size=k),\n",
    "                   np.random.randint(0, n, size=k)):\n",
    "        func_list.append(lambda x, a=a,b=b,p=p,n=n: ((a*x+b)%p)%n)\n",
    "    return np.array(func_list)"
   ]
  },
  {
   "cell_type": "code",
   "execution_count": 228,
   "metadata": {
    "ExecuteTime": {
     "end_time": "2018-04-26T05:20:18.660190Z",
     "start_time": "2018-04-26T05:20:18.641140Z"
    }
   },
   "outputs": [],
   "source": [
    "def one_pass_minhashing(shingles, k=100):\n",
    "    n = shingles.shape[0]\n",
    "    hash_list = get_hash_func_list(n, k=k)\n",
    "    singnature = np.full((k, shingles.shape[1]), fill_value=np.inf)\n",
    "    \n",
    "    for i in range(n):\n",
    "        hash_value = np.array([h(i) for h in hash_list])\n",
    "\n",
    "        for j, c in enumerate(shingles[i, :] == 1):\n",
    "            if c:\n",
    "                mask = singnature[:, j] > hash_value\n",
    "                singnature[:, j][mask] = hash_value[mask]\n",
    "            \n",
    "    return singnature"
   ]
  },
  {
   "cell_type": "code",
   "execution_count": 229,
   "metadata": {
    "ExecuteTime": {
     "end_time": "2018-04-26T05:20:18.667209Z",
     "start_time": "2018-04-26T05:20:18.661193Z"
    }
   },
   "outputs": [
    {
     "data": {
      "text/plain": [
       "array([[0, 1, 0, 1],\n",
       "       [2, 0, 2, 0],\n",
       "       [1, 0, 1, 0],\n",
       "       [0, 1, 0, 1],\n",
       "       [0, 3, 2, 0],\n",
       "       [0, 2, 0, 2]])"
      ]
     },
     "execution_count": 229,
     "metadata": {},
     "output_type": "execute_result"
    }
   ],
   "source": [
    "test_input = np.array([[1,0,1,0],\n",
    "                       [1,0,0,1],\n",
    "                       [0,1,0,1],\n",
    "                       [0,1,0,1],\n",
    "                       [0,1,0,1],\n",
    "                       [1,0,1,0],\n",
    "                       [1,0,1,0]])\n",
    "test_singnature = one_pass_minhashing(test_input, k=6)\n",
    "test_singnature.astype('int')"
   ]
  },
  {
   "cell_type": "code",
   "execution_count": 230,
   "metadata": {
    "ExecuteTime": {
     "end_time": "2018-04-26T05:20:18.673226Z",
     "start_time": "2018-04-26T05:20:18.668211Z"
    }
   },
   "outputs": [],
   "source": [
    " #np.unique((minhashing[:, 0] - minhashing[:, 2]) == 0, return_counts=True)"
   ]
  },
  {
   "cell_type": "code",
   "execution_count": 231,
   "metadata": {
    "ExecuteTime": {
     "end_time": "2018-04-26T05:20:25.600201Z",
     "start_time": "2018-04-26T05:20:18.674228Z"
    }
   },
   "outputs": [
    {
     "name": "stderr",
     "output_type": "stream",
     "text": [
      "c:\\python36\\lib\\site-packages\\ipykernel_launcher.py:6: RuntimeWarning: overflow encountered in long_scalars\n",
      "  \n"
     ]
    }
   ],
   "source": [
    "singnature = one_pass_minhashing(news_shingles, k=100)"
   ]
  },
  {
   "cell_type": "code",
   "execution_count": 232,
   "metadata": {
    "ExecuteTime": {
     "end_time": "2018-04-26T05:20:25.602946Z",
     "start_time": "2018-04-26T05:20:25.600201Z"
    }
   },
   "outputs": [
    {
     "data": {
      "text/plain": [
       "(100, 925)"
      ]
     },
     "execution_count": 232,
     "metadata": {},
     "output_type": "execute_result"
    }
   ],
   "source": [
    "singnature.shape"
   ]
  },
  {
   "cell_type": "code",
   "execution_count": 233,
   "metadata": {
    "ExecuteTime": {
     "end_time": "2018-04-26T05:20:25.626006Z",
     "start_time": "2018-04-26T05:20:25.603949Z"
    }
   },
   "outputs": [],
   "source": [
    "#np.savetxt(\"task_2.csv\", singnature, delimiter=\",\",  fmt='%d')"
   ]
  },
  {
   "cell_type": "markdown",
   "metadata": {},
   "source": [
    "## (3) Implement the LSH algorithm by MapReduce and output the resulting candidate pairs of similar documents."
   ]
  },
  {
   "cell_type": "code",
   "execution_count": 253,
   "metadata": {
    "ExecuteTime": {
     "end_time": "2018-04-26T05:24:27.542268Z",
     "start_time": "2018-04-26T05:24:27.539260Z"
    }
   },
   "outputs": [
    {
     "data": {
      "text/plain": [
       "128"
      ]
     },
     "execution_count": 253,
     "metadata": {},
     "output_type": "execute_result"
    }
   ],
   "source": [
    "hashlib.sha512().block_size"
   ]
  },
  {
   "cell_type": "code",
   "execution_count": 250,
   "metadata": {
    "ExecuteTime": {
     "end_time": "2018-04-26T05:23:39.436009Z",
     "start_time": "2018-04-26T05:23:39.429992Z"
    }
   },
   "outputs": [],
   "source": [
    "def LSH(singnature, b=2):\n",
    "    bucket = defaultdict(list)\n",
    "    k = singnature.shape[0]\n",
    "    for i, doc in enumerate(singnature.T):\n",
    "        x = np.array2string(doc.astype('int'), separator='', precision=0)\n",
    "        for j in range(0, k, b):\n",
    "            #print(j, j+b)\n",
    "            key = hashlib.sha512(x[j:j+b].encode()).hexdigest()\n",
    "            bucket[key].append(i)\n",
    "    return bucket"
   ]
  },
  {
   "cell_type": "code",
   "execution_count": 235,
   "metadata": {
    "ExecuteTime": {
     "end_time": "2018-04-26T05:20:25.639042Z",
     "start_time": "2018-04-26T05:20:25.634029Z"
    }
   },
   "outputs": [],
   "source": [
    "def remove_alone(bucket):\n",
    "    remove_list = []\n",
    "    for k, item in bucket.items():\n",
    "        if len(item) == 1:\n",
    "            remove_list.append(k)\n",
    "    for k in remove_list:\n",
    "        bucket.pop(k)\n",
    "    return bucket"
   ]
  },
  {
   "cell_type": "code",
   "execution_count": 236,
   "metadata": {
    "ExecuteTime": {
     "end_time": "2018-04-26T05:20:25.646060Z",
     "start_time": "2018-04-26T05:20:25.640045Z"
    }
   },
   "outputs": [],
   "source": [
    "# bucket = LSH(test_singnature, b=2)\n",
    "# bucket"
   ]
  },
  {
   "cell_type": "code",
   "execution_count": 254,
   "metadata": {
    "ExecuteTime": {
     "end_time": "2018-04-26T05:24:31.431593Z",
     "start_time": "2018-04-26T05:24:31.126073Z"
    },
    "scrolled": true
   },
   "outputs": [
    {
     "name": "stdout",
     "output_type": "stream",
     "text": [
      "2889\n"
     ]
    }
   ],
   "source": [
    "bucket = LSH(singnature, b=5)\n",
    "bucket = remove_alone(bucket)\n",
    "print(len(bucket))"
   ]
  },
  {
   "cell_type": "code",
   "execution_count": 257,
   "metadata": {
    "ExecuteTime": {
     "end_time": "2018-04-26T05:26:11.005350Z",
     "start_time": "2018-04-26T05:26:11.001339Z"
    }
   },
   "outputs": [],
   "source": [
    "for k, item in bucket.items():\n",
    "    if len(item) == 2:\n",
    "        #print(item)\n",
    "        pass"
   ]
  },
  {
   "cell_type": "code",
   "execution_count": 245,
   "metadata": {
    "ExecuteTime": {
     "end_time": "2018-04-26T05:22:41.231850Z",
     "start_time": "2018-04-26T05:22:41.228842Z"
    },
    "scrolled": true
   },
   "outputs": [
    {
     "data": {
      "text/plain": [
       "'Sens. Alan Cranston (D-Cal.) and Daniel Evans (R-Wash.) said they introduced export licensing reform legislation that could save U.S. companies hundreds of thousands of dollars annually.     \"Our emphasis is two-fold: Decontrol and de-license items where such actions will not endanger our national security, and eliminate the Department of Defense\\'s de facto veto authority over the licensing process,\" Cranston said.     \"Our reforms should reduce licensing requirements by 65  to 70 pct,\" he told reporters. \"I am convinced that a more rational...licensing process will boost exports.\"     U.S. export controls are intended to deny Eastern bloc countries access to technology that could further their military capabilities.     \"By refocusing our control resources on higher levels of technology, technology that is truly critical, we will do a better job of preventing diversion of critical technology to our adversaries while promoting more exports,\" Cranston said.     \"We cannot expect to continue to play a leading role in new technology development in the future if we unduly restrict the activities of U.S. firms in the world market-place,\" Evans told reporters.  Reuter &#3;'"
      ]
     },
     "execution_count": 245,
     "metadata": {},
     "output_type": "execute_result"
    }
   ],
   "source": [
    "news_data.loc[29]['news']"
   ]
  },
  {
   "cell_type": "code",
   "execution_count": 246,
   "metadata": {
    "ExecuteTime": {
     "end_time": "2018-04-26T05:22:42.488874Z",
     "start_time": "2018-04-26T05:22:42.486868Z"
    }
   },
   "outputs": [
    {
     "data": {
      "text/plain": [
       "'Sens. Alan Cranston (D-Cal.) and Daniel Evans (R-Wash.) said they introduced export licensing reform legislation that could save U.S. companies hundreds of thousands of dollars annually.     \"Our emphasis is two-fold: Decontrol and de-license items where such actions will not endanger our national security, and eliminate the Department of Defense\\'s de facto veto authority over the licensing process,\" Cranston said.     \"Our reforms should reduce licensing requirements by 65  to 70 pct,\" he told reporters. \"I am convinced that a more rational...licensing process will boost exports.\"     U.S. export controls are intended to deny Eastern bloc countries access to technology that could further their military capabilities.     \"By refocusing our control resources on higher levels of technology, technology that is truly critical, we will do a better job of preventing diversion of critical technology to our adversaries while promoting more exports,\" Cranston said.     \"We cannot expect to continue to play a leading role in new technology development in the future if we unduly restrict the activities of U.S. firms in the world market-place,\" Evans told reporters.  Reuter &#3;'"
      ]
     },
     "execution_count": 246,
     "metadata": {},
     "output_type": "execute_result"
    }
   ],
   "source": [
    "news_data.loc[52]['news']"
   ]
  },
  {
   "cell_type": "markdown",
   "metadata": {},
   "source": [
    "## (4) Implement K-nearest neighbor (KNN) search using LSH and compare its performance with linear search."
   ]
  },
  {
   "cell_type": "code",
   "execution_count": null,
   "metadata": {},
   "outputs": [],
   "source": []
  }
 ],
 "metadata": {
  "kernelspec": {
   "display_name": "Python 3",
   "language": "python",
   "name": "python3"
  },
  "language_info": {
   "codemirror_mode": {
    "name": "ipython",
    "version": 3
   },
   "file_extension": ".py",
   "mimetype": "text/x-python",
   "name": "python",
   "nbconvert_exporter": "python",
   "pygments_lexer": "ipython3",
   "version": "3.6.4"
  },
  "latex_envs": {
   "LaTeX_envs_menu_present": true,
   "autoclose": false,
   "autocomplete": true,
   "bibliofile": "biblio.bib",
   "cite_by": "apalike",
   "current_citInitial": 1,
   "eqLabelWithNumbers": true,
   "eqNumInitial": 1,
   "hotkeys": {
    "equation": "Ctrl-E",
    "itemize": "Ctrl-I"
   },
   "labels_anchors": false,
   "latex_user_defs": false,
   "report_style_numbering": false,
   "user_envs_cfg": false
  },
  "toc": {
   "nav_menu": {},
   "number_sections": false,
   "sideBar": true,
   "skip_h1_title": false,
   "title_cell": "Table of Contents",
   "title_sidebar": "Contents",
   "toc_cell": false,
   "toc_position": {},
   "toc_section_display": true,
   "toc_window_display": false
  }
 },
 "nbformat": 4,
 "nbformat_minor": 2
}
