{
 "cells": [
  {
   "cell_type": "code",
   "execution_count": 1,
   "metadata": {
    "ExecuteTime": {
     "end_time": "2018-04-21T05:07:56.132139Z",
     "start_time": "2018-04-21T05:07:55.469640Z"
    }
   },
   "outputs": [],
   "source": [
    "from pyspark import SparkConf, SparkContext, SQLContext\n",
    "from pyspark.sql.utils import AnalysisException\n",
    "from pyspark.ml.feature import RegexTokenizer\n",
    "from pyspark.sql.functions import udf, mean\n",
    "from pyspark.sql.types import StringType, StructType, StructField, FloatType\n",
    "import pandas as pd\n",
    "import numpy as np\n",
    "import os, math, time\n",
    "import itertools\n",
    "import csv, sys"
   ]
  },
  {
   "cell_type": "code",
   "execution_count": 2,
   "metadata": {
    "ExecuteTime": {
     "end_time": "2018-04-21T05:07:56.137988Z",
     "start_time": "2018-04-21T05:07:56.134283Z"
    }
   },
   "outputs": [],
   "source": [
    "SAVE = True\n",
    "file  = open('result.txt', 'w', encoding='utf-8', newline='\\n') if SAVE  else sys.stdout"
   ]
  },
  {
   "cell_type": "code",
   "execution_count": 3,
   "metadata": {
    "ExecuteTime": {
     "end_time": "2018-04-21T05:07:56.142262Z",
     "start_time": "2018-04-21T05:07:56.139782Z"
    }
   },
   "outputs": [],
   "source": [
    "t0 = time.time()"
   ]
  },
  {
   "cell_type": "code",
   "execution_count": 4,
   "metadata": {
    "ExecuteTime": {
     "end_time": "2018-04-21T05:07:56.147865Z",
     "start_time": "2018-04-21T05:07:56.144328Z"
    }
   },
   "outputs": [],
   "source": [
    "conf = (SparkConf()\n",
    "        #.setMaster('spark://10.100.5.182:7077')\n",
    "        #.setMaster(\"local[4]\")\n",
    "        #.set(\"spark.executor.memory\", \"6g\")\n",
    "        .setAppName(\"quiz\"))"
   ]
  },
  {
   "cell_type": "code",
   "execution_count": 5,
   "metadata": {
    "ExecuteTime": {
     "end_time": "2018-04-21T05:07:58.874507Z",
     "start_time": "2018-04-21T05:07:56.151020Z"
    }
   },
   "outputs": [],
   "source": [
    "try:\n",
    "    sc = SparkContext(conf=conf)\n",
    "    sql_sc = SQLContext(sc)\n",
    "except ValueError:\n",
    "    pass"
   ]
  },
  {
   "cell_type": "code",
   "execution_count": 6,
   "metadata": {
    "ExecuteTime": {
     "end_time": "2018-04-21T05:07:58.882755Z",
     "start_time": "2018-04-21T05:07:58.877227Z"
    }
   },
   "outputs": [],
   "source": [
    "def read_csv(file_name):\n",
    "    try:\n",
    "        data = sql_sc.read.csv(file_name, \n",
    "                       sep=',', \n",
    "                       header=False, \n",
    "                       mode='DROPMALFORMED')\n",
    "    except AnalysisException:\n",
    "        data = sql_sc.read.csv('hdfs:///bdm/quiz/{}'.format(file_name), \n",
    "                       sep=',', \n",
    "                       header=False, \n",
    "                       mode='DROPMALFORMED')\n",
    "    return data"
   ]
  },
  {
   "cell_type": "code",
   "execution_count": 7,
   "metadata": {
    "ExecuteTime": {
     "end_time": "2018-04-21T05:08:03.006053Z",
     "start_time": "2018-04-21T05:07:58.885263Z"
    }
   },
   "outputs": [],
   "source": [
    "data = read_csv('kddcup.data')"
   ]
  },
  {
   "cell_type": "code",
   "execution_count": 8,
   "metadata": {
    "ExecuteTime": {
     "end_time": "2018-04-21T05:08:03.033239Z",
     "start_time": "2018-04-21T05:08:03.008491Z"
    }
   },
   "outputs": [],
   "source": [
    "cloumnnames = [\"duration\",\n",
    "               \"protocol_type\", \n",
    "               \"service\",\n",
    "               \"flag\",\n",
    "               \"src_bytes\",\n",
    "               \"dst_bytes\",\n",
    "               \"land\",\n",
    "               \"wrong_fragment\",\n",
    "               \"urgent\",\n",
    "               \"hot\",\n",
    "               \"num_failed_logins\",\n",
    "               \"logged_in\",\n",
    "               \"num_compromised\",\n",
    "               \"root_shell\",\n",
    "               \"su_attempted\",\n",
    "               \"num_root\",\n",
    "               \"num_file_creations\",\n",
    "               \"num_shells\",\n",
    "               \"num_access_files\",\n",
    "               \"num_outbound_cmds\",\n",
    "               \"is_host_login\",\n",
    "               \"is_guest_login\",\n",
    "               \"count\",\n",
    "               \"srv_count\",\n",
    "               \"serror_rate\",\n",
    "               \"srv_serror_rate\",\n",
    "               \"rerror_rate\",\n",
    "               \"srv_rerror_rate\",\n",
    "               \"same_srv_rate\",\n",
    "               \"diff_srv_rate\",\n",
    "               \"srv_diff_host_rate\",\n",
    "               \"dst_host_count\",\n",
    "               \"dst_host_srv_count\",\n",
    "               \"dst_host_same_srv_rate\",\n",
    "               \"dst_host_diff_srv_rate\",\n",
    "               \"dst_host_same_src_port_rate\",\n",
    "               \"dst_host_srv_diff_host_rate\",\n",
    "               \"dst_host_serror_rate\",\n",
    "               \"dst_host_srv_serror_rate\",\n",
    "               \"dst_host_rerror_rate\",\n",
    "               \"dst_host_srv_rerror_rate\",\n",
    "               \"intrusion_type\"]"
   ]
  },
  {
   "cell_type": "code",
   "execution_count": 9,
   "metadata": {
    "ExecuteTime": {
     "end_time": "2018-04-21T05:08:03.521192Z",
     "start_time": "2018-04-21T05:08:03.035558Z"
    }
   },
   "outputs": [],
   "source": [
    "for old, new in zip(['_c%d'%(i) for i in range(0, 42)], cloumnnames):\n",
    "    data = (data.withColumnRenamed(old, new))\n",
    "data = (data.withColumn('duration', data.duration.cast('float'))\n",
    "       .withColumn('src_bytes', data.src_bytes.cast('float'))\n",
    "       .withColumn('dst_bytes', data.dst_bytes.cast('float'))\n",
    "       .withColumn('num_failed_logins', data.num_failed_logins.cast('float')))"
   ]
  },
  {
   "cell_type": "code",
   "execution_count": 10,
   "metadata": {
    "ExecuteTime": {
     "end_time": "2018-04-21T05:08:03.574800Z",
     "start_time": "2018-04-21T05:08:03.523652Z"
    },
    "scrolled": true
   },
   "outputs": [],
   "source": [
    "data = data.dropna()"
   ]
  },
  {
   "cell_type": "code",
   "execution_count": 11,
   "metadata": {
    "ExecuteTime": {
     "end_time": "2018-04-21T05:08:03.580177Z",
     "start_time": "2018-04-21T05:08:03.577381Z"
    }
   },
   "outputs": [],
   "source": [
    "#data = data.sample(False, 0.01, 42)"
   ]
  },
  {
   "cell_type": "markdown",
   "metadata": {},
   "source": [
    "### (1) For continuous attributes ‘duration’, ‘src_bytes’, ‘dst_bytes’, ‘num_failed_logins’, please calculate their mean, median, mode, standard deviation, respectively"
   ]
  },
  {
   "cell_type": "code",
   "execution_count": 12,
   "metadata": {
    "ExecuteTime": {
     "end_time": "2018-04-21T05:08:03.587189Z",
     "start_time": "2018-04-21T05:08:03.582397Z"
    }
   },
   "outputs": [],
   "source": [
    "# def find_median(values_list):\n",
    "#     try:\n",
    "#         median = np.median(values_list) #get the median of values in a list in each row\n",
    "#         return round(float(median),2)\n",
    "#     except Exception:\n",
    "#         return None #if there is anything wrong with the given values\n",
    "\n",
    "# median_finder = udf(find_median, FloatType())"
   ]
  },
  {
   "cell_type": "code",
   "execution_count": 13,
   "metadata": {
    "ExecuteTime": {
     "end_time": "2018-04-21T05:08:03.593257Z",
     "start_time": "2018-04-21T05:08:03.590245Z"
    }
   },
   "outputs": [],
   "source": [
    "q1_feature_nemaes = ['duration', 'src_bytes', 'dst_bytes', 'num_failed_logins']"
   ]
  },
  {
   "cell_type": "code",
   "execution_count": 14,
   "metadata": {
    "ExecuteTime": {
     "end_time": "2018-04-21T05:08:03.633491Z",
     "start_time": "2018-04-21T05:08:03.595675Z"
    }
   },
   "outputs": [],
   "source": [
    "q1 = data.select('duration', 'src_bytes', 'dst_bytes', 'num_failed_logins')"
   ]
  },
  {
   "cell_type": "code",
   "execution_count": null,
   "metadata": {
    "ExecuteTime": {
     "start_time": "2018-04-21T05:07:55.508Z"
    }
   },
   "outputs": [],
   "source": [
    "print(\"%s\"%(q1.describe().show()), file=file)"
   ]
  },
  {
   "cell_type": "code",
   "execution_count": null,
   "metadata": {
    "ExecuteTime": {
     "start_time": "2018-04-21T05:07:55.512Z"
    }
   },
   "outputs": [],
   "source": [
    "for f in q1_feature_nemaes:\n",
    "    print('[Q1] %s median:%f'%(f, q1.approxQuantile(f, [0.5], 0.25)[0]), file=file)"
   ]
  },
  {
   "cell_type": "code",
   "execution_count": null,
   "metadata": {
    "ExecuteTime": {
     "start_time": "2018-04-21T05:07:55.515Z"
    }
   },
   "outputs": [],
   "source": [
    "for f in q1_feature_nemaes:\n",
    "    print('[Q1] %s mode is'%(f), q1.select(f).rdd\n",
    "    .map(lambda x: (str(x[0]), 1))\n",
    "    .reduceByKey(lambda a,b:a+b)\n",
    "    .sortBy(lambda w: w[1], ascending=False)\n",
    "    .take(1), file=file)"
   ]
  },
  {
   "cell_type": "markdown",
   "metadata": {},
   "source": [
    "### (2) For symbolic attributes ‘protocol_type’, ‘service’, ‘flag’, ‘logged_in’, ‘intrusion_type’, output the list of each value and the corresponding frequency count, sorted in descending order of the count\n"
   ]
  },
  {
   "cell_type": "code",
   "execution_count": null,
   "metadata": {
    "ExecuteTime": {
     "start_time": "2018-04-21T05:07:55.559Z"
    }
   },
   "outputs": [],
   "source": [
    "q2_feature_names = ['protocol_type', 'service', 'flag', 'logged_in', 'intrusion_type']"
   ]
  },
  {
   "cell_type": "code",
   "execution_count": null,
   "metadata": {
    "ExecuteTime": {
     "start_time": "2018-04-21T05:07:55.562Z"
    }
   },
   "outputs": [],
   "source": [
    "# (data.select('protocol_type').rdd\n",
    "# .map(lambda x: (x[0], 1))\n",
    "# .reduceByKey(lambda a,b:a+b)\n",
    "# .sortBy(lambda w: w[1], ascending=False)\n",
    "# .collect())"
   ]
  },
  {
   "cell_type": "code",
   "execution_count": null,
   "metadata": {
    "ExecuteTime": {
     "start_time": "2018-04-21T05:07:55.565Z"
    }
   },
   "outputs": [],
   "source": [
    "for f in q2_feature_names:\n",
    "    r = (data.select(f).rdd\n",
    "        .map(lambda x: (x[0], 1))\n",
    "        .reduceByKey(lambda a,b:a+b)\n",
    "        .sortBy(lambda w: w[1], ascending=False)\n",
    "        .collect())\n",
    "    print('[Q2] column:%s value and the corresponding frequency count'%(f), r, file=file)"
   ]
  },
  {
   "cell_type": "markdown",
   "metadata": {},
   "source": [
    "### (3) Output the list of the most frequently used ‘service’ for each ‘intrusion_type’, sorted in descending order of the occurrence frequency"
   ]
  },
  {
   "cell_type": "code",
   "execution_count": null,
   "metadata": {
    "ExecuteTime": {
     "start_time": "2018-04-21T05:07:55.607Z"
    }
   },
   "outputs": [],
   "source": [
    "q3_result =  (data.select('service', 'intrusion_type').rdd\n",
    ".map(lambda x: ((x[0], x[1]), 1))\n",
    ".reduceByKey(lambda a,b: a+b)\n",
    ".map(lambda x: (x[0][1], (x[0][0], x[1])))\n",
    ".groupByKey()\n",
    ".map(lambda x: (x[0], sorted(x[1], key=lambda x: x[1], reverse=True)[0]))\n",
    ".collect())\n",
    "for intrusion_type, r in q3_result:\n",
    "    print('[Q3]intrusion_type:[%15s],  most frequently used service is:%20s'%(intrusion_type, str(r)),\n",
    "         file=file)"
   ]
  },
  {
   "attachments": {},
   "cell_type": "markdown",
   "metadata": {},
   "source": [
    "### (4) If we regard the values of ‘src_bytes’ , calculate the correlation coefficient of src_bytes and ‘num_failed_logins’ by the following formula:\n"
   ]
  },
  {
   "cell_type": "code",
   "execution_count": null,
   "metadata": {
    "ExecuteTime": {
     "start_time": "2018-04-21T05:07:55.650Z"
    }
   },
   "outputs": [],
   "source": [
    "q4 = data.select('src_bytes', 'num_failed_logins')"
   ]
  },
  {
   "cell_type": "code",
   "execution_count": null,
   "metadata": {
    "ExecuteTime": {
     "start_time": "2018-04-21T05:07:55.653Z"
    }
   },
   "outputs": [],
   "source": [
    "#q4 = (q4.withColumn('is_normal', q4.intrusion_type == 'normal.'))\n",
    "#q4 = q4.withColumn('is_normal', q4.is_normal.cast('int'))"
   ]
  },
  {
   "cell_type": "code",
   "execution_count": null,
   "metadata": {
    "ExecuteTime": {
     "start_time": "2018-04-21T05:07:55.655Z"
    }
   },
   "outputs": [],
   "source": [
    "corr_coe = q4.collect()"
   ]
  },
  {
   "cell_type": "code",
   "execution_count": null,
   "metadata": {
    "ExecuteTime": {
     "start_time": "2018-04-21T05:07:55.658Z"
    }
   },
   "outputs": [],
   "source": [
    "corr_coe = np.array(corr_coe)"
   ]
  },
  {
   "cell_type": "code",
   "execution_count": null,
   "metadata": {
    "ExecuteTime": {
     "start_time": "2018-04-21T05:07:55.660Z"
    }
   },
   "outputs": [],
   "source": [
    "q4_r = np.corrcoef(corr_coe[:,0], corr_coe[:, 1])"
   ]
  },
  {
   "cell_type": "code",
   "execution_count": null,
   "metadata": {
    "ExecuteTime": {
     "start_time": "2018-04-21T05:07:55.663Z"
    }
   },
   "outputs": [],
   "source": [
    "q4_r[0, 1]"
   ]
  },
  {
   "cell_type": "code",
   "execution_count": null,
   "metadata": {
    "ExecuteTime": {
     "start_time": "2018-04-21T05:07:55.666Z"
    }
   },
   "outputs": [],
   "source": [
    "print('[Q4] correlation coefficient is %f'%(q4_r[0, 1]), file=file) "
   ]
  },
  {
   "cell_type": "markdown",
   "metadata": {},
   "source": [
    "### bonus\n",
    "(5) Which ‘intrusion type’ has the highest value for each of the following fields: \n",
    "\n",
    "same_srv_rate\n",
    "\n",
    "diff_srv_rate\n",
    "\n",
    "srv_diff_host_rate\n",
    "\n",
    "dst_host_count\n",
    "\n",
    "dst_host_srv_count\n",
    "\n",
    "dst_host_same_srv_rate\n",
    "\n",
    "dst_host_diff_srv_rate\n"
   ]
  },
  {
   "cell_type": "code",
   "execution_count": null,
   "metadata": {
    "ExecuteTime": {
     "start_time": "2018-04-21T05:07:55.715Z"
    }
   },
   "outputs": [],
   "source": [
    "#q5 = data.select('intrusion_type', 'same_srv_rate')"
   ]
  },
  {
   "cell_type": "code",
   "execution_count": null,
   "metadata": {
    "ExecuteTime": {
     "start_time": "2018-04-21T05:07:55.717Z"
    }
   },
   "outputs": [],
   "source": [
    "file.close()"
   ]
  },
  {
   "cell_type": "code",
   "execution_count": null,
   "metadata": {
    "ExecuteTime": {
     "start_time": "2018-04-21T05:07:55.719Z"
    }
   },
   "outputs": [],
   "source": [
    "sc.stop()"
   ]
  },
  {
   "cell_type": "code",
   "execution_count": null,
   "metadata": {
    "ExecuteTime": {
     "start_time": "2018-04-21T05:07:55.722Z"
    }
   },
   "outputs": [],
   "source": [
    "print('cost {:.3f} minutes'.format((time.time()-t0)/60))"
   ]
  },
  {
   "cell_type": "code",
   "execution_count": null,
   "metadata": {},
   "outputs": [],
   "source": []
  }
 ],
 "metadata": {
  "kernelspec": {
   "display_name": "Python 3",
   "language": "python",
   "name": "python3"
  },
  "language_info": {
   "codemirror_mode": {
    "name": "ipython",
    "version": 3
   },
   "file_extension": ".py",
   "mimetype": "text/x-python",
   "name": "python",
   "nbconvert_exporter": "python",
   "pygments_lexer": "ipython3",
   "version": "3.6.5"
  },
  "latex_envs": {
   "LaTeX_envs_menu_present": true,
   "autoclose": false,
   "autocomplete": true,
   "bibliofile": "biblio.bib",
   "cite_by": "apalike",
   "current_citInitial": 1,
   "eqLabelWithNumbers": true,
   "eqNumInitial": 1,
   "hotkeys": {
    "equation": "Ctrl-E",
    "itemize": "Ctrl-I"
   },
   "labels_anchors": false,
   "latex_user_defs": false,
   "report_style_numbering": false,
   "user_envs_cfg": false
  },
  "toc": {
   "nav_menu": {},
   "number_sections": true,
   "sideBar": true,
   "skip_h1_title": false,
   "title_cell": "Table of Contents",
   "title_sidebar": "Contents",
   "toc_cell": false,
   "toc_position": {},
   "toc_section_display": true,
   "toc_window_display": false
  },
  "varInspector": {
   "cols": {
    "lenName": 16,
    "lenType": 16,
    "lenVar": 40
   },
   "kernels_config": {
    "python": {
     "delete_cmd_postfix": "",
     "delete_cmd_prefix": "del ",
     "library": "var_list.py",
     "varRefreshCmd": "print(var_dic_list())"
    },
    "r": {
     "delete_cmd_postfix": ") ",
     "delete_cmd_prefix": "rm(",
     "library": "var_list.r",
     "varRefreshCmd": "cat(var_dic_list()) "
    }
   },
   "types_to_exclude": [
    "module",
    "function",
    "builtin_function_or_method",
    "instance",
    "_Feature"
   ],
   "window_display": false
  }
 },
 "nbformat": 4,
 "nbformat_minor": 2
}
