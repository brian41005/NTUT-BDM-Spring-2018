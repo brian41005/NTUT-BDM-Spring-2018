{
 "cells": [
  {
   "cell_type": "markdown",
   "metadata": {},
   "source": [
    "## 103590450 四資四 馬茂源"
   ]
  },
  {
   "cell_type": "code",
   "execution_count": 1,
   "metadata": {
    "ExecuteTime": {
     "end_time": "2018-03-20T03:06:03.056040Z",
     "start_time": "2018-03-20T03:06:02.801346Z"
    }
   },
   "outputs": [],
   "source": [
    "from pyspark import SparkConf, SparkContext, SQLContext\n",
    "import pandas as pd"
   ]
  },
  {
   "cell_type": "code",
   "execution_count": 2,
   "metadata": {
    "ExecuteTime": {
     "end_time": "2018-03-20T03:06:03.059550Z",
     "start_time": "2018-03-20T03:06:03.057043Z"
    }
   },
   "outputs": [],
   "source": [
    "conf = (SparkConf()\n",
    "        #.setMaster(\"spark://192.168.1.104:7077\")\n",
    "        .setMaster(\"local\")\n",
    "        .setAppName(\"hw1\")\n",
    "        .set(\"spark.executor.memory\", \"1g\"))"
   ]
  },
  {
   "cell_type": "code",
   "execution_count": 3,
   "metadata": {
    "ExecuteTime": {
     "end_time": "2018-03-20T03:06:04.889037Z",
     "start_time": "2018-03-20T03:06:03.060556Z"
    }
   },
   "outputs": [],
   "source": [
    "sc = SparkContext(conf = conf)"
   ]
  },
  {
   "cell_type": "code",
   "execution_count": 4,
   "metadata": {
    "ExecuteTime": {
     "end_time": "2018-03-20T03:06:04.951886Z",
     "start_time": "2018-03-20T03:06:04.890040Z"
    }
   },
   "outputs": [],
   "source": [
    "sql_sc = SQLContext(sc)"
   ]
  },
  {
   "cell_type": "code",
   "execution_count": 5,
   "metadata": {
    "ExecuteTime": {
     "end_time": "2018-03-20T03:06:09.917900Z",
     "start_time": "2018-03-20T03:06:04.952891Z"
    },
    "scrolled": false
   },
   "outputs": [],
   "source": [
    "data = sql_sc.read.load(\n",
    "    'file:///C:/Users/Brian Ma/Documents/106_2/BDM/NTUT-BDM-Spring-2018/hw1/household_power_consumption.csv', \n",
    "    format='com.databricks.spark.csv', \n",
    "    header='true', \n",
    "    delimiter = ';',\n",
    "    inferSchema='true')"
   ]
  },
  {
   "cell_type": "code",
   "execution_count": 6,
   "metadata": {
    "ExecuteTime": {
     "end_time": "2018-03-20T03:06:11.748426Z",
     "start_time": "2018-03-20T03:06:09.919090Z"
    }
   },
   "outputs": [
    {
     "data": {
      "text/plain": [
       "2075259"
      ]
     },
     "execution_count": 6,
     "metadata": {},
     "output_type": "execute_result"
    }
   ],
   "source": [
    "data.count()"
   ]
  },
  {
   "cell_type": "code",
   "execution_count": 7,
   "metadata": {
    "ExecuteTime": {
     "end_time": "2018-03-20T03:06:11.781189Z",
     "start_time": "2018-03-20T03:06:11.748426Z"
    }
   },
   "outputs": [
    {
     "data": {
      "text/plain": [
       "[('Date', 'string'),\n",
       " ('Time', 'string'),\n",
       " ('Global_active_power', 'string'),\n",
       " ('Global_reactive_power', 'string'),\n",
       " ('Voltage', 'string'),\n",
       " ('Global_intensity', 'string'),\n",
       " ('Sub_metering_1', 'string'),\n",
       " ('Sub_metering_2', 'string'),\n",
       " ('Sub_metering_3', 'double')]"
      ]
     },
     "execution_count": 7,
     "metadata": {},
     "output_type": "execute_result"
    }
   ],
   "source": [
    "data.dtypes"
   ]
  },
  {
   "cell_type": "code",
   "execution_count": 8,
   "metadata": {
    "ExecuteTime": {
     "end_time": "2018-03-20T03:06:11.932238Z",
     "start_time": "2018-03-20T03:06:11.781189Z"
    }
   },
   "outputs": [
    {
     "data": {
      "text/plain": [
       "[('Date', 'date'),\n",
       " ('Time', 'timestamp'),\n",
       " ('Global_active_power', 'float'),\n",
       " ('Global_reactive_power', 'float'),\n",
       " ('Voltage', 'float'),\n",
       " ('Global_intensity', 'float'),\n",
       " ('Sub_metering_1', 'float'),\n",
       " ('Sub_metering_2', 'float'),\n",
       " ('Sub_metering_3', 'float')]"
      ]
     },
     "execution_count": 8,
     "metadata": {},
     "output_type": "execute_result"
    }
   ],
   "source": [
    "data = (data.withColumn('Date', data.Date.cast('date'))\n",
    "        .withColumn('Time', data.Time.cast('timestamp'))\n",
    "        .withColumn('Global_active_power', data.Global_active_power.cast('float'))\n",
    "        .withColumn('Global_reactive_power', data.Global_reactive_power.cast('float'))\n",
    "        .withColumn('Voltage', data.Voltage.cast('float'))\n",
    "        .withColumn('Global_intensity', data.Global_intensity.cast('float'))\n",
    "        .withColumn('Sub_metering_1', data.Sub_metering_1.cast('float'))\n",
    "        .withColumn('Sub_metering_2', data.Sub_metering_2.cast('float'))\n",
    "        .withColumn('Sub_metering_3', data.Sub_metering_3.cast('float')))\n",
    "data.dtypes"
   ]
  },
  {
   "cell_type": "code",
   "execution_count": 9,
   "metadata": {
    "ExecuteTime": {
     "end_time": "2018-03-20T03:06:11.948978Z",
     "start_time": "2018-03-20T03:06:11.933302Z"
    }
   },
   "outputs": [],
   "source": [
    "data = data.drop('Date', 'Time', \n",
    "        'Sub_metering_1', \n",
    "        'Sub_metering_2', \n",
    "        'Sub_metering_3')"
   ]
  },
  {
   "cell_type": "markdown",
   "metadata": {},
   "source": [
    "1. Output the **minimum**, **maximum**, and **count** of the columns:`Global_active_power`, `Global_reactive_power`, `Voltage`, and `Global_intensity`\n",
    "2. Output the **mean** and **standard deviation** of these columns\n"
   ]
  },
  {
   "cell_type": "code",
   "execution_count": 10,
   "metadata": {
    "ExecuteTime": {
     "end_time": "2018-03-20T03:06:11.952489Z",
     "start_time": "2018-03-20T03:06:11.949980Z"
    }
   },
   "outputs": [],
   "source": [
    "features = ['Global_active_power', 'Global_reactive_power', 'Voltage', 'Global_intensity']"
   ]
  },
  {
   "cell_type": "code",
   "execution_count": 11,
   "metadata": {
    "ExecuteTime": {
     "end_time": "2018-03-20T03:06:15.608368Z",
     "start_time": "2018-03-20T03:06:11.953492Z"
    }
   },
   "outputs": [
    {
     "name": "stdout",
     "output_type": "stream",
     "text": [
      "+-------+-------------------+---------------------+------------------+-----------------+\n",
      "|summary|Global_active_power|Global_reactive_power|           Voltage| Global_intensity|\n",
      "+-------+-------------------+---------------------+------------------+-----------------+\n",
      "|  count|            2049280|              2049280|           2049280|          2049280|\n",
      "|   mean| 1.0916150366540094|   0.1237144765251571|240.83985796672414|4.627759313004169|\n",
      "| stddev| 1.0572941611179578|  0.11272197958641265| 3.239986661206364|4.444396258981228|\n",
      "|    min|              0.076|                  0.0|             223.2|              0.2|\n",
      "|    max|             11.122|                 1.39|            254.15|             48.4|\n",
      "+-------+-------------------+---------------------+------------------+-----------------+\n",
      "\n"
     ]
    }
   ],
   "source": [
    "summary = data.select(features).describe()\n",
    "summary.show()"
   ]
  },
  {
   "cell_type": "code",
   "execution_count": 12,
   "metadata": {
    "ExecuteTime": {
     "end_time": "2018-03-20T03:06:16.681271Z",
     "start_time": "2018-03-20T03:06:15.608368Z"
    }
   },
   "outputs": [
    {
     "data": {
      "text/html": [
       "<div>\n",
       "<style scoped>\n",
       "    .dataframe tbody tr th:only-of-type {\n",
       "        vertical-align: middle;\n",
       "    }\n",
       "\n",
       "    .dataframe tbody tr th {\n",
       "        vertical-align: top;\n",
       "    }\n",
       "\n",
       "    .dataframe thead th {\n",
       "        text-align: right;\n",
       "    }\n",
       "</style>\n",
       "<table border=\"1\" class=\"dataframe\">\n",
       "  <thead>\n",
       "    <tr style=\"text-align: right;\">\n",
       "      <th></th>\n",
       "      <th>Global_active_power</th>\n",
       "      <th>Global_reactive_power</th>\n",
       "      <th>Voltage</th>\n",
       "      <th>Global_intensity</th>\n",
       "    </tr>\n",
       "    <tr>\n",
       "      <th>summary</th>\n",
       "      <th></th>\n",
       "      <th></th>\n",
       "      <th></th>\n",
       "      <th></th>\n",
       "    </tr>\n",
       "  </thead>\n",
       "  <tbody>\n",
       "    <tr>\n",
       "      <th>min</th>\n",
       "      <td>0.076</td>\n",
       "      <td>0.00</td>\n",
       "      <td>223.20</td>\n",
       "      <td>0.2</td>\n",
       "    </tr>\n",
       "    <tr>\n",
       "      <th>max</th>\n",
       "      <td>11.122</td>\n",
       "      <td>1.39</td>\n",
       "      <td>254.15</td>\n",
       "      <td>48.4</td>\n",
       "    </tr>\n",
       "  </tbody>\n",
       "</table>\n",
       "</div>"
      ],
      "text/plain": [
       "         Global_active_power  Global_reactive_power  Voltage  Global_intensity\n",
       "summary                                                                       \n",
       "min                    0.076                   0.00   223.20               0.2\n",
       "max                   11.122                   1.39   254.15              48.4"
      ]
     },
     "execution_count": 12,
     "metadata": {},
     "output_type": "execute_result"
    }
   ],
   "source": [
    "minmax = summary.toPandas().set_index('summary').loc[['min', 'max']].apply(pd.to_numeric)\n",
    "minmax"
   ]
  },
  {
   "cell_type": "code",
   "execution_count": 13,
   "metadata": {
    "ExecuteTime": {
     "end_time": "2018-03-20T03:06:16.716040Z",
     "start_time": "2018-03-20T03:06:16.681271Z"
    }
   },
   "outputs": [
    {
     "data": {
      "text/html": [
       "<div>\n",
       "<style scoped>\n",
       "    .dataframe tbody tr th:only-of-type {\n",
       "        vertical-align: middle;\n",
       "    }\n",
       "\n",
       "    .dataframe tbody tr th {\n",
       "        vertical-align: top;\n",
       "    }\n",
       "\n",
       "    .dataframe thead th {\n",
       "        text-align: right;\n",
       "    }\n",
       "</style>\n",
       "<table border=\"1\" class=\"dataframe\">\n",
       "  <thead>\n",
       "    <tr style=\"text-align: right;\">\n",
       "      <th></th>\n",
       "      <th>Global_active_power</th>\n",
       "      <th>Global_reactive_power</th>\n",
       "      <th>Voltage</th>\n",
       "      <th>Global_intensity</th>\n",
       "    </tr>\n",
       "    <tr>\n",
       "      <th>summary</th>\n",
       "      <th></th>\n",
       "      <th></th>\n",
       "      <th></th>\n",
       "      <th></th>\n",
       "    </tr>\n",
       "  </thead>\n",
       "  <tbody>\n",
       "    <tr>\n",
       "      <th>min</th>\n",
       "      <td>0.076</td>\n",
       "      <td>0.00</td>\n",
       "      <td>223.20</td>\n",
       "      <td>0.2</td>\n",
       "    </tr>\n",
       "    <tr>\n",
       "      <th>max</th>\n",
       "      <td>11.122</td>\n",
       "      <td>1.39</td>\n",
       "      <td>254.15</td>\n",
       "      <td>48.4</td>\n",
       "    </tr>\n",
       "  </tbody>\n",
       "</table>\n",
       "</div>"
      ],
      "text/plain": [
       "         Global_active_power  Global_reactive_power  Voltage  Global_intensity\n",
       "summary                                                                       \n",
       "min                    0.076                   0.00   223.20               0.2\n",
       "max                   11.122                   1.39   254.15              48.4"
      ]
     },
     "execution_count": 13,
     "metadata": {},
     "output_type": "execute_result"
    }
   ],
   "source": [
    "minmax.loc[['min', 'max']]"
   ]
  },
  {
   "cell_type": "markdown",
   "metadata": {},
   "source": [
    "3 . Perform min-max normalization on the columns to generate normalized output"
   ]
  },
  {
   "cell_type": "code",
   "execution_count": 14,
   "metadata": {
    "ExecuteTime": {
     "end_time": "2018-03-20T03:06:24.513906Z",
     "start_time": "2018-03-20T03:06:16.716040Z"
    },
    "scrolled": false
   },
   "outputs": [
    {
     "name": "stdout",
     "output_type": "stream",
     "text": [
      "+-------------------+------------------------+\n",
      "|Global_active_power|norm_Global_active_power|\n",
      "+-------------------+------------------------+\n",
      "|              4.216|      0.3747963136075179|\n",
      "|               5.36|      0.4783632204883582|\n",
      "|              5.374|      0.4796306420857549|\n",
      "|              5.388|      0.4808980636831516|\n",
      "|              3.666|     0.32500451651039103|\n",
      "|               3.52|      0.3117870705166136|\n",
      "|              3.702|      0.3282636160352363|\n",
      "|                3.7|     0.32808256814083975|\n",
      "|              3.668|      0.3251855859889428|\n",
      "|              3.662|     0.32464239913744275|\n",
      "|              4.448|      0.3957993802483825|\n",
      "|              5.412|     0.48307081108915195|\n",
      "|              5.224|      0.4660510571348739|\n",
      "|              5.268|       0.470034412989771|\n",
      "|              4.054|      0.3601303549536367|\n",
      "|              3.384|     0.29947492874728454|\n",
      "|               3.27|     0.28915444332124873|\n",
      "|               3.43|     0.30363933249657815|\n",
      "|              3.266|     0.28879232594830045|\n",
      "|              3.728|      0.3306174113356331|\n",
      "+-------------------+------------------------+\n",
      "only showing top 20 rows\n",
      "\n",
      "+---------------------+--------------------------+\n",
      "|Global_reactive_power|norm_Global_reactive_power|\n",
      "+---------------------+--------------------------+\n",
      "|                0.418|       0.30071943355121206|\n",
      "|                0.436|        0.3136690572011385|\n",
      "|                0.498|        0.3582733783790534|\n",
      "|                0.502|       0.36115106061208163|\n",
      "|                0.528|        0.3798561130496238|\n",
      "|                0.522|       0.37553957897982154|\n",
      "|                 0.52|       0.37410070570252785|\n",
      "|                 0.52|       0.37410070570252785|\n",
      "|                 0.51|        0.3669064679591776|\n",
      "|                 0.51|        0.3669064679591776|\n",
      "|                0.498|        0.3582733783790534|\n",
      "|                 0.47|       0.33812949554525695|\n",
      "|                0.478|        0.3438848814518332|\n",
      "|                0.398|       0.28633093662399184|\n",
      "|                0.422|        0.3035971157842403|\n",
      "|                0.282|        0.2028777016152581|\n",
      "|                0.152|        0.1093525144693663|\n",
      "|                0.156|       0.11223021814291427|\n",
      "|                  0.0|                       0.0|\n",
      "|                  0.0|                       0.0|\n",
      "+---------------------+--------------------------+\n",
      "only showing top 20 rows\n",
      "\n",
      "+-------+-------------------+\n",
      "|Voltage|       norm_Voltage|\n",
      "+-------+-------------------+\n",
      "| 234.84| 0.3760903501741722|\n",
      "| 233.63|0.33699531123788384|\n",
      "| 233.29|0.32600947612707004|\n",
      "| 233.74| 0.3405494505061088|\n",
      "| 235.68| 0.4032307811237885|\n",
      "| 235.02|0.38190643852862494|\n",
      "| 235.09| 0.3841678946006665|\n",
      "| 235.22| 0.3883683754669832|\n",
      "| 233.99| 0.3486269949326032|\n",
      "| 233.86|0.34442651406628655|\n",
      "| 232.86|0.31211633636030917|\n",
      "| 232.78|0.30953146298212864|\n",
      "| 232.99| 0.3163168172266258|\n",
      "| 232.91|0.31373194384844527|\n",
      "| 235.24|0.38901471706507484|\n",
      "| 237.14| 0.4504038575007574|\n",
      "| 236.73|  0.437156566317902|\n",
      "| 237.06|0.44781898412257687|\n",
      "| 237.13|0.45008093320880466|\n",
      "| 235.84| 0.4084005278801496|\n",
      "+-------+-------------------+\n",
      "only showing top 20 rows\n",
      "\n",
      "+----------------+---------------------+\n",
      "|Global_intensity|norm_Global_intensity|\n",
      "+----------------+---------------------+\n",
      "|            18.4|    0.377593353081541|\n",
      "|            23.0|  0.47302904564315357|\n",
      "|            23.0|  0.47302904564315357|\n",
      "|            23.0|  0.47302904564315357|\n",
      "|            15.8|   0.3236514562393126|\n",
      "|            15.0|   0.3070539419087137|\n",
      "|            15.8|   0.3236514562393126|\n",
      "|            15.8|   0.3236514562393126|\n",
      "|            15.8|   0.3236514562393126|\n",
      "|            15.8|   0.3236514562393126|\n",
      "|            19.6|   0.4024896344703263|\n",
      "|            23.2|  0.47717843906513396|\n",
      "|            22.4|   0.4605809049487609|\n",
      "|            22.6|  0.46473029837074126|\n",
      "|            17.6|  0.36099585853671634|\n",
      "|            14.2|   0.2904564275781149|\n",
      "|            13.8|   0.2821576803057026|\n",
      "|            14.4|  0.29460580121432106|\n",
      "|            13.8|   0.2821576803057026|\n",
      "|            16.4|  0.33609957714793104|\n",
      "+----------------+---------------------+\n",
      "only showing top 20 rows\n",
      "\n"
     ]
    }
   ],
   "source": [
    "for feature in features:\n",
    "    min = minmax[feature].loc['min']\n",
    "    max = minmax[feature].loc['max'] \n",
    "    (data.withColumn('norm_' + feature, (data[feature]-min)/(max-min))\n",
    "         .select(feature, 'norm_' + feature)\n",
    "     .   show())"
   ]
  },
  {
   "cell_type": "code",
   "execution_count": null,
   "metadata": {},
   "outputs": [],
   "source": []
  }
 ],
 "metadata": {
  "kernelspec": {
   "display_name": "Python 3",
   "language": "python",
   "name": "python3"
  },
  "language_info": {
   "codemirror_mode": {
    "name": "ipython",
    "version": 3
   },
   "file_extension": ".py",
   "mimetype": "text/x-python",
   "name": "python",
   "nbconvert_exporter": "python",
   "pygments_lexer": "ipython3",
   "version": "3.6.4"
  },
  "toc": {
   "nav_menu": {},
   "number_sections": false,
   "sideBar": true,
   "skip_h1_title": false,
   "title_cell": "Table of Contents",
   "title_sidebar": "Contents",
   "toc_cell": false,
   "toc_position": {
    "height": "calc(100% - 180px)",
    "left": "10px",
    "top": "150px",
    "width": "307px"
   },
   "toc_section_display": true,
   "toc_window_display": false
  }
 },
 "nbformat": 4,
 "nbformat_minor": 2
}
